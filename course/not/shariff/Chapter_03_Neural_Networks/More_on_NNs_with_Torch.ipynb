{
  "nbformat": 4,
  "nbformat_minor": 0,
  "metadata": {
    "colab": {
      "provenance": [],
      "gpuType": "T4"
    },
    "kernelspec": {
      "name": "python3",
      "display_name": "Python 3"
    },
    "language_info": {
      "name": "python"
    },
    "accelerator": "GPU"
  },
  "cells": [
    {
      "cell_type": "markdown",
      "source": [
        "# More on Neural Networs with PyTorch\n",
        "\n",
        "**CE477: Machine Learning**\n",
        "\n",
        "__Instructor:__ Dr. Ali Sharifi-Zarchi\n",
        "\n",
        "__Author:__ Ramtin Moslemi\n",
        "\n",
        "[![Open In Colab](https://colab.research.google.com/assets/colab-badge.svg)](https://colab.research.google.com/github/SharifiZarchi/Introduction_to_Machine_Learning/blob/main/Jupyter_Notebooks/Chapter_03_Neural_Networks/More_on_NNs_with_Torch.ipynb)\n",
        "[![Open In kaggle](https://kaggle.com/static/images/open-in-kaggle.svg)](https://kaggle.com/kernels/welcome?src=https://raw.githubusercontent.com/SharifiZarchi/Introduction_to_Machine_Learning/main/Jupyter_Notebooks/Chapter_03_Neural_Networks/More_on_NNs_with_Torch.ipynb)\n",
        "\n",
        "\n",
        "\n",
        "---\n",
        "\n",
        "## Notebook Objectives\n",
        "\n",
        "In this notebook we are going to explore some of the more advanced features of PyTorch.\n"
      ],
      "metadata": {
        "id": "N3q3WK-FCcNJ"
      }
    },
    {
      "cell_type": "markdown",
      "source": [
        "## Imports and Setup"
      ],
      "metadata": {
        "id": "fp-rOMnHi505"
      }
    },
    {
      "cell_type": "markdown",
      "source": [
        "In this notebook we are going to work with the [MedMNIST](https://medmnist.com/) dataset. For simplicity, we are going to install medmnist so that it would be easier to work with it."
      ],
      "metadata": {
        "id": "7zbVxFHgi7we"
      }
    },
    {
      "cell_type": "code",
      "source": [
        "! pip install medmnist"
      ],
      "metadata": {
        "id": "EM0AZZ_pMDtA"
      },
      "execution_count": null,
      "outputs": []
    },
    {
      "cell_type": "markdown",
      "source": [
        "Once again we must import our libraries. Notice that we are going to use `ChestMNIST` which is a dataset of *Chest X-Rays*."
      ],
      "metadata": {
        "id": "OscA3tKGjW7b"
      }
    },
    {
      "cell_type": "code",
      "source": [
        "import torch\n",
        "import torch.nn as nn\n",
        "import torch.optim as optim\n",
        "from torchvision import transforms, utils\n",
        "from torch.utils.data import Dataset, DataLoader, random_split\n",
        "\n",
        "import numpy as np\n",
        "from tqdm import trange\n",
        "from medmnist import ChestMNIST\n",
        "from matplotlib import pyplot as plt\n",
        "from sklearn.metrics import hamming_loss, accuracy_score, precision_recall_fscore_support, average_precision_score"
      ],
      "metadata": {
        "id": "-fRNfLoRQ2UW"
      },
      "execution_count": 2,
      "outputs": []
    },
    {
      "cell_type": "code",
      "source": [
        "# @title plotting helper function\n",
        "def plot_results(train_losses, val_losses):\n",
        "    plt.figure(figsize=(10, 5))\n",
        "    plt.plot(train_losses, label='Train Loss')\n",
        "    plt.plot(val_losses, label='Val Loss')\n",
        "    plt.xlabel('Epoch')\n",
        "    plt.ylabel('Loss')\n",
        "    plt.legend()\n",
        "    plt.show()"
      ],
      "metadata": {
        "cellView": "form",
        "id": "2-SxYbOjsfwg"
      },
      "execution_count": 3,
      "outputs": []
    },
    {
      "cell_type": "markdown",
      "source": [
        "To accelerate operations in the neural network, we move it to the GPU or MPS (for Apple silicon) if available."
      ],
      "metadata": {
        "id": "0eRYCERtkv0x"
      }
    },
    {
      "cell_type": "code",
      "source": [
        "# Get cpu, gpu or mps device for training.\n",
        "device = (\n",
        "    \"cuda\"\n",
        "    if torch.cuda.is_available()\n",
        "    else \"mps\"\n",
        "    if torch.backends.mps.is_available()\n",
        "    else \"cpu\"\n",
        ")\n",
        "print(f\"Using {device} device\")"
      ],
      "metadata": {
        "colab": {
          "base_uri": "https://localhost:8080/"
        },
        "id": "RItckQLYktwY",
        "outputId": "d9f05422-dea0-4d6c-e00f-78bb71bb817d"
      },
      "execution_count": 4,
      "outputs": [
        {
          "output_type": "stream",
          "name": "stdout",
          "text": [
            "Using cuda device\n"
          ]
        }
      ]
    },
    {
      "cell_type": "markdown",
      "source": [
        "# Loading the Data"
      ],
      "metadata": {
        "id": "yHoUcJA5jxaH"
      }
    },
    {
      "cell_type": "markdown",
      "source": [
        "To work with the data we must first download the dataset using `ChestMNIST`. We will normalize our data as well to get better results during training."
      ],
      "metadata": {
        "id": "tu5TKCGEjwVp"
      }
    },
    {
      "cell_type": "code",
      "source": [
        "transform = transforms.Compose([transforms.ToTensor(),\n",
        "                                transforms.Normalize((0.5,), (0.5,))])\n",
        "\n",
        "train_dataset = ChestMNIST(split='train', transform=transform, download=True)\n",
        "test_dataset = ChestMNIST(split='test', transform=transform, download=True)\n",
        "\n",
        "print(f'Train dataset size: {len(train_dataset)}')\n",
        "print(f'Test dataset size: {len(test_dataset)}')"
      ],
      "metadata": {
        "colab": {
          "base_uri": "https://localhost:8080/"
        },
        "id": "BBPItL0-O08w",
        "outputId": "1f06394a-7714-4d03-e084-c537546c7f0e"
      },
      "execution_count": 5,
      "outputs": [
        {
          "output_type": "stream",
          "name": "stdout",
          "text": [
            "Using downloaded and verified file: /root/.medmnist/chestmnist.npz\n",
            "Train dataset size: 78468\n",
            "Test dataset size: 22433\n"
          ]
        }
      ]
    },
    {
      "cell_type": "markdown",
      "source": [
        "Next we must get the dataloaders. Perhaps you recall from our [previous notebook](https://colab.research.google.com/github/SharifiZarchi/Introduction_to_Machine_Learning/blob/main/Jupyter_Notebooks/Chapter_03_Neural_Networks/NNs_with_torch.ipynb), we didn't use validation sets. However in this notebook we are going to learn how we can use validation sets in PyTorch using `random_split` from `torch.utils.data`. In order to keep the rest of the notebooks shorter and to the point, we will not use validation sets in later notebooks."
      ],
      "metadata": {
        "id": "y4yd5ZrIkHtj"
      }
    },
    {
      "cell_type": "code",
      "source": [
        "# Split the dataset into training and validation sets\n",
        "train_size = int(0.8 * len(train_dataset))\n",
        "val_size = len(train_dataset) - train_size\n",
        "train_dataset, val_dataset = random_split(train_dataset, [train_size, val_size])\n",
        "\n",
        "print(f'Train dataset size: {len(train_dataset)}')\n",
        "print(f'Validation dataset size: {len(val_dataset)}')\n",
        "print(f'Test dataset size: {len(test_dataset)}')"
      ],
      "metadata": {
        "colab": {
          "base_uri": "https://localhost:8080/"
        },
        "id": "gzSI2EUEk9W0",
        "outputId": "e2cb3aea-bae8-4e5b-f276-d6029828bd68"
      },
      "execution_count": 6,
      "outputs": [
        {
          "output_type": "stream",
          "name": "stdout",
          "text": [
            "Train dataset size: 62774\n",
            "Validation dataset size: 15694\n",
            "Test dataset size: 22433\n"
          ]
        }
      ]
    },
    {
      "cell_type": "markdown",
      "source": [
        "While we could now proceed with our datasets, since the [MedMNIST](https://medmnist.com/) dataset provides validation sets itself, we are going to use its data."
      ],
      "metadata": {
        "id": "0xR3EogKnwUe"
      }
    },
    {
      "cell_type": "code",
      "source": [
        "test_dataset = ChestMNIST(split='train', transform=transform, download=False)\n",
        "val_dataset = ChestMNIST(split='val', transform=transform, download=True)\n",
        "test_dataset = ChestMNIST(split='test', transform=transform, download=False)\n",
        "\n",
        "print(f'Training dataset size: {len(train_dataset)}')\n",
        "print(f'Validation dataset size: {len(val_dataset)}')\n",
        "print(f'Testing dataset size: {len(test_dataset)}')"
      ],
      "metadata": {
        "colab": {
          "base_uri": "https://localhost:8080/"
        },
        "id": "WhxNFkdFoBSh",
        "outputId": "b737fac5-de4c-4fc3-ecd5-f8c2a7e8b2dd"
      },
      "execution_count": 7,
      "outputs": [
        {
          "output_type": "stream",
          "name": "stdout",
          "text": [
            "Using downloaded and verified file: /root/.medmnist/chestmnist.npz\n",
            "Training dataset size: 62774\n",
            "Validation dataset size: 11219\n",
            "Testing dataset size: 22433\n"
          ]
        }
      ]
    },
    {
      "cell_type": "markdown",
      "source": [
        "Same as before, we can make the dataloaders. Notice that we don't shuffle our validation and test sets but we do shuffle the training set."
      ],
      "metadata": {
        "id": "J4xes8IxnJIX"
      }
    },
    {
      "cell_type": "code",
      "source": [
        "# Create the dataloaders\n",
        "train_loader = DataLoader(dataset=train_dataset, batch_size=64, shuffle=True)\n",
        "val_loader = DataLoader(dataset=val_dataset, batch_size=64, shuffle=False)\n",
        "test_loader = DataLoader(dataset=test_dataset, batch_size=64, shuffle=False)"
      ],
      "metadata": {
        "id": "CimDJfYIm_Zv"
      },
      "execution_count": 8,
      "outputs": []
    },
    {
      "cell_type": "markdown",
      "source": [
        "Now lets see the dimensions of the data."
      ],
      "metadata": {
        "id": "gGHRlxnympD1"
      }
    },
    {
      "cell_type": "code",
      "source": [
        "# Iterate over the data\n",
        "for x, y in test_loader:\n",
        "    print(f\"Shape of X [N, C, H, W]: {x.shape}\")\n",
        "    print(f\"Shape of y: {y.shape} {y.dtype}\")\n",
        "    break"
      ],
      "metadata": {
        "colab": {
          "base_uri": "https://localhost:8080/"
        },
        "id": "x-s-efVPmr11",
        "outputId": "405a5d88-f13a-4a28-d4eb-c29eb717101b"
      },
      "execution_count": 9,
      "outputs": [
        {
          "output_type": "stream",
          "name": "stdout",
          "text": [
            "Shape of X [N, C, H, W]: torch.Size([64, 1, 28, 28])\n",
            "Shape of y: torch.Size([64, 14]) torch.int64\n"
          ]
        }
      ]
    },
    {
      "cell_type": "markdown",
      "source": [
        "# Neural Network"
      ],
      "metadata": {
        "id": "R606nUhtkOZB"
      }
    },
    {
      "cell_type": "markdown",
      "source": [
        "This time we are going to use batch normalization layers and leaky relu activation functions."
      ],
      "metadata": {
        "id": "5GgfWlhskQjq"
      }
    },
    {
      "cell_type": "code",
      "source": [
        "class SimpleNN(nn.Module):\n",
        "    def __init__(self, input_size, num_classes):\n",
        "        super(SimpleNN, self).__init__()\n",
        "        self.network = nn.Sequential(\n",
        "            nn.Flatten(),\n",
        "            nn.Linear(input_size, 128),\n",
        "            nn.LeakyReLU(0.2),\n",
        "            nn.BatchNorm1d(128),\n",
        "            nn.Linear(128, 128),\n",
        "            nn.LeakyReLU(0.2),\n",
        "            nn.BatchNorm1d(128),\n",
        "            nn.Linear(128, 64),\n",
        "            nn.LeakyReLU(0.2),\n",
        "            nn.BatchNorm1d(64),\n",
        "            nn.Linear(64, 64),\n",
        "            nn.LeakyReLU(0.2),\n",
        "            nn.BatchNorm1d(64),\n",
        "            nn.Linear(64, num_classes)\n",
        "        )\n",
        "\n",
        "    def forward(self, x):\n",
        "        return self.network(x)\n"
      ],
      "metadata": {
        "id": "ayJR3yClFdto"
      },
      "execution_count": 10,
      "outputs": []
    },
    {
      "cell_type": "markdown",
      "source": [
        "# Training"
      ],
      "metadata": {
        "id": "uVjWx6mHooTA"
      }
    },
    {
      "cell_type": "markdown",
      "source": [
        "To implement our training code more clearly, we are going to implement the following functions:\n",
        "\n",
        "\n",
        "*   `train_step`: By running this function we train the model for a single epoch.\n",
        "*   `test_step`: By running this function we will evaluate the models performance on the given dataloader without training the model.\n",
        "*   `train_model`: This function will use the aforementioned functions to fully train the model and evaluate the results.\n",
        "\n",
        "\n",
        "\n",
        "\n"
      ],
      "metadata": {
        "id": "NTzG0MnQopyr"
      }
    },
    {
      "cell_type": "code",
      "source": [
        "def train_step(model, criterion, optimizer, dataloader=train_loader, device=device):\n",
        "    running_loss = 0\n",
        "    # Move the model to training mode\n",
        "    model.train()\n",
        "    # Iterate over the dataloader\n",
        "    for x, y in dataloader:\n",
        "        # Move the datapoints to same device as the model\n",
        "        x, y = x.to(device), y.to(device)\n",
        "        # Predict the output and perform the forward pass\n",
        "        pred = model(x)\n",
        "        # Compute prediction error\n",
        "        loss = criterion(pred, y.float())\n",
        "        # Backpropagation\n",
        "        loss.backward()\n",
        "        # Update the model weights\n",
        "        optimizer.step()\n",
        "        # Clear the gradients\n",
        "        optimizer.zero_grad()\n",
        "        # Update the running loss\n",
        "        running_loss += loss.item()\n",
        "    # Calculate and return the average loss\n",
        "    return running_loss / len(dataloader)\n",
        "\n",
        "\n",
        "def test_step(model, criterion, dataloader=val_loader, device=device):\n",
        "    running_loss = 0\n",
        "    # Move the model to training mode\n",
        "    model.eval()\n",
        "    # Disable gradient calculation\n",
        "    with torch.no_grad():\n",
        "      # Iterate over the dataloader\n",
        "      for x, y in dataloader:\n",
        "          # Move the datapoints to same device as the model\n",
        "          x, y = x.to(device), y.to(device)\n",
        "          # Predict the output and perform the forward pass\n",
        "          pred = model(x)\n",
        "          # Compute prediction error\n",
        "          loss = criterion(pred, y.float())\n",
        "          # Update the running loss\n",
        "          running_loss += loss.item()\n",
        "    # Calculate and return the average loss\n",
        "    return running_loss / len(dataloader)"
      ],
      "metadata": {
        "id": "afi5A_x2pe5C"
      },
      "execution_count": 11,
      "outputs": []
    },
    {
      "cell_type": "markdown",
      "source": [
        "Now we have to implement the `train_model` function."
      ],
      "metadata": {
        "id": "9pb0W8hWrMOy"
      }
    },
    {
      "cell_type": "code",
      "source": [
        "def train_model(model, n_epochs, optimizer, criterion, train_loader, val_loader, device=device):\n",
        "    train_losses, val_losses = [], []\n",
        "    for epoch in (pbar := trange(n_epochs)):\n",
        "        # Train the model\n",
        "        train_loss = train_step(model, criterion, optimizer, train_loader, device)\n",
        "        # Evaluate the model\n",
        "        val_loss = test_step(model, criterion, val_loader, device)\n",
        "        # Display the results\n",
        "        pbar.set_description(f'Train Loss = {train_loss:.3f} | Val Loss = {val_loss:.3f} ')\n",
        "        # Store the results\n",
        "        train_losses.append(train_loss), val_losses.append(val_loss)\n",
        "    # Plot the results\n",
        "    plot_results(train_losses, val_losses)\n",
        "    return train_losses, val_losses"
      ],
      "metadata": {
        "id": "OO97wsHmrRnZ"
      },
      "execution_count": 12,
      "outputs": []
    },
    {
      "cell_type": "markdown",
      "source": [
        "All that remains for us to do is to define the loss metric and the optimizer to train the model."
      ],
      "metadata": {
        "id": "YixnEXxjsy1F"
      }
    },
    {
      "cell_type": "code",
      "source": [
        "model = SimpleNN(input_size=28*28, num_classes=14).to(device)\n",
        "criterion = nn.BCEWithLogitsLoss()\n",
        "optimizer = optim.Adam(model.parameters(), lr=0.001)"
      ],
      "metadata": {
        "id": "S3xmAQkHsw2d"
      },
      "execution_count": 13,
      "outputs": []
    },
    {
      "cell_type": "code",
      "source": [
        "results = train_model(model, 20, optimizer, criterion, train_loader, val_loader)"
      ],
      "metadata": {
        "colab": {
          "base_uri": "https://localhost:8080/",
          "height": 482
        },
        "id": "ZGfzpDnXtKZ9",
        "outputId": "5f69a8c0-0303-4445-bb6d-1602b5f1443f"
      },
      "execution_count": 14,
      "outputs": [
        {
          "output_type": "stream",
          "name": "stderr",
          "text": [
            "Train Loss = 0.16 | Val Loss = 0.17 : 100%|██████████| 20/20 [06:14<00:00, 18.70s/it]\n"
          ]
        },
        {
          "output_type": "display_data",
          "data": {
            "text/plain": [
              "<Figure size 1000x500 with 1 Axes>"
            ],
            "image/png": "[encoded data removed]"
          },
          "metadata": {}
        }
      ]
    },
    {
      "cell_type": "markdown",
      "source": [
        "# Evaluation"
      ],
      "metadata": {
        "id": "EG4uumBCxy-d"
      }
    },
    {
      "cell_type": "code",
      "source": [
        "def evaluate_model(model, data_loader, device=device):\n",
        "    model.eval()\n",
        "    all_labels = []\n",
        "    all_preds = []\n",
        "\n",
        "    with torch.no_grad():\n",
        "        for images, labels in data_loader:\n",
        "            images, labels = images.to(device), labels.to(device)\n",
        "            outputs = model(images)\n",
        "            preds = torch.sigmoid(outputs).cpu().numpy()\n",
        "            all_labels.extend(labels.cpu().numpy())\n",
        "            all_preds.extend(preds)\n",
        "\n",
        "    all_labels = np.array(all_labels)\n",
        "    all_preds = np.array(all_preds)\n",
        "\n",
        "    hamming = hamming_loss(all_labels, all_preds > 0.5)\n",
        "    subset_acc = accuracy_score(all_labels, all_preds > 0.5)\n",
        "    precision, recall, f1, _ = precision_recall_fscore_support(all_labels, all_preds > 0.5, average='macro')\n",
        "    avg_precision = average_precision_score(all_labels, all_preds, average='macro')\n",
        "\n",
        "    print(f'Hamming Loss: {hamming}')\n",
        "    print(f'Subset Accuracy: {subset_acc}')\n",
        "    print(f'Precision: {precision}')\n",
        "    print(f'Recall: {recall}')\n",
        "    print(f'F1-Score: {f1}')\n",
        "    print(f'Average Precision: {avg_precision}')\n",
        "\n",
        "    return {\n",
        "        'Hamming Loss': hamming,\n",
        "        'Subset Accuracy': subset_acc,\n",
        "        'Precision': precision,\n",
        "        'Recall': recall,\n",
        "        'F1-Score': f1,\n",
        "        'Average Precision': avg_precision\n",
        "    }"
      ],
      "metadata": {
        "id": "XIGg0VB6x0Qm"
      },
      "execution_count": 15,
      "outputs": []
    },
    {
      "cell_type": "code",
      "source": [
        "metrics = evaluate_model(model, test_loader)"
      ],
      "metadata": {
        "colab": {
          "base_uri": "https://localhost:8080/"
        },
        "id": "hw7difFhx5rD",
        "outputId": "02ee4c52-4a8b-4ba7-afb9-5f14252fb45c"
      },
      "execution_count": 16,
      "outputs": [
        {
          "output_type": "stream",
          "name": "stdout",
          "text": [
            "Hamming Loss: 0.05276028300144558\n",
            "Subset Accuracy: 0.5292649222128115\n",
            "Precision: 0.18296276579233142\n",
            "Recall: 0.010666848834182186\n",
            "F1-Score: 0.018267924618030115\n",
            "Average Precision: 0.12447987886638169\n"
          ]
        },
        {
          "output_type": "stream",
          "name": "stderr",
          "text": [
            "/usr/local/lib/python3.10/dist-packages/sklearn/metrics/_classification.py:1531: UndefinedMetricWarning: Precision is ill-defined and being set to 0.0 in labels with no predicted samples. Use `zero_division` parameter to control this behavior.\n",
            "  _warn_prf(average, modifier, f\"{metric.capitalize()} is\", len(result))\n"
          ]
        }
      ]
    },
    {
      "cell_type": "markdown",
      "source": [
        "# Saving and Loading Models"
      ],
      "metadata": {
        "id": "0l76fd_GtSzP"
      }
    },
    {
      "cell_type": "markdown",
      "source": [
        "Now we turn our attention to saving and loading models. First we will save the model we just trained."
      ],
      "metadata": {
        "id": "DN-op_67wNpO"
      }
    },
    {
      "cell_type": "code",
      "source": [
        "# Save the model\n",
        "torch.save(model.state_dict(), 'chestmnist_model.pth')"
      ],
      "metadata": {
        "id": "36itXBG8tUzt"
      },
      "execution_count": 17,
      "outputs": []
    },
    {
      "cell_type": "markdown",
      "source": [
        "We can then load the model once again."
      ],
      "metadata": {
        "id": "Yg3ouWyuwU_g"
      }
    },
    {
      "cell_type": "code",
      "source": [
        "# Load the model\n",
        "net = SimpleNN(input_size=28*28, num_classes=14).to(device)\n",
        "net.load_state_dict(torch.load('chestmnist_model.pth'))"
      ],
      "metadata": {
        "colab": {
          "base_uri": "https://localhost:8080/"
        },
        "id": "BCVhTFA_wZEk",
        "outputId": "19c078db-14e2-402e-8c2c-8dd6e06162ea"
      },
      "execution_count": 20,
      "outputs": [
        {
          "output_type": "stream",
          "name": "stderr",
          "text": [
            "<ipython-input-20-974580418a2e>:3: FutureWarning: You are using `torch.load` with `weights_only=False` (the current default value), which uses the default pickle module implicitly. It is possible to construct malicious pickle data which will execute arbitrary code during unpickling (See https://github.com/pytorch/pytorch/blob/main/SECURITY.md#untrusted-models for more details). In a future release, the default value for `weights_only` will be flipped to `True`. This limits the functions that could be executed during unpickling. Arbitrary objects will no longer be allowed to be loaded via this mode unless they are explicitly allowlisted by the user via `torch.serialization.add_safe_globals`. We recommend you start setting `weights_only=True` for any use case where you don't have full control of the loaded file. Please open an issue on GitHub for any issues related to this experimental feature.\n",
            "  net.load_state_dict(torch.load('chestmnist_model.pth'))\n"
          ]
        },
        {
          "output_type": "execute_result",
          "data": {
            "text/plain": [
              "<All keys matched successfully>"
            ]
          },
          "metadata": {},
          "execution_count": 20
        }
      ]
    },
    {
      "cell_type": "markdown",
      "source": [
        "If we evalute the loaded model once more, you will see that they have similar results."
      ],
      "metadata": {
        "id": "mkreDIT0yLtc"
      }
    },
    {
      "cell_type": "code",
      "source": [
        "metrics = evaluate_model(net, test_loader, device)"
      ],
      "metadata": {
        "colab": {
          "base_uri": "https://localhost:8080/"
        },
        "id": "h5CosJsxyLPB",
        "outputId": "9673eb5c-cfc8-4756-99ae-004df940d6c1"
      },
      "execution_count": 21,
      "outputs": [
        {
          "output_type": "stream",
          "name": "stdout",
          "text": [
            "Hamming Loss: 0.05276028300144558\n",
            "Subset Accuracy: 0.5292649222128115\n",
            "Precision: 0.18296276579233142\n",
            "Recall: 0.010666848834182186\n",
            "F1-Score: 0.018267924618030115\n",
            "Average Precision: 0.12447987886638169\n"
          ]
        },
        {
          "output_type": "stream",
          "name": "stderr",
          "text": [
            "/usr/local/lib/python3.10/dist-packages/sklearn/metrics/_classification.py:1531: UndefinedMetricWarning: Precision is ill-defined and being set to 0.0 in labels with no predicted samples. Use `zero_division` parameter to control this behavior.\n",
            "  _warn_prf(average, modifier, f\"{metric.capitalize()} is\", len(result))\n"
          ]
        }
      ]
    }
  ]
}