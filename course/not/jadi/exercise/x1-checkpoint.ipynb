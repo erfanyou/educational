{
 "cells": [
  {
   "cell_type": "markdown",
   "id": "4fe9d093-ced1-4195-bd6e-078c54286c65",
   "metadata": {},
   "source": [
    "# numpy"
   ]
  },
  {
   "cell_type": "code",
   "execution_count": 1,
   "id": "89293379-34b9-4840-98ee-cb7a5a6a2641",
   "metadata": {},
   "outputs": [],
   "source": [
    "import numpy as np"
   ]
  },
  {
   "cell_type": "code",
   "execution_count": 2,
   "id": "d786c0bd-0d5f-4045-aa35-4cf622139e95",
   "metadata": {},
   "outputs": [],
   "source": [
    "a=np.array([1,2,3,4])\n",
    "b=np.arange(4)"
   ]
  },
  {
   "cell_type": "code",
   "execution_count": 3,
   "id": "02119539-3609-4d9f-b7ee-95986e5439dc",
   "metadata": {},
   "outputs": [
    {
     "name": "stdout",
     "output_type": "stream",
     "text": [
      "[ 0  2  6 12]\n"
     ]
    }
   ],
   "source": [
    "print(a*b)"
   ]
  },
  {
   "cell_type": "code",
   "execution_count": 4,
   "id": "d9c2817f-4e75-44e5-a1ac-73e7c467e54e",
   "metadata": {},
   "outputs": [
    {
     "data": {
      "text/plain": [
       "20"
      ]
     },
     "execution_count": 4,
     "metadata": {},
     "output_type": "execute_result"
    }
   ],
   "source": [
    "a@b"
   ]
  },
  {
   "cell_type": "code",
   "execution_count": 5,
   "id": "29fbfc13-d2c7-4b88-a9b5-e1b828b41ec6",
   "metadata": {},
   "outputs": [
    {
     "data": {
      "text/plain": [
       "array([False, False, False,  True])"
      ]
     },
     "execution_count": 5,
     "metadata": {},
     "output_type": "execute_result"
    }
   ],
   "source": [
    "a>3"
   ]
  },
  {
   "cell_type": "code",
   "execution_count": 6,
   "id": "6841d0df-1163-4667-8c60-049d2a082cf6",
   "metadata": {},
   "outputs": [
    {
     "data": {
      "text/plain": [
       "array([[1, 2],\n",
       "       [3, 4]])"
      ]
     },
     "execution_count": 6,
     "metadata": {},
     "output_type": "execute_result"
    }
   ],
   "source": [
    "a.reshape(2,2)"
   ]
  },
  {
   "cell_type": "code",
   "execution_count": 7,
   "id": "aea8735d-5f1f-4a16-a71a-e05993b2215c",
   "metadata": {},
   "outputs": [
    {
     "data": {
      "text/plain": [
       "1"
      ]
     },
     "execution_count": 7,
     "metadata": {},
     "output_type": "execute_result"
    }
   ],
   "source": [
    "a.ndim"
   ]
  },
  {
   "cell_type": "code",
   "execution_count": 8,
   "id": "fce9b428-e200-48a3-a873-6f23e9fe541b",
   "metadata": {},
   "outputs": [],
   "source": [
    "def new_func():\n",
    "    np.zeros((3,3))\n",
    "\n",
    "new_func()"
   ]
  },
  {
   "cell_type": "code",
   "execution_count": 9,
   "id": "00f23d3b-5947-4323-909d-09c6c5a7373a",
   "metadata": {},
   "outputs": [
    {
     "data": {
      "text/plain": [
       "4"
      ]
     },
     "execution_count": 9,
     "metadata": {},
     "output_type": "execute_result"
    }
   ],
   "source": [
    "a.size"
   ]
  },
  {
   "cell_type": "code",
   "execution_count": 10,
   "id": "3495da4d-c0ec-4770-9f3c-c9bc604f8e94",
   "metadata": {},
   "outputs": [
    {
     "data": {
      "text/plain": [
       "(4,)"
      ]
     },
     "execution_count": 10,
     "metadata": {},
     "output_type": "execute_result"
    }
   ],
   "source": [
    "a.shape"
   ]
  },
  {
   "cell_type": "code",
   "execution_count": 11,
   "id": "a8f63def-ed7f-45e0-9aca-fd49b6c8c3d7",
   "metadata": {},
   "outputs": [
    {
     "data": {
      "text/plain": [
       "array([ 0.84147098,  0.90929743,  0.14112001, -0.7568025 ])"
      ]
     },
     "execution_count": 11,
     "metadata": {},
     "output_type": "execute_result"
    }
   ],
   "source": [
    "np.sin(a)"
   ]
  },
  {
   "cell_type": "markdown",
   "id": "666e4dc4-a590-4055-afeb-ba21ed4fc19e",
   "metadata": {},
   "source": [
    "# pandas"
   ]
  },
  {
   "cell_type": "code",
   "execution_count": 12,
   "id": "f145089a-8974-49b5-860c-db6ec375949e",
   "metadata": {},
   "outputs": [],
   "source": [
    "import pandas as pd"
   ]
  },
  {
   "cell_type": "code",
   "execution_count": 13,
   "id": "a09d5580-97f8-4f0c-9130-1285e05c934a",
   "metadata": {},
   "outputs": [
    {
     "data": {
      "text/plain": [
       "0        1\n",
       "1        2\n",
       "2        3\n",
       "3        4\n",
       "4    erfan\n",
       "5        7\n",
       "6      NaN\n",
       "dtype: object"
      ]
     },
     "execution_count": 13,
     "metadata": {},
     "output_type": "execute_result"
    }
   ],
   "source": [
    "pd.Series([1,2,3,4,'erfan',7,np.nan])"
   ]
  },
  {
   "cell_type": "code",
   "execution_count": 14,
   "id": "83c8d923-a766-4db5-a926-9bd5c35722ec",
   "metadata": {},
   "outputs": [
    {
     "data": {
      "text/plain": [
       "DatetimeIndex(['2024-09-11', '2024-09-12', '2024-09-13', '2024-09-14',\n",
       "               '2024-09-15', '2024-09-16', '2024-09-17', '2024-09-18'],\n",
       "              dtype='datetime64[ns]', freq='D')"
      ]
     },
     "execution_count": 14,
     "metadata": {},
     "output_type": "execute_result"
    }
   ],
   "source": [
    "datas = pd.date_range('20240911' , periods=8)\n",
    "datas"
   ]
  },
  {
   "cell_type": "code",
   "execution_count": 15,
   "id": "b8cb0cb7-169d-4db6-9869-a01c8b2ddad5",
   "metadata": {},
   "outputs": [
    {
     "data": {
      "text/html": [
       "<div>\n",
       "<style scoped>\n",
       "    .dataframe tbody tr th:only-of-type {\n",
       "        vertical-align: middle;\n",
       "    }\n",
       "\n",
       "    .dataframe tbody tr th {\n",
       "        vertical-align: top;\n",
       "    }\n",
       "\n",
       "    .dataframe thead th {\n",
       "        text-align: right;\n",
       "    }\n",
       "</style>\n",
       "<table border=\"1\" class=\"dataframe\">\n",
       "  <thead>\n",
       "    <tr style=\"text-align: right;\">\n",
       "      <th></th>\n",
       "      <th>0</th>\n",
       "      <th>1</th>\n",
       "      <th>2</th>\n",
       "      <th>3</th>\n",
       "      <th>4</th>\n",
       "      <th>5</th>\n",
       "      <th>6</th>\n",
       "      <th>7</th>\n",
       "      <th>8</th>\n",
       "      <th>9</th>\n",
       "    </tr>\n",
       "  </thead>\n",
       "  <tbody>\n",
       "    <tr>\n",
       "      <th>2024-09-11</th>\n",
       "      <td>0.728140</td>\n",
       "      <td>0.100901</td>\n",
       "      <td>0.740774</td>\n",
       "      <td>-0.187760</td>\n",
       "      <td>-1.871110</td>\n",
       "      <td>0.610731</td>\n",
       "      <td>0.143847</td>\n",
       "      <td>-0.441671</td>\n",
       "      <td>0.847556</td>\n",
       "      <td>-0.760118</td>\n",
       "    </tr>\n",
       "    <tr>\n",
       "      <th>2024-09-12</th>\n",
       "      <td>0.069399</td>\n",
       "      <td>0.402969</td>\n",
       "      <td>1.500409</td>\n",
       "      <td>0.891613</td>\n",
       "      <td>-0.228712</td>\n",
       "      <td>-0.390077</td>\n",
       "      <td>0.879349</td>\n",
       "      <td>-0.124752</td>\n",
       "      <td>0.388738</td>\n",
       "      <td>-0.615965</td>\n",
       "    </tr>\n",
       "    <tr>\n",
       "      <th>2024-09-13</th>\n",
       "      <td>0.401574</td>\n",
       "      <td>1.926915</td>\n",
       "      <td>0.016416</td>\n",
       "      <td>-0.578756</td>\n",
       "      <td>-0.353761</td>\n",
       "      <td>-0.356750</td>\n",
       "      <td>-1.728692</td>\n",
       "      <td>1.954338</td>\n",
       "      <td>-1.221848</td>\n",
       "      <td>-0.943397</td>\n",
       "    </tr>\n",
       "    <tr>\n",
       "      <th>2024-09-14</th>\n",
       "      <td>-0.399742</td>\n",
       "      <td>0.946913</td>\n",
       "      <td>0.242155</td>\n",
       "      <td>-0.260664</td>\n",
       "      <td>-1.303096</td>\n",
       "      <td>1.278942</td>\n",
       "      <td>-0.164059</td>\n",
       "      <td>0.486928</td>\n",
       "      <td>0.809457</td>\n",
       "      <td>0.186319</td>\n",
       "    </tr>\n",
       "    <tr>\n",
       "      <th>2024-09-15</th>\n",
       "      <td>-0.126841</td>\n",
       "      <td>-0.427285</td>\n",
       "      <td>-0.421303</td>\n",
       "      <td>-0.836170</td>\n",
       "      <td>0.556634</td>\n",
       "      <td>1.780757</td>\n",
       "      <td>-0.303936</td>\n",
       "      <td>-2.249322</td>\n",
       "      <td>0.031895</td>\n",
       "      <td>0.506383</td>\n",
       "    </tr>\n",
       "    <tr>\n",
       "      <th>2024-09-16</th>\n",
       "      <td>-0.502431</td>\n",
       "      <td>0.447966</td>\n",
       "      <td>0.485967</td>\n",
       "      <td>-0.763596</td>\n",
       "      <td>0.011681</td>\n",
       "      <td>-1.831902</td>\n",
       "      <td>-1.177608</td>\n",
       "      <td>0.328454</td>\n",
       "      <td>0.465197</td>\n",
       "      <td>0.287113</td>\n",
       "    </tr>\n",
       "    <tr>\n",
       "      <th>2024-09-17</th>\n",
       "      <td>-1.365386</td>\n",
       "      <td>-0.864441</td>\n",
       "      <td>-1.786529</td>\n",
       "      <td>-1.734015</td>\n",
       "      <td>0.201629</td>\n",
       "      <td>1.202852</td>\n",
       "      <td>1.330522</td>\n",
       "      <td>0.044190</td>\n",
       "      <td>0.146575</td>\n",
       "      <td>0.750963</td>\n",
       "    </tr>\n",
       "    <tr>\n",
       "      <th>2024-09-18</th>\n",
       "      <td>-1.130591</td>\n",
       "      <td>1.367957</td>\n",
       "      <td>0.583820</td>\n",
       "      <td>0.895383</td>\n",
       "      <td>-0.902393</td>\n",
       "      <td>1.476435</td>\n",
       "      <td>-0.871649</td>\n",
       "      <td>-1.761703</td>\n",
       "      <td>0.455199</td>\n",
       "      <td>0.777922</td>\n",
       "    </tr>\n",
       "  </tbody>\n",
       "</table>\n",
       "</div>"
      ],
      "text/plain": [
       "                   0         1         2         3         4         5  \\\n",
       "2024-09-11  0.728140  0.100901  0.740774 -0.187760 -1.871110  0.610731   \n",
       "2024-09-12  0.069399  0.402969  1.500409  0.891613 -0.228712 -0.390077   \n",
       "2024-09-13  0.401574  1.926915  0.016416 -0.578756 -0.353761 -0.356750   \n",
       "2024-09-14 -0.399742  0.946913  0.242155 -0.260664 -1.303096  1.278942   \n",
       "2024-09-15 -0.126841 -0.427285 -0.421303 -0.836170  0.556634  1.780757   \n",
       "2024-09-16 -0.502431  0.447966  0.485967 -0.763596  0.011681 -1.831902   \n",
       "2024-09-17 -1.365386 -0.864441 -1.786529 -1.734015  0.201629  1.202852   \n",
       "2024-09-18 -1.130591  1.367957  0.583820  0.895383 -0.902393  1.476435   \n",
       "\n",
       "                   6         7         8         9  \n",
       "2024-09-11  0.143847 -0.441671  0.847556 -0.760118  \n",
       "2024-09-12  0.879349 -0.124752  0.388738 -0.615965  \n",
       "2024-09-13 -1.728692  1.954338 -1.221848 -0.943397  \n",
       "2024-09-14 -0.164059  0.486928  0.809457  0.186319  \n",
       "2024-09-15 -0.303936 -2.249322  0.031895  0.506383  \n",
       "2024-09-16 -1.177608  0.328454  0.465197  0.287113  \n",
       "2024-09-17  1.330522  0.044190  0.146575  0.750963  \n",
       "2024-09-18 -0.871649 -1.761703  0.455199  0.777922  "
      ]
     },
     "execution_count": 15,
     "metadata": {},
     "output_type": "execute_result"
    }
   ],
   "source": [
    "x=pd.DataFrame(np.random.randn(8,10) , index=datas )\n",
    "x"
   ]
  },
  {
   "cell_type": "code",
   "execution_count": 16,
   "id": "23938e41-f0ac-4153-b04f-8af10d8807c6",
   "metadata": {},
   "outputs": [
    {
     "data": {
      "text/plain": [
       "0    float64\n",
       "1    float64\n",
       "2    float64\n",
       "3    float64\n",
       "4    float64\n",
       "5    float64\n",
       "6    float64\n",
       "7    float64\n",
       "8    float64\n",
       "9    float64\n",
       "dtype: object"
      ]
     },
     "execution_count": 16,
     "metadata": {},
     "output_type": "execute_result"
    }
   ],
   "source": [
    "x.dtypes"
   ]
  },
  {
   "cell_type": "code",
   "execution_count": 17,
   "id": "f35003b3-3b83-4c50-ab5e-ee15f2996eca",
   "metadata": {},
   "outputs": [
    {
     "data": {
      "text/plain": [
       "2024-09-11    0.100901\n",
       "2024-09-12    0.402969\n",
       "2024-09-13    1.926915\n",
       "2024-09-14    0.946913\n",
       "2024-09-15   -0.427285\n",
       "2024-09-16    0.447966\n",
       "2024-09-17   -0.864441\n",
       "2024-09-18    1.367957\n",
       "Freq: D, Name: 1, dtype: float64"
      ]
     },
     "execution_count": 17,
     "metadata": {},
     "output_type": "execute_result"
    }
   ],
   "source": [
    "x[1]"
   ]
  },
  {
   "cell_type": "code",
   "execution_count": 18,
   "id": "6008882f-81c2-4794-a2e9-f938b4f76cf4",
   "metadata": {},
   "outputs": [
    {
     "data": {
      "text/html": [
       "<div>\n",
       "<style scoped>\n",
       "    .dataframe tbody tr th:only-of-type {\n",
       "        vertical-align: middle;\n",
       "    }\n",
       "\n",
       "    .dataframe tbody tr th {\n",
       "        vertical-align: top;\n",
       "    }\n",
       "\n",
       "    .dataframe thead th {\n",
       "        text-align: right;\n",
       "    }\n",
       "</style>\n",
       "<table border=\"1\" class=\"dataframe\">\n",
       "  <thead>\n",
       "    <tr style=\"text-align: right;\">\n",
       "      <th></th>\n",
       "      <th>0</th>\n",
       "      <th>1</th>\n",
       "      <th>2</th>\n",
       "      <th>3</th>\n",
       "      <th>4</th>\n",
       "      <th>5</th>\n",
       "      <th>6</th>\n",
       "      <th>7</th>\n",
       "      <th>8</th>\n",
       "      <th>9</th>\n",
       "    </tr>\n",
       "  </thead>\n",
       "  <tbody>\n",
       "    <tr>\n",
       "      <th>2024-09-11</th>\n",
       "      <td>0.728140</td>\n",
       "      <td>0.100901</td>\n",
       "      <td>0.740774</td>\n",
       "      <td>-0.187760</td>\n",
       "      <td>-1.871110</td>\n",
       "      <td>0.610731</td>\n",
       "      <td>0.143847</td>\n",
       "      <td>-0.441671</td>\n",
       "      <td>0.847556</td>\n",
       "      <td>-0.760118</td>\n",
       "    </tr>\n",
       "    <tr>\n",
       "      <th>2024-09-12</th>\n",
       "      <td>0.069399</td>\n",
       "      <td>0.402969</td>\n",
       "      <td>1.500409</td>\n",
       "      <td>0.891613</td>\n",
       "      <td>-0.228712</td>\n",
       "      <td>-0.390077</td>\n",
       "      <td>0.879349</td>\n",
       "      <td>-0.124752</td>\n",
       "      <td>0.388738</td>\n",
       "      <td>-0.615965</td>\n",
       "    </tr>\n",
       "  </tbody>\n",
       "</table>\n",
       "</div>"
      ],
      "text/plain": [
       "                   0         1         2         3         4         5  \\\n",
       "2024-09-11  0.728140  0.100901  0.740774 -0.187760 -1.871110  0.610731   \n",
       "2024-09-12  0.069399  0.402969  1.500409  0.891613 -0.228712 -0.390077   \n",
       "\n",
       "                   6         7         8         9  \n",
       "2024-09-11  0.143847 -0.441671  0.847556 -0.760118  \n",
       "2024-09-12  0.879349 -0.124752  0.388738 -0.615965  "
      ]
     },
     "execution_count": 18,
     "metadata": {},
     "output_type": "execute_result"
    }
   ],
   "source": [
    "x.head(2)"
   ]
  },
  {
   "cell_type": "code",
   "execution_count": 19,
   "id": "e4633dbf-6de8-471f-bc9e-63bb5c5d8a64",
   "metadata": {},
   "outputs": [
    {
     "data": {
      "text/html": [
       "<div>\n",
       "<style scoped>\n",
       "    .dataframe tbody tr th:only-of-type {\n",
       "        vertical-align: middle;\n",
       "    }\n",
       "\n",
       "    .dataframe tbody tr th {\n",
       "        vertical-align: top;\n",
       "    }\n",
       "\n",
       "    .dataframe thead th {\n",
       "        text-align: right;\n",
       "    }\n",
       "</style>\n",
       "<table border=\"1\" class=\"dataframe\">\n",
       "  <thead>\n",
       "    <tr style=\"text-align: right;\">\n",
       "      <th></th>\n",
       "      <th>0</th>\n",
       "      <th>1</th>\n",
       "      <th>2</th>\n",
       "      <th>3</th>\n",
       "      <th>4</th>\n",
       "      <th>5</th>\n",
       "      <th>6</th>\n",
       "      <th>7</th>\n",
       "      <th>8</th>\n",
       "      <th>9</th>\n",
       "    </tr>\n",
       "  </thead>\n",
       "  <tbody>\n",
       "    <tr>\n",
       "      <th>2024-09-16</th>\n",
       "      <td>-0.502431</td>\n",
       "      <td>0.447966</td>\n",
       "      <td>0.485967</td>\n",
       "      <td>-0.763596</td>\n",
       "      <td>0.011681</td>\n",
       "      <td>-1.831902</td>\n",
       "      <td>-1.177608</td>\n",
       "      <td>0.328454</td>\n",
       "      <td>0.465197</td>\n",
       "      <td>0.287113</td>\n",
       "    </tr>\n",
       "    <tr>\n",
       "      <th>2024-09-17</th>\n",
       "      <td>-1.365386</td>\n",
       "      <td>-0.864441</td>\n",
       "      <td>-1.786529</td>\n",
       "      <td>-1.734015</td>\n",
       "      <td>0.201629</td>\n",
       "      <td>1.202852</td>\n",
       "      <td>1.330522</td>\n",
       "      <td>0.044190</td>\n",
       "      <td>0.146575</td>\n",
       "      <td>0.750963</td>\n",
       "    </tr>\n",
       "    <tr>\n",
       "      <th>2024-09-18</th>\n",
       "      <td>-1.130591</td>\n",
       "      <td>1.367957</td>\n",
       "      <td>0.583820</td>\n",
       "      <td>0.895383</td>\n",
       "      <td>-0.902393</td>\n",
       "      <td>1.476435</td>\n",
       "      <td>-0.871649</td>\n",
       "      <td>-1.761703</td>\n",
       "      <td>0.455199</td>\n",
       "      <td>0.777922</td>\n",
       "    </tr>\n",
       "  </tbody>\n",
       "</table>\n",
       "</div>"
      ],
      "text/plain": [
       "                   0         1         2         3         4         5  \\\n",
       "2024-09-16 -0.502431  0.447966  0.485967 -0.763596  0.011681 -1.831902   \n",
       "2024-09-17 -1.365386 -0.864441 -1.786529 -1.734015  0.201629  1.202852   \n",
       "2024-09-18 -1.130591  1.367957  0.583820  0.895383 -0.902393  1.476435   \n",
       "\n",
       "                   6         7         8         9  \n",
       "2024-09-16 -1.177608  0.328454  0.465197  0.287113  \n",
       "2024-09-17  1.330522  0.044190  0.146575  0.750963  \n",
       "2024-09-18 -0.871649 -1.761703  0.455199  0.777922  "
      ]
     },
     "execution_count": 19,
     "metadata": {},
     "output_type": "execute_result"
    }
   ],
   "source": [
    "x.tail(3)"
   ]
  },
  {
   "cell_type": "code",
   "execution_count": 20,
   "id": "f82a58ef-361a-4357-afa0-352b698c1427",
   "metadata": {},
   "outputs": [
    {
     "data": {
      "text/html": [
       "<div>\n",
       "<style scoped>\n",
       "    .dataframe tbody tr th:only-of-type {\n",
       "        vertical-align: middle;\n",
       "    }\n",
       "\n",
       "    .dataframe tbody tr th {\n",
       "        vertical-align: top;\n",
       "    }\n",
       "\n",
       "    .dataframe thead th {\n",
       "        text-align: right;\n",
       "    }\n",
       "</style>\n",
       "<table border=\"1\" class=\"dataframe\">\n",
       "  <thead>\n",
       "    <tr style=\"text-align: right;\">\n",
       "      <th></th>\n",
       "      <th>0</th>\n",
       "      <th>1</th>\n",
       "      <th>2</th>\n",
       "      <th>3</th>\n",
       "      <th>4</th>\n",
       "      <th>5</th>\n",
       "      <th>6</th>\n",
       "      <th>7</th>\n",
       "      <th>8</th>\n",
       "      <th>9</th>\n",
       "    </tr>\n",
       "  </thead>\n",
       "  <tbody>\n",
       "    <tr>\n",
       "      <th>count</th>\n",
       "      <td>8.000000</td>\n",
       "      <td>8.000000</td>\n",
       "      <td>8.000000</td>\n",
       "      <td>8.000000</td>\n",
       "      <td>8.000000</td>\n",
       "      <td>8.000000</td>\n",
       "      <td>8.000000</td>\n",
       "      <td>8.000000</td>\n",
       "      <td>8.000000</td>\n",
       "      <td>8.000000</td>\n",
       "    </tr>\n",
       "    <tr>\n",
       "      <th>mean</th>\n",
       "      <td>-0.290734</td>\n",
       "      <td>0.487737</td>\n",
       "      <td>0.170214</td>\n",
       "      <td>-0.321746</td>\n",
       "      <td>-0.486141</td>\n",
       "      <td>0.471373</td>\n",
       "      <td>-0.236528</td>\n",
       "      <td>-0.220442</td>\n",
       "      <td>0.240346</td>\n",
       "      <td>0.023652</td>\n",
       "    </tr>\n",
       "    <tr>\n",
       "      <th>std</th>\n",
       "      <td>0.716229</td>\n",
       "      <td>0.916587</td>\n",
       "      <td>0.969042</td>\n",
       "      <td>0.886062</td>\n",
       "      <td>0.815111</td>\n",
       "      <td>1.234287</td>\n",
       "      <td>1.026149</td>\n",
       "      <td>1.317535</td>\n",
       "      <td>0.654827</td>\n",
       "      <td>0.695434</td>\n",
       "    </tr>\n",
       "    <tr>\n",
       "      <th>min</th>\n",
       "      <td>-1.365386</td>\n",
       "      <td>-0.864441</td>\n",
       "      <td>-1.786529</td>\n",
       "      <td>-1.734015</td>\n",
       "      <td>-1.871110</td>\n",
       "      <td>-1.831902</td>\n",
       "      <td>-1.728692</td>\n",
       "      <td>-2.249322</td>\n",
       "      <td>-1.221848</td>\n",
       "      <td>-0.943397</td>\n",
       "    </tr>\n",
       "    <tr>\n",
       "      <th>25%</th>\n",
       "      <td>-0.659471</td>\n",
       "      <td>-0.031146</td>\n",
       "      <td>-0.093013</td>\n",
       "      <td>-0.781740</td>\n",
       "      <td>-1.002568</td>\n",
       "      <td>-0.365082</td>\n",
       "      <td>-0.948139</td>\n",
       "      <td>-0.771679</td>\n",
       "      <td>0.117905</td>\n",
       "      <td>-0.652003</td>\n",
       "    </tr>\n",
       "    <tr>\n",
       "      <th>50%</th>\n",
       "      <td>-0.263291</td>\n",
       "      <td>0.425468</td>\n",
       "      <td>0.364061</td>\n",
       "      <td>-0.419710</td>\n",
       "      <td>-0.291236</td>\n",
       "      <td>0.906791</td>\n",
       "      <td>-0.233997</td>\n",
       "      <td>-0.040281</td>\n",
       "      <td>0.421969</td>\n",
       "      <td>0.236716</td>\n",
       "    </tr>\n",
       "    <tr>\n",
       "      <th>75%</th>\n",
       "      <td>0.152443</td>\n",
       "      <td>1.052174</td>\n",
       "      <td>0.623059</td>\n",
       "      <td>0.082084</td>\n",
       "      <td>0.059168</td>\n",
       "      <td>1.328315</td>\n",
       "      <td>0.327723</td>\n",
       "      <td>0.368073</td>\n",
       "      <td>0.551262</td>\n",
       "      <td>0.567528</td>\n",
       "    </tr>\n",
       "    <tr>\n",
       "      <th>max</th>\n",
       "      <td>0.728140</td>\n",
       "      <td>1.926915</td>\n",
       "      <td>1.500409</td>\n",
       "      <td>0.895383</td>\n",
       "      <td>0.556634</td>\n",
       "      <td>1.780757</td>\n",
       "      <td>1.330522</td>\n",
       "      <td>1.954338</td>\n",
       "      <td>0.847556</td>\n",
       "      <td>0.777922</td>\n",
       "    </tr>\n",
       "  </tbody>\n",
       "</table>\n",
       "</div>"
      ],
      "text/plain": [
       "              0         1         2         3         4         5         6  \\\n",
       "count  8.000000  8.000000  8.000000  8.000000  8.000000  8.000000  8.000000   \n",
       "mean  -0.290734  0.487737  0.170214 -0.321746 -0.486141  0.471373 -0.236528   \n",
       "std    0.716229  0.916587  0.969042  0.886062  0.815111  1.234287  1.026149   \n",
       "min   -1.365386 -0.864441 -1.786529 -1.734015 -1.871110 -1.831902 -1.728692   \n",
       "25%   -0.659471 -0.031146 -0.093013 -0.781740 -1.002568 -0.365082 -0.948139   \n",
       "50%   -0.263291  0.425468  0.364061 -0.419710 -0.291236  0.906791 -0.233997   \n",
       "75%    0.152443  1.052174  0.623059  0.082084  0.059168  1.328315  0.327723   \n",
       "max    0.728140  1.926915  1.500409  0.895383  0.556634  1.780757  1.330522   \n",
       "\n",
       "              7         8         9  \n",
       "count  8.000000  8.000000  8.000000  \n",
       "mean  -0.220442  0.240346  0.023652  \n",
       "std    1.317535  0.654827  0.695434  \n",
       "min   -2.249322 -1.221848 -0.943397  \n",
       "25%   -0.771679  0.117905 -0.652003  \n",
       "50%   -0.040281  0.421969  0.236716  \n",
       "75%    0.368073  0.551262  0.567528  \n",
       "max    1.954338  0.847556  0.777922  "
      ]
     },
     "execution_count": 20,
     "metadata": {},
     "output_type": "execute_result"
    }
   ],
   "source": [
    "x.describe()"
   ]
  },
  {
   "cell_type": "code",
   "execution_count": 21,
   "id": "6c891dd3-1f5e-4104-a2d4-a13d15b11bed",
   "metadata": {},
   "outputs": [
    {
     "name": "stderr",
     "output_type": "stream",
     "text": [
      "C:\\Users\\ASUS\\AppData\\Local\\Temp\\ipykernel_11496\\278982476.py:1: FutureWarning: Series.__getitem__ treating keys as positions is deprecated. In a future version, integer keys will always be treated as labels (consistent with DataFrame behavior). To access a value by position, use `ser.iloc[pos]`\n",
      "  x[3][4]\n"
     ]
    },
    {
     "data": {
      "text/plain": [
       "-0.8361699112789156"
      ]
     },
     "execution_count": 21,
     "metadata": {},
     "output_type": "execute_result"
    }
   ],
   "source": [
    "x[3][4]"
   ]
  },
  {
   "cell_type": "code",
   "execution_count": 22,
   "id": "b33997f8-4075-41c7-a08c-534da3a21c3c",
   "metadata": {},
   "outputs": [
    {
     "data": {
      "text/plain": [
       "0   -0.290734\n",
       "1    0.487737\n",
       "2    0.170214\n",
       "3   -0.321746\n",
       "4   -0.486141\n",
       "5    0.471373\n",
       "6   -0.236528\n",
       "7   -0.220442\n",
       "8    0.240346\n",
       "9    0.023652\n",
       "dtype: float64"
      ]
     },
     "execution_count": 22,
     "metadata": {},
     "output_type": "execute_result"
    }
   ],
   "source": [
    "x.mean()"
   ]
  },
  {
   "cell_type": "code",
   "execution_count": 23,
   "id": "ffa6df1f-de3e-400c-9467-4235662af643",
   "metadata": {},
   "outputs": [
    {
     "data": {
      "text/html": [
       "<div>\n",
       "<style scoped>\n",
       "    .dataframe tbody tr th:only-of-type {\n",
       "        vertical-align: middle;\n",
       "    }\n",
       "\n",
       "    .dataframe tbody tr th {\n",
       "        vertical-align: top;\n",
       "    }\n",
       "\n",
       "    .dataframe thead th {\n",
       "        text-align: right;\n",
       "    }\n",
       "</style>\n",
       "<table border=\"1\" class=\"dataframe\">\n",
       "  <thead>\n",
       "    <tr style=\"text-align: right;\">\n",
       "      <th></th>\n",
       "      <th>2024-09-11</th>\n",
       "      <th>2024-09-12</th>\n",
       "      <th>2024-09-13</th>\n",
       "      <th>2024-09-14</th>\n",
       "      <th>2024-09-15</th>\n",
       "      <th>2024-09-16</th>\n",
       "      <th>2024-09-17</th>\n",
       "      <th>2024-09-18</th>\n",
       "    </tr>\n",
       "  </thead>\n",
       "  <tbody>\n",
       "    <tr>\n",
       "      <th>0</th>\n",
       "      <td>0.728140</td>\n",
       "      <td>0.069399</td>\n",
       "      <td>0.401574</td>\n",
       "      <td>-0.399742</td>\n",
       "      <td>-0.126841</td>\n",
       "      <td>-0.502431</td>\n",
       "      <td>-1.365386</td>\n",
       "      <td>-1.130591</td>\n",
       "    </tr>\n",
       "    <tr>\n",
       "      <th>1</th>\n",
       "      <td>0.100901</td>\n",
       "      <td>0.402969</td>\n",
       "      <td>1.926915</td>\n",
       "      <td>0.946913</td>\n",
       "      <td>-0.427285</td>\n",
       "      <td>0.447966</td>\n",
       "      <td>-0.864441</td>\n",
       "      <td>1.367957</td>\n",
       "    </tr>\n",
       "    <tr>\n",
       "      <th>2</th>\n",
       "      <td>0.740774</td>\n",
       "      <td>1.500409</td>\n",
       "      <td>0.016416</td>\n",
       "      <td>0.242155</td>\n",
       "      <td>-0.421303</td>\n",
       "      <td>0.485967</td>\n",
       "      <td>-1.786529</td>\n",
       "      <td>0.583820</td>\n",
       "    </tr>\n",
       "    <tr>\n",
       "      <th>3</th>\n",
       "      <td>-0.187760</td>\n",
       "      <td>0.891613</td>\n",
       "      <td>-0.578756</td>\n",
       "      <td>-0.260664</td>\n",
       "      <td>-0.836170</td>\n",
       "      <td>-0.763596</td>\n",
       "      <td>-1.734015</td>\n",
       "      <td>0.895383</td>\n",
       "    </tr>\n",
       "    <tr>\n",
       "      <th>4</th>\n",
       "      <td>-1.871110</td>\n",
       "      <td>-0.228712</td>\n",
       "      <td>-0.353761</td>\n",
       "      <td>-1.303096</td>\n",
       "      <td>0.556634</td>\n",
       "      <td>0.011681</td>\n",
       "      <td>0.201629</td>\n",
       "      <td>-0.902393</td>\n",
       "    </tr>\n",
       "    <tr>\n",
       "      <th>5</th>\n",
       "      <td>0.610731</td>\n",
       "      <td>-0.390077</td>\n",
       "      <td>-0.356750</td>\n",
       "      <td>1.278942</td>\n",
       "      <td>1.780757</td>\n",
       "      <td>-1.831902</td>\n",
       "      <td>1.202852</td>\n",
       "      <td>1.476435</td>\n",
       "    </tr>\n",
       "    <tr>\n",
       "      <th>6</th>\n",
       "      <td>0.143847</td>\n",
       "      <td>0.879349</td>\n",
       "      <td>-1.728692</td>\n",
       "      <td>-0.164059</td>\n",
       "      <td>-0.303936</td>\n",
       "      <td>-1.177608</td>\n",
       "      <td>1.330522</td>\n",
       "      <td>-0.871649</td>\n",
       "    </tr>\n",
       "    <tr>\n",
       "      <th>7</th>\n",
       "      <td>-0.441671</td>\n",
       "      <td>-0.124752</td>\n",
       "      <td>1.954338</td>\n",
       "      <td>0.486928</td>\n",
       "      <td>-2.249322</td>\n",
       "      <td>0.328454</td>\n",
       "      <td>0.044190</td>\n",
       "      <td>-1.761703</td>\n",
       "    </tr>\n",
       "    <tr>\n",
       "      <th>8</th>\n",
       "      <td>0.847556</td>\n",
       "      <td>0.388738</td>\n",
       "      <td>-1.221848</td>\n",
       "      <td>0.809457</td>\n",
       "      <td>0.031895</td>\n",
       "      <td>0.465197</td>\n",
       "      <td>0.146575</td>\n",
       "      <td>0.455199</td>\n",
       "    </tr>\n",
       "    <tr>\n",
       "      <th>9</th>\n",
       "      <td>-0.760118</td>\n",
       "      <td>-0.615965</td>\n",
       "      <td>-0.943397</td>\n",
       "      <td>0.186319</td>\n",
       "      <td>0.506383</td>\n",
       "      <td>0.287113</td>\n",
       "      <td>0.750963</td>\n",
       "      <td>0.777922</td>\n",
       "    </tr>\n",
       "  </tbody>\n",
       "</table>\n",
       "</div>"
      ],
      "text/plain": [
       "   2024-09-11  2024-09-12  2024-09-13  2024-09-14  2024-09-15  2024-09-16  \\\n",
       "0    0.728140    0.069399    0.401574   -0.399742   -0.126841   -0.502431   \n",
       "1    0.100901    0.402969    1.926915    0.946913   -0.427285    0.447966   \n",
       "2    0.740774    1.500409    0.016416    0.242155   -0.421303    0.485967   \n",
       "3   -0.187760    0.891613   -0.578756   -0.260664   -0.836170   -0.763596   \n",
       "4   -1.871110   -0.228712   -0.353761   -1.303096    0.556634    0.011681   \n",
       "5    0.610731   -0.390077   -0.356750    1.278942    1.780757   -1.831902   \n",
       "6    0.143847    0.879349   -1.728692   -0.164059   -0.303936   -1.177608   \n",
       "7   -0.441671   -0.124752    1.954338    0.486928   -2.249322    0.328454   \n",
       "8    0.847556    0.388738   -1.221848    0.809457    0.031895    0.465197   \n",
       "9   -0.760118   -0.615965   -0.943397    0.186319    0.506383    0.287113   \n",
       "\n",
       "   2024-09-17  2024-09-18  \n",
       "0   -1.365386   -1.130591  \n",
       "1   -0.864441    1.367957  \n",
       "2   -1.786529    0.583820  \n",
       "3   -1.734015    0.895383  \n",
       "4    0.201629   -0.902393  \n",
       "5    1.202852    1.476435  \n",
       "6    1.330522   -0.871649  \n",
       "7    0.044190   -1.761703  \n",
       "8    0.146575    0.455199  \n",
       "9    0.750963    0.777922  "
      ]
     },
     "execution_count": 23,
     "metadata": {},
     "output_type": "execute_result"
    }
   ],
   "source": [
    "x.T"
   ]
  },
  {
   "cell_type": "code",
   "execution_count": 24,
   "id": "55442fcc-7c9e-43e7-9abf-f8c4dab0c0ba",
   "metadata": {},
   "outputs": [
    {
     "data": {
      "text/html": [
       "<div>\n",
       "<style scoped>\n",
       "    .dataframe tbody tr th:only-of-type {\n",
       "        vertical-align: middle;\n",
       "    }\n",
       "\n",
       "    .dataframe tbody tr th {\n",
       "        vertical-align: top;\n",
       "    }\n",
       "\n",
       "    .dataframe thead th {\n",
       "        text-align: right;\n",
       "    }\n",
       "</style>\n",
       "<table border=\"1\" class=\"dataframe\">\n",
       "  <thead>\n",
       "    <tr style=\"text-align: right;\">\n",
       "      <th></th>\n",
       "      <th>0</th>\n",
       "      <th>1</th>\n",
       "      <th>2</th>\n",
       "      <th>3</th>\n",
       "      <th>4</th>\n",
       "      <th>5</th>\n",
       "      <th>6</th>\n",
       "      <th>7</th>\n",
       "      <th>8</th>\n",
       "      <th>9</th>\n",
       "    </tr>\n",
       "  </thead>\n",
       "  <tbody>\n",
       "    <tr>\n",
       "      <th>2024-09-17</th>\n",
       "      <td>-1.365386</td>\n",
       "      <td>-0.864441</td>\n",
       "      <td>-1.786529</td>\n",
       "      <td>-1.734015</td>\n",
       "      <td>0.201629</td>\n",
       "      <td>1.202852</td>\n",
       "      <td>1.330522</td>\n",
       "      <td>0.044190</td>\n",
       "      <td>0.146575</td>\n",
       "      <td>0.750963</td>\n",
       "    </tr>\n",
       "    <tr>\n",
       "      <th>2024-09-18</th>\n",
       "      <td>-1.130591</td>\n",
       "      <td>1.367957</td>\n",
       "      <td>0.583820</td>\n",
       "      <td>0.895383</td>\n",
       "      <td>-0.902393</td>\n",
       "      <td>1.476435</td>\n",
       "      <td>-0.871649</td>\n",
       "      <td>-1.761703</td>\n",
       "      <td>0.455199</td>\n",
       "      <td>0.777922</td>\n",
       "    </tr>\n",
       "    <tr>\n",
       "      <th>2024-09-16</th>\n",
       "      <td>-0.502431</td>\n",
       "      <td>0.447966</td>\n",
       "      <td>0.485967</td>\n",
       "      <td>-0.763596</td>\n",
       "      <td>0.011681</td>\n",
       "      <td>-1.831902</td>\n",
       "      <td>-1.177608</td>\n",
       "      <td>0.328454</td>\n",
       "      <td>0.465197</td>\n",
       "      <td>0.287113</td>\n",
       "    </tr>\n",
       "    <tr>\n",
       "      <th>2024-09-14</th>\n",
       "      <td>-0.399742</td>\n",
       "      <td>0.946913</td>\n",
       "      <td>0.242155</td>\n",
       "      <td>-0.260664</td>\n",
       "      <td>-1.303096</td>\n",
       "      <td>1.278942</td>\n",
       "      <td>-0.164059</td>\n",
       "      <td>0.486928</td>\n",
       "      <td>0.809457</td>\n",
       "      <td>0.186319</td>\n",
       "    </tr>\n",
       "    <tr>\n",
       "      <th>2024-09-15</th>\n",
       "      <td>-0.126841</td>\n",
       "      <td>-0.427285</td>\n",
       "      <td>-0.421303</td>\n",
       "      <td>-0.836170</td>\n",
       "      <td>0.556634</td>\n",
       "      <td>1.780757</td>\n",
       "      <td>-0.303936</td>\n",
       "      <td>-2.249322</td>\n",
       "      <td>0.031895</td>\n",
       "      <td>0.506383</td>\n",
       "    </tr>\n",
       "    <tr>\n",
       "      <th>2024-09-12</th>\n",
       "      <td>0.069399</td>\n",
       "      <td>0.402969</td>\n",
       "      <td>1.500409</td>\n",
       "      <td>0.891613</td>\n",
       "      <td>-0.228712</td>\n",
       "      <td>-0.390077</td>\n",
       "      <td>0.879349</td>\n",
       "      <td>-0.124752</td>\n",
       "      <td>0.388738</td>\n",
       "      <td>-0.615965</td>\n",
       "    </tr>\n",
       "    <tr>\n",
       "      <th>2024-09-13</th>\n",
       "      <td>0.401574</td>\n",
       "      <td>1.926915</td>\n",
       "      <td>0.016416</td>\n",
       "      <td>-0.578756</td>\n",
       "      <td>-0.353761</td>\n",
       "      <td>-0.356750</td>\n",
       "      <td>-1.728692</td>\n",
       "      <td>1.954338</td>\n",
       "      <td>-1.221848</td>\n",
       "      <td>-0.943397</td>\n",
       "    </tr>\n",
       "    <tr>\n",
       "      <th>2024-09-11</th>\n",
       "      <td>0.728140</td>\n",
       "      <td>0.100901</td>\n",
       "      <td>0.740774</td>\n",
       "      <td>-0.187760</td>\n",
       "      <td>-1.871110</td>\n",
       "      <td>0.610731</td>\n",
       "      <td>0.143847</td>\n",
       "      <td>-0.441671</td>\n",
       "      <td>0.847556</td>\n",
       "      <td>-0.760118</td>\n",
       "    </tr>\n",
       "  </tbody>\n",
       "</table>\n",
       "</div>"
      ],
      "text/plain": [
       "                   0         1         2         3         4         5  \\\n",
       "2024-09-17 -1.365386 -0.864441 -1.786529 -1.734015  0.201629  1.202852   \n",
       "2024-09-18 -1.130591  1.367957  0.583820  0.895383 -0.902393  1.476435   \n",
       "2024-09-16 -0.502431  0.447966  0.485967 -0.763596  0.011681 -1.831902   \n",
       "2024-09-14 -0.399742  0.946913  0.242155 -0.260664 -1.303096  1.278942   \n",
       "2024-09-15 -0.126841 -0.427285 -0.421303 -0.836170  0.556634  1.780757   \n",
       "2024-09-12  0.069399  0.402969  1.500409  0.891613 -0.228712 -0.390077   \n",
       "2024-09-13  0.401574  1.926915  0.016416 -0.578756 -0.353761 -0.356750   \n",
       "2024-09-11  0.728140  0.100901  0.740774 -0.187760 -1.871110  0.610731   \n",
       "\n",
       "                   6         7         8         9  \n",
       "2024-09-17  1.330522  0.044190  0.146575  0.750963  \n",
       "2024-09-18 -0.871649 -1.761703  0.455199  0.777922  \n",
       "2024-09-16 -1.177608  0.328454  0.465197  0.287113  \n",
       "2024-09-14 -0.164059  0.486928  0.809457  0.186319  \n",
       "2024-09-15 -0.303936 -2.249322  0.031895  0.506383  \n",
       "2024-09-12  0.879349 -0.124752  0.388738 -0.615965  \n",
       "2024-09-13 -1.728692  1.954338 -1.221848 -0.943397  \n",
       "2024-09-11  0.143847 -0.441671  0.847556 -0.760118  "
      ]
     },
     "execution_count": 24,
     "metadata": {},
     "output_type": "execute_result"
    }
   ],
   "source": [
    "x.sort_values(by=0)"
   ]
  },
  {
   "cell_type": "code",
   "execution_count": 25,
   "id": "805c1aea-f69d-40cb-9f8e-f9f4aed56331",
   "metadata": {},
   "outputs": [
    {
     "data": {
      "text/plain": [
       "2024-09-11    0.100901\n",
       "2024-09-12    0.402969\n",
       "2024-09-13    1.926915\n",
       "2024-09-14    0.946913\n",
       "2024-09-16    0.447966\n",
       "2024-09-18    1.367957\n",
       "Name: 1, dtype: float64"
      ]
     },
     "execution_count": 25,
     "metadata": {},
     "output_type": "execute_result"
    }
   ],
   "source": [
    "u=x[x[1]>0]\n",
    "u[1]"
   ]
  },
  {
   "cell_type": "markdown",
   "id": "73281cc8",
   "metadata": {},
   "source": [
    "# Matplotlib"
   ]
  },
  {
   "cell_type": "code",
   "execution_count": 26,
   "id": "7a40ce02",
   "metadata": {},
   "outputs": [],
   "source": [
    "import matplotlib.pyplot as plt"
   ]
  },
  {
   "cell_type": "code",
   "execution_count": 27,
   "id": "40c56ea9",
   "metadata": {},
   "outputs": [
    {
     "data": {
      "image/png": "[encoded data removed]",
      "text/plain": [
       "<Figure size 1200x600 with 2 Axes>"
      ]
     },
     "metadata": {},
     "output_type": "display_data"
    }
   ],
   "source": [
    "plt.figure(figsize=(12,6))\n",
    "\n",
    "plt.subplot(1,2,1)\n",
    "plt.plot(x[1] , (x[1])**2, 'o')\n",
    "\n",
    "plt.subplot(1,2,2)\n",
    "plt.plot(x[1], x[1] , 'o')\n",
    "\n",
    "plt.show()"
   ]
  },
  {
   "cell_type": "code",
   "execution_count": 28,
   "id": "39b92371",
   "metadata": {},
   "outputs": [
    {
     "data": {
      "text/plain": [
       "[<matplotlib.lines.Line2D at 0x1ee7c904aa0>,\n",
       " <matplotlib.lines.Line2D at 0x1ee7c907620>]"
      ]
     },
     "execution_count": 28,
     "metadata": {},
     "output_type": "execute_result"
    },
    {
     "data": {
      "image/png": "[encoded data removed]",
      "text/plain": [
       "<Figure size 1200x600 with 1 Axes>"
      ]
     },
     "metadata": {},
     "output_type": "display_data"
    }
   ],
   "source": [
    "plt.figure(figsize=(12,6))\n",
    "plt.plot(x[1] , (x[1])**2, 'o',x[1], x[1] , 'r--')\n"
   ]
  },
  {
   "cell_type": "markdown",
   "id": "4d6c4fee",
   "metadata": {},
   "source": [
    "# Exercise 1"
   ]
  },
  {
   "cell_type": "code",
   "execution_count": 29,
   "id": "f3481407",
   "metadata": {},
   "outputs": [],
   "source": [
    "import numpy as np\n",
    "import pandas as pd\n",
    "import matplotlib.pyplot as plt"
   ]
  },
  {
   "cell_type": "code",
   "execution_count": 30,
   "id": "16a7a37d",
   "metadata": {},
   "outputs": [
    {
     "data": {
      "text/html": [
       "<div>\n",
       "<style scoped>\n",
       "    .dataframe tbody tr th:only-of-type {\n",
       "        vertical-align: middle;\n",
       "    }\n",
       "\n",
       "    .dataframe tbody tr th {\n",
       "        vertical-align: top;\n",
       "    }\n",
       "\n",
       "    .dataframe thead th {\n",
       "        text-align: right;\n",
       "    }\n",
       "</style>\n",
       "<table border=\"1\" class=\"dataframe\">\n",
       "  <thead>\n",
       "    <tr style=\"text-align: right;\">\n",
       "      <th></th>\n",
       "      <th>MODELYEAR</th>\n",
       "      <th>MAKE</th>\n",
       "      <th>MODEL</th>\n",
       "      <th>VEHICLECLASS</th>\n",
       "      <th>ENGINESIZE</th>\n",
       "      <th>CYLINDERS</th>\n",
       "      <th>TRANSMISSION</th>\n",
       "      <th>FUELTYPE</th>\n",
       "      <th>FUELCONSUMPTION_CITY</th>\n",
       "      <th>FUELCONSUMPTION_HWY</th>\n",
       "      <th>FUELCONSUMPTION_COMB</th>\n",
       "      <th>FUELCONSUMPTION_COMB_MPG</th>\n",
       "      <th>CO2EMISSIONS</th>\n",
       "    </tr>\n",
       "  </thead>\n",
       "  <tbody>\n",
       "    <tr>\n",
       "      <th>0</th>\n",
       "      <td>2014</td>\n",
       "      <td>ACURA</td>\n",
       "      <td>ILX</td>\n",
       "      <td>COMPACT</td>\n",
       "      <td>2.0</td>\n",
       "      <td>4</td>\n",
       "      <td>AS5</td>\n",
       "      <td>Z</td>\n",
       "      <td>9.9</td>\n",
       "      <td>6.7</td>\n",
       "      <td>8.5</td>\n",
       "      <td>33</td>\n",
       "      <td>196</td>\n",
       "    </tr>\n",
       "    <tr>\n",
       "      <th>1</th>\n",
       "      <td>2014</td>\n",
       "      <td>ACURA</td>\n",
       "      <td>ILX</td>\n",
       "      <td>COMPACT</td>\n",
       "      <td>2.4</td>\n",
       "      <td>4</td>\n",
       "      <td>M6</td>\n",
       "      <td>Z</td>\n",
       "      <td>11.2</td>\n",
       "      <td>7.7</td>\n",
       "      <td>9.6</td>\n",
       "      <td>29</td>\n",
       "      <td>221</td>\n",
       "    </tr>\n",
       "    <tr>\n",
       "      <th>2</th>\n",
       "      <td>2014</td>\n",
       "      <td>ACURA</td>\n",
       "      <td>ILX HYBRID</td>\n",
       "      <td>COMPACT</td>\n",
       "      <td>1.5</td>\n",
       "      <td>4</td>\n",
       "      <td>AV7</td>\n",
       "      <td>Z</td>\n",
       "      <td>6.0</td>\n",
       "      <td>5.8</td>\n",
       "      <td>5.9</td>\n",
       "      <td>48</td>\n",
       "      <td>136</td>\n",
       "    </tr>\n",
       "  </tbody>\n",
       "</table>\n",
       "</div>"
      ],
      "text/plain": [
       "   MODELYEAR   MAKE       MODEL VEHICLECLASS  ENGINESIZE  CYLINDERS  \\\n",
       "0       2014  ACURA         ILX      COMPACT         2.0          4   \n",
       "1       2014  ACURA         ILX      COMPACT         2.4          4   \n",
       "2       2014  ACURA  ILX HYBRID      COMPACT         1.5          4   \n",
       "\n",
       "  TRANSMISSION FUELTYPE  FUELCONSUMPTION_CITY  FUELCONSUMPTION_HWY  \\\n",
       "0          AS5        Z                   9.9                  6.7   \n",
       "1           M6        Z                  11.2                  7.7   \n",
       "2          AV7        Z                   6.0                  5.8   \n",
       "\n",
       "   FUELCONSUMPTION_COMB  FUELCONSUMPTION_COMB_MPG  CO2EMISSIONS  \n",
       "0                   8.5                        33           196  \n",
       "1                   9.6                        29           221  \n",
       "2                   5.9                        48           136  "
      ]
     },
     "execution_count": 30,
     "metadata": {},
     "output_type": "execute_result"
    }
   ],
   "source": [
    "my_data = pd.read_csv(r\"F:\\JUPYTER\\notbook\\trainingn\\csv\\FuelConsumption.csv\")\n",
    "my_data.head(3)"
   ]
  },
  {
   "cell_type": "code",
   "execution_count": 31,
   "id": "365a96ff",
   "metadata": {},
   "outputs": [
    {
     "data": {
      "text/html": [
       "<div>\n",
       "<style scoped>\n",
       "    .dataframe tbody tr th:only-of-type {\n",
       "        vertical-align: middle;\n",
       "    }\n",
       "\n",
       "    .dataframe tbody tr th {\n",
       "        vertical-align: top;\n",
       "    }\n",
       "\n",
       "    .dataframe thead th {\n",
       "        text-align: right;\n",
       "    }\n",
       "</style>\n",
       "<table border=\"1\" class=\"dataframe\">\n",
       "  <thead>\n",
       "    <tr style=\"text-align: right;\">\n",
       "      <th></th>\n",
       "      <th>MODELYEAR</th>\n",
       "      <th>ENGINESIZE</th>\n",
       "      <th>CYLINDERS</th>\n",
       "      <th>FUELCONSUMPTION_CITY</th>\n",
       "      <th>FUELCONSUMPTION_HWY</th>\n",
       "      <th>FUELCONSUMPTION_COMB</th>\n",
       "      <th>FUELCONSUMPTION_COMB_MPG</th>\n",
       "      <th>CO2EMISSIONS</th>\n",
       "    </tr>\n",
       "  </thead>\n",
       "  <tbody>\n",
       "    <tr>\n",
       "      <th>count</th>\n",
       "      <td>1067.0</td>\n",
       "      <td>1067.000000</td>\n",
       "      <td>1067.000000</td>\n",
       "      <td>1067.000000</td>\n",
       "      <td>1067.000000</td>\n",
       "      <td>1067.000000</td>\n",
       "      <td>1067.000000</td>\n",
       "      <td>1067.000000</td>\n",
       "    </tr>\n",
       "    <tr>\n",
       "      <th>mean</th>\n",
       "      <td>2014.0</td>\n",
       "      <td>3.346298</td>\n",
       "      <td>5.794752</td>\n",
       "      <td>13.296532</td>\n",
       "      <td>9.474602</td>\n",
       "      <td>11.580881</td>\n",
       "      <td>26.441425</td>\n",
       "      <td>256.228679</td>\n",
       "    </tr>\n",
       "    <tr>\n",
       "      <th>std</th>\n",
       "      <td>0.0</td>\n",
       "      <td>1.415895</td>\n",
       "      <td>1.797447</td>\n",
       "      <td>4.101253</td>\n",
       "      <td>2.794510</td>\n",
       "      <td>3.485595</td>\n",
       "      <td>7.468702</td>\n",
       "      <td>63.372304</td>\n",
       "    </tr>\n",
       "    <tr>\n",
       "      <th>min</th>\n",
       "      <td>2014.0</td>\n",
       "      <td>1.000000</td>\n",
       "      <td>3.000000</td>\n",
       "      <td>4.600000</td>\n",
       "      <td>4.900000</td>\n",
       "      <td>4.700000</td>\n",
       "      <td>11.000000</td>\n",
       "      <td>108.000000</td>\n",
       "    </tr>\n",
       "    <tr>\n",
       "      <th>25%</th>\n",
       "      <td>2014.0</td>\n",
       "      <td>2.000000</td>\n",
       "      <td>4.000000</td>\n",
       "      <td>10.250000</td>\n",
       "      <td>7.500000</td>\n",
       "      <td>9.000000</td>\n",
       "      <td>21.000000</td>\n",
       "      <td>207.000000</td>\n",
       "    </tr>\n",
       "    <tr>\n",
       "      <th>50%</th>\n",
       "      <td>2014.0</td>\n",
       "      <td>3.400000</td>\n",
       "      <td>6.000000</td>\n",
       "      <td>12.600000</td>\n",
       "      <td>8.800000</td>\n",
       "      <td>10.900000</td>\n",
       "      <td>26.000000</td>\n",
       "      <td>251.000000</td>\n",
       "    </tr>\n",
       "    <tr>\n",
       "      <th>75%</th>\n",
       "      <td>2014.0</td>\n",
       "      <td>4.300000</td>\n",
       "      <td>8.000000</td>\n",
       "      <td>15.550000</td>\n",
       "      <td>10.850000</td>\n",
       "      <td>13.350000</td>\n",
       "      <td>31.000000</td>\n",
       "      <td>294.000000</td>\n",
       "    </tr>\n",
       "    <tr>\n",
       "      <th>max</th>\n",
       "      <td>2014.0</td>\n",
       "      <td>8.400000</td>\n",
       "      <td>12.000000</td>\n",
       "      <td>30.200000</td>\n",
       "      <td>20.500000</td>\n",
       "      <td>25.800000</td>\n",
       "      <td>60.000000</td>\n",
       "      <td>488.000000</td>\n",
       "    </tr>\n",
       "  </tbody>\n",
       "</table>\n",
       "</div>"
      ],
      "text/plain": [
       "       MODELYEAR   ENGINESIZE    CYLINDERS  FUELCONSUMPTION_CITY  \\\n",
       "count     1067.0  1067.000000  1067.000000           1067.000000   \n",
       "mean      2014.0     3.346298     5.794752             13.296532   \n",
       "std          0.0     1.415895     1.797447              4.101253   \n",
       "min       2014.0     1.000000     3.000000              4.600000   \n",
       "25%       2014.0     2.000000     4.000000             10.250000   \n",
       "50%       2014.0     3.400000     6.000000             12.600000   \n",
       "75%       2014.0     4.300000     8.000000             15.550000   \n",
       "max       2014.0     8.400000    12.000000             30.200000   \n",
       "\n",
       "       FUELCONSUMPTION_HWY  FUELCONSUMPTION_COMB  FUELCONSUMPTION_COMB_MPG  \\\n",
       "count          1067.000000           1067.000000               1067.000000   \n",
       "mean              9.474602             11.580881                 26.441425   \n",
       "std               2.794510              3.485595                  7.468702   \n",
       "min               4.900000              4.700000                 11.000000   \n",
       "25%               7.500000              9.000000                 21.000000   \n",
       "50%               8.800000             10.900000                 26.000000   \n",
       "75%              10.850000             13.350000                 31.000000   \n",
       "max              20.500000             25.800000                 60.000000   \n",
       "\n",
       "       CO2EMISSIONS  \n",
       "count   1067.000000  \n",
       "mean     256.228679  \n",
       "std       63.372304  \n",
       "min      108.000000  \n",
       "25%      207.000000  \n",
       "50%      251.000000  \n",
       "75%      294.000000  \n",
       "max      488.000000  "
      ]
     },
     "execution_count": 31,
     "metadata": {},
     "output_type": "execute_result"
    }
   ],
   "source": [
    "my_data.describe()"
   ]
  },
  {
   "cell_type": "code",
   "execution_count": 32,
   "id": "665fab18",
   "metadata": {},
   "outputs": [
    {
     "data": {
      "image/png": "[encoded data removed]",
      "text/plain": [
       "<Figure size 640x480 with 4 Axes>"
      ]
     },
     "metadata": {},
     "output_type": "display_data"
    }
   ],
   "source": [
    "cdf=my_data[['CYLINDERS','ENGINESIZE','FUELCONSUMPTION_COMB','CO2EMISSIONS']]\n",
    "cdf.hist()\n",
    "plt.show()"
   ]
  },
  {
   "cell_type": "code",
   "execution_count": 33,
   "id": "3a0bb9eb",
   "metadata": {},
   "outputs": [
    {
     "data": {
      "image/png": "[encoded data removed]",
      "text/plain": [
       "<Figure size 512x384 with 1 Axes>"
      ]
     },
     "metadata": {},
     "output_type": "display_data"
    },
    {
     "data": {
      "image/png": "[encoded data removed]",
      "text/plain": [
       "<Figure size 640x480 with 1 Axes>"
      ]
     },
     "metadata": {},
     "output_type": "display_data"
    },
    {
     "data": {
      "image/png": "[encoded data removed]",
      "text/plain": [
       "<Figure size 640x480 with 1 Axes>"
      ]
     },
     "metadata": {},
     "output_type": "display_data"
    }
   ],
   "source": [
    "plt.figure(dpi=80)\n",
    "figsize=(12, 6)\n",
    "\n",
    "for i in cdf:\n",
    "    if i=='CO2EMISSIONS':\n",
    "        break\n",
    "    plt.plot(cdf[i],cdf['CO2EMISSIONS'] , 'o')\n",
    "    plt.xlabel(i)\n",
    "    plt.ylabel('CO2EMISSIONS')\n",
    "    plt.show()"
   ]
  },
  {
   "cell_type": "code",
   "execution_count": 34,
   "id": "dd6cccf5",
   "metadata": {},
   "outputs": [],
   "source": [
    "msk=np.random.rand(len(my_data)) <0.8\n",
    "train=cdf[msk]\n",
    "test=cdf[~msk]"
   ]
  },
  {
   "cell_type": "code",
   "execution_count": 35,
   "id": "2ad91093",
   "metadata": {},
   "outputs": [
    {
     "ename": "KeyError",
     "evalue": "''",
     "output_type": "error",
     "traceback": [
      "\u001b[1;31m---------------------------------------------------------------------------\u001b[0m",
      "\u001b[1;31mKeyError\u001b[0m                                  Traceback (most recent call last)",
      "File \u001b[1;32mc:\\Users\\ASUS\\AppData\\Local\\Programs\\Python\\Python312\\Lib\\site-packages\\pandas\\core\\indexes\\base.py:3805\u001b[0m, in \u001b[0;36mIndex.get_loc\u001b[1;34m(self, key)\u001b[0m\n\u001b[0;32m   3804\u001b[0m \u001b[38;5;28;01mtry\u001b[39;00m:\n\u001b[1;32m-> 3805\u001b[0m     \u001b[38;5;28;01mreturn\u001b[39;00m \u001b[38;5;28;43mself\u001b[39;49m\u001b[38;5;241;43m.\u001b[39;49m\u001b[43m_engine\u001b[49m\u001b[38;5;241;43m.\u001b[39;49m\u001b[43mget_loc\u001b[49m\u001b[43m(\u001b[49m\u001b[43mcasted_key\u001b[49m\u001b[43m)\u001b[49m\n\u001b[0;32m   3806\u001b[0m \u001b[38;5;28;01mexcept\u001b[39;00m \u001b[38;5;167;01mKeyError\u001b[39;00m \u001b[38;5;28;01mas\u001b[39;00m err:\n",
      "File \u001b[1;32mindex.pyx:167\u001b[0m, in \u001b[0;36mpandas._libs.index.IndexEngine.get_loc\u001b[1;34m()\u001b[0m\n",
      "File \u001b[1;32mindex.pyx:196\u001b[0m, in \u001b[0;36mpandas._libs.index.IndexEngine.get_loc\u001b[1;34m()\u001b[0m\n",
      "File \u001b[1;32mpandas\\\\_libs\\\\hashtable_class_helper.pxi:7081\u001b[0m, in \u001b[0;36mpandas._libs.hashtable.PyObjectHashTable.get_item\u001b[1;34m()\u001b[0m\n",
      "File \u001b[1;32mpandas\\\\_libs\\\\hashtable_class_helper.pxi:7089\u001b[0m, in \u001b[0;36mpandas._libs.hashtable.PyObjectHashTable.get_item\u001b[1;34m()\u001b[0m\n",
      "\u001b[1;31mKeyError\u001b[0m: ''",
      "\nThe above exception was the direct cause of the following exception:\n",
      "\u001b[1;31mKeyError\u001b[0m                                  Traceback (most recent call last)",
      "Cell \u001b[1;32mIn[35], line 6\u001b[0m\n\u001b[0;32m      4\u001b[0m ax1\u001b[38;5;241m=\u001b[39mfig\u001b[38;5;241m.\u001b[39madd_subplot(\u001b[38;5;241m111\u001b[39m)\n\u001b[0;32m      5\u001b[0m ax1\u001b[38;5;241m.\u001b[39mplot(train[\u001b[38;5;124m'\u001b[39m\u001b[38;5;124mENGINESIZE\u001b[39m\u001b[38;5;124m'\u001b[39m],train[\u001b[38;5;124m'\u001b[39m\u001b[38;5;124mCO2EMISSIONS\u001b[39m\u001b[38;5;124m'\u001b[39m] , \u001b[38;5;124m'\u001b[39m\u001b[38;5;124mo\u001b[39m\u001b[38;5;124m'\u001b[39m, color\u001b[38;5;241m=\u001b[39m\u001b[38;5;124m'\u001b[39m\u001b[38;5;124mblue\u001b[39m\u001b[38;5;124m'\u001b[39m)\n\u001b[1;32m----> 6\u001b[0m ax1\u001b[38;5;241m.\u001b[39mplot(\u001b[43mtest\u001b[49m\u001b[43m[\u001b[49m\u001b[38;5;124;43m'\u001b[39;49m\u001b[38;5;124;43m'\u001b[39;49m\u001b[43m]\u001b[49m,test[\u001b[38;5;124m'\u001b[39m\u001b[38;5;124mCO2EMISSIONS\u001b[39m\u001b[38;5;124m'\u001b[39m] , \u001b[38;5;124m'\u001b[39m\u001b[38;5;124mo\u001b[39m\u001b[38;5;124m'\u001b[39m, color\u001b[38;5;241m=\u001b[39m\u001b[38;5;124m'\u001b[39m\u001b[38;5;124mred\u001b[39m\u001b[38;5;124m'\u001b[39m)\n\u001b[0;32m      7\u001b[0m plt\u001b[38;5;241m.\u001b[39mxlabel(\u001b[38;5;124m'\u001b[39m\u001b[38;5;124mENGINESIZE\u001b[39m\u001b[38;5;124m'\u001b[39m)\n\u001b[0;32m      8\u001b[0m plt\u001b[38;5;241m.\u001b[39mylabel(\u001b[38;5;124m'\u001b[39m\u001b[38;5;124mCO2EMISSIONS\u001b[39m\u001b[38;5;124m'\u001b[39m)\n",
      "File \u001b[1;32mc:\\Users\\ASUS\\AppData\\Local\\Programs\\Python\\Python312\\Lib\\site-packages\\pandas\\core\\frame.py:4090\u001b[0m, in \u001b[0;36mDataFrame.__getitem__\u001b[1;34m(self, key)\u001b[0m\n\u001b[0;32m   4088\u001b[0m \u001b[38;5;28;01mif\u001b[39;00m \u001b[38;5;28mself\u001b[39m\u001b[38;5;241m.\u001b[39mcolumns\u001b[38;5;241m.\u001b[39mnlevels \u001b[38;5;241m>\u001b[39m \u001b[38;5;241m1\u001b[39m:\n\u001b[0;32m   4089\u001b[0m     \u001b[38;5;28;01mreturn\u001b[39;00m \u001b[38;5;28mself\u001b[39m\u001b[38;5;241m.\u001b[39m_getitem_multilevel(key)\n\u001b[1;32m-> 4090\u001b[0m indexer \u001b[38;5;241m=\u001b[39m \u001b[38;5;28;43mself\u001b[39;49m\u001b[38;5;241;43m.\u001b[39;49m\u001b[43mcolumns\u001b[49m\u001b[38;5;241;43m.\u001b[39;49m\u001b[43mget_loc\u001b[49m\u001b[43m(\u001b[49m\u001b[43mkey\u001b[49m\u001b[43m)\u001b[49m\n\u001b[0;32m   4091\u001b[0m \u001b[38;5;28;01mif\u001b[39;00m is_integer(indexer):\n\u001b[0;32m   4092\u001b[0m     indexer \u001b[38;5;241m=\u001b[39m [indexer]\n",
      "File \u001b[1;32mc:\\Users\\ASUS\\AppData\\Local\\Programs\\Python\\Python312\\Lib\\site-packages\\pandas\\core\\indexes\\base.py:3812\u001b[0m, in \u001b[0;36mIndex.get_loc\u001b[1;34m(self, key)\u001b[0m\n\u001b[0;32m   3807\u001b[0m     \u001b[38;5;28;01mif\u001b[39;00m \u001b[38;5;28misinstance\u001b[39m(casted_key, \u001b[38;5;28mslice\u001b[39m) \u001b[38;5;129;01mor\u001b[39;00m (\n\u001b[0;32m   3808\u001b[0m         \u001b[38;5;28misinstance\u001b[39m(casted_key, abc\u001b[38;5;241m.\u001b[39mIterable)\n\u001b[0;32m   3809\u001b[0m         \u001b[38;5;129;01mand\u001b[39;00m \u001b[38;5;28many\u001b[39m(\u001b[38;5;28misinstance\u001b[39m(x, \u001b[38;5;28mslice\u001b[39m) \u001b[38;5;28;01mfor\u001b[39;00m x \u001b[38;5;129;01min\u001b[39;00m casted_key)\n\u001b[0;32m   3810\u001b[0m     ):\n\u001b[0;32m   3811\u001b[0m         \u001b[38;5;28;01mraise\u001b[39;00m InvalidIndexError(key)\n\u001b[1;32m-> 3812\u001b[0m     \u001b[38;5;28;01mraise\u001b[39;00m \u001b[38;5;167;01mKeyError\u001b[39;00m(key) \u001b[38;5;28;01mfrom\u001b[39;00m \u001b[38;5;21;01merr\u001b[39;00m\n\u001b[0;32m   3813\u001b[0m \u001b[38;5;28;01mexcept\u001b[39;00m \u001b[38;5;167;01mTypeError\u001b[39;00m:\n\u001b[0;32m   3814\u001b[0m     \u001b[38;5;66;03m# If we have a listlike key, _check_indexing_error will raise\u001b[39;00m\n\u001b[0;32m   3815\u001b[0m     \u001b[38;5;66;03m#  InvalidIndexError. Otherwise we fall through and re-raise\u001b[39;00m\n\u001b[0;32m   3816\u001b[0m     \u001b[38;5;66;03m#  the TypeError.\u001b[39;00m\n\u001b[0;32m   3817\u001b[0m     \u001b[38;5;28mself\u001b[39m\u001b[38;5;241m.\u001b[39m_check_indexing_error(key)\n",
      "\u001b[1;31mKeyError\u001b[0m: ''"
     ]
    },
    {
     "data": {
      "image/png": "[encoded data removed]",
      "text/plain": [
       "<Figure size 512x384 with 1 Axes>"
      ]
     },
     "metadata": {},
     "output_type": "display_data"
    }
   ],
   "source": [
    "fig=plt.figure(dpi=80)\n",
    "figsize=(12, 6)\n",
    "\n",
    "ax1=fig.add_subplot(111)\n",
    "ax1.plot(train['ENGINESIZE'],train['CO2EMISSIONS'] , 'o', color='blue')\n",
    "ax1.plot(test[''],test['CO2EMISSIONS'] , 'o', color='red')\n",
    "plt.xlabel('ENGINESIZE')\n",
    "plt.ylabel('CO2EMISSIONS')\n",
    "plt.show()"
   ]
  },
  {
   "cell_type": "code",
   "execution_count": 37,
   "id": "5db8a7ab",
   "metadata": {},
   "outputs": [
    {
     "name": "stdout",
     "output_type": "stream",
     "text": [
      "a : 38.97926509880993\n",
      "b : 126.27790193681102\n",
      "y = 38.97926509880993 X + 126.27790193681102\n"
     ]
    }
   ],
   "source": [
    "from sklearn import linear_model\n",
    "reg = linear_model.LinearRegression()\n",
    "train_x=np.asanyarray(train[['ENGINESIZE']])\n",
    "train_y=np.asanyarray(train[['CO2EMISSIONS']])\n",
    "reg.fit(train_x,train_y)\n",
    "print('a :', reg.coef_[0][0])\n",
    "print('b :', reg.intercept_[0])\n",
    "\n",
    "print(F\"y = {reg.coef_[0][0]} X + {reg.intercept_[0]}\")"
   ]
  },
  {
   "cell_type": "code",
   "execution_count": 38,
   "id": "b2d87cea",
   "metadata": {},
   "outputs": [
    {
     "data": {
      "image/png": "[encoded data removed]",
      "text/plain": [
       "<Figure size 640x480 with 1 Axes>"
      ]
     },
     "metadata": {},
     "output_type": "display_data"
    }
   ],
   "source": [
    "plt.scatter(train[\"ENGINESIZE\"],train[\"CO2EMISSIONS\"])\n",
    "plt.plot(train_x , reg.coef_[0][0]*train_x + reg.intercept_[0] ,color='red')\n",
    "plt.xlabel('ENGINESIZE')\n",
    "plt.ylabel('CO2EMISSIONS')\n",
    "plt.show()"
   ]
  },
  {
   "cell_type": "code",
   "execution_count": 39,
   "id": "be4878e5",
   "metadata": {},
   "outputs": [
    {
     "name": "stdout",
     "output_type": "stream",
     "text": [
      "mean absolute error (MAE) : 25.901143093484475\n",
      "mean square error (MSE) : 4.984968573583354\n",
      "R2 : 0.7719575223781812\n"
     ]
    }
   ],
   "source": [
    "from sklearn.metrics import r2_score\n",
    "\n",
    "test_x=np.asanyarray(test[['ENGINESIZE']])\n",
    "test_y=np.asanyarray(test[['CO2EMISSIONS']])\n",
    "test_y_= reg.predict(test_x)\n",
    "\n",
    "print('mean absolute error (MAE) :' , np.mean(np.absolute(test_y_ - test_y)))\n",
    "print('mean square error (MSE) :' , np.mean(test_y_ - test_y)**2)\n",
    "print('R2 :' , r2_score(test_y , test_y_))"
   ]
  },
  {
   "cell_type": "code",
   "execution_count": 40,
   "id": "8113be86",
   "metadata": {},
   "outputs": [
    {
     "name": "stdout",
     "output_type": "stream",
     "text": [
      "[[516.07055292]]\n"
     ]
    }
   ],
   "source": [
    "print(reg.predict(np.array([[10]])))"
   ]
  },
  {
   "cell_type": "code",
   "execution_count": 41,
   "id": "9f68353f",
   "metadata": {},
   "outputs": [],
   "source": [
    "cdf=my_data[['ENGINESIZE',\t'CYLINDERS',\t'FUELCONSUMPTION_CITY',\t'FUELCONSUMPTION_HWY',\t'FUELCONSUMPTION_COMB',\t'CO2EMISSIONS']]"
   ]
  },
  {
   "cell_type": "code",
   "execution_count": 42,
   "id": "6f26875c",
   "metadata": {},
   "outputs": [],
   "source": [
    "msk=np.random.rand(len(my_data)) <0.8\n",
    "train=cdf[msk]\n",
    "test=cdf[~msk]"
   ]
  },
  {
   "cell_type": "code",
   "execution_count": 43,
   "id": "2b4ef06d",
   "metadata": {},
   "outputs": [
    {
     "name": "stdout",
     "output_type": "stream",
     "text": [
      "a1 : 10.331153685313971\n",
      "a2 : 7.099994185873846\n",
      "a3 : -1.1527178022321882\n",
      "a4 : -2.8412374016912354\n",
      "a5 : 13.789028727766311\n",
      "b : 63.444899180220204\n",
      "y = 10.331153685313971 X  +  7.099994185873846 X  +  -1.1527178022321882 X  +  -2.8412374016912354 X  +  13.789028727766311 X   + 63.444899180220204\n"
     ]
    }
   ],
   "source": [
    "from sklearn import linear_model\n",
    "reg = linear_model.LinearRegression()\n",
    "train_x =np.asanyarray(train[['ENGINESIZE',\t'CYLINDERS' , 'FUELCONSUMPTION_CITY',\t'FUELCONSUMPTION_HWY',\t'FUELCONSUMPTION_COMB']])\n",
    "train_y =np.asanyarray(train[['CO2EMISSIONS']])\n",
    "reg.fit(train_x,train_y)\n",
    "\n",
    "print('a1 :', reg.coef_[0][0])\n",
    "print('a2 :', reg.coef_[0][1])\n",
    "print('a3 :', reg.coef_[0][2])\n",
    "print('a4 :', reg.coef_[0][3])\n",
    "print('a5 :', reg.coef_[0][4])\n",
    "\n",
    "\n",
    "print('b :', reg.intercept_[0])\n",
    "\n",
    "print(F\"y = {reg.coef_[0][0]} X  +  {reg.coef_[0][1]} X  +  {reg.coef_[0][2]} X  +  {reg.coef_[0][3]} X  +  {reg.coef_[0][4]} X   + {reg.intercept_[0]}\")"
   ]
  },
  {
   "cell_type": "code",
   "execution_count": 44,
   "id": "f7731543",
   "metadata": {},
   "outputs": [
    {
     "ename": "SyntaxError",
     "evalue": "invalid syntax (3836515940.py, line 1)",
     "output_type": "error",
     "traceback": [
      "\u001b[1;36m  Cell \u001b[1;32mIn[44], line 1\u001b[1;36m\u001b[0m\n\u001b[1;33m    test_x=np.as\u001b[0m\n\u001b[1;37m              ^\u001b[0m\n\u001b[1;31mSyntaxError\u001b[0m\u001b[1;31m:\u001b[0m invalid syntax\n"
     ]
    }
   ],
   "source": [
    "test_x=np.as"
   ]
  }
 ],
 "metadata": {
  "kernelspec": {
   "display_name": "Python 3 (ipykernel)",
   "language": "python",
   "name": "python3"
  },
  "language_info": {
   "codemirror_mode": {
    "name": "ipython",
    "version": 3
   },
   "file_extension": ".py",
   "mimetype": "text/x-python",
   "name": "python",
   "nbconvert_exporter": "python",
   "pygments_lexer": "ipython3",
   "version": "3.12.0"
  },
  "widgets": {
   "application/vnd.jupyter.widget-state+json": {
    "state": {},
    "version_major": 2,
    "version_minor": 0
   }
  }
 },
 "nbformat": 4,
 "nbformat_minor": 5
}
