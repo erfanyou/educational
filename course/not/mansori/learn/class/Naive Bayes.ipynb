{
 "cells": [
  {
   "cell_type": "markdown",
   "metadata": {},
   "source": [
    "<img src=\"https://webna.ir/wp-content/uploads/2018/08/%D9%85%DA%A9%D8%AA%D8%A8-%D8%AE%D9%88%D9%86%D9%87.png\" width=50% />"
   ]
  },
  {
   "cell_type": "markdown",
   "metadata": {},
   "source": [
    "<div class=\"alert alert-block alert-success\">\n",
    "    <h1 align=\"center\">Machine Learning in Python</h1>\n",
    "    <h3 align=\"center\">Naive Bayes(Social media ADs Dataset)</h3>\n",
    "    <h4 align=\"center\"><a href=\"http://www.iran-machinelearning.ir\">Soheil Tehranipour</a></h5>\n",
    "</div>"
   ]
  },
  {
   "cell_type": "markdown",
   "metadata": {},
   "source": [
    "<img src = \"https://machinelearningmastery.com/wp-content/uploads/2014/12/naive-bayes-classifier.jpg\" width=50%>"
   ]
  },
  {
   "cell_type": "markdown",
   "metadata": {},
   "source": [
    "- [ ] What is Naive Bayes?\n",
    "- [ ] Social Media ADs Dataset\n",
    "- [ ] Label Encoding with Sklearn\n",
    "- [ ] Feature Scaling with Sklearn\n",
    "- [ ] Training the model\n",
    "- [ ] Model Evaluation"
   ]
  },
  {
   "cell_type": "markdown",
   "metadata": {},
   "source": [
    "## What is Naive Bayes?"
   ]
  },
  {
   "cell_type": "markdown",
   "metadata": {},
   "source": [
    "Naive Bayes is a **classification** algorithm that works based on the Bayes theorem. Before explaining about Naive Bayes, first, we should discuss Bayes Theorem. Bayes theorem is used to find the probability of a hypothesis with given evidence."
   ]
  },
  {
   "cell_type": "markdown",
   "metadata": {},
   "source": [
    "<img src = \"https://editor.analyticsvidhya.com/uploads/34725nv1.png\" width=50%>"
   ]
  },
  {
   "cell_type": "markdown",
   "metadata": {},
   "source": [
    "In this, using Bayes theorem we can find the probability of A, given that B occurred.\n",
    "\n",
    "> A is the hypothesis and B is the evidence.\n",
    "\n",
    "> P(B|A) is the probability of B given that A is True.\n",
    "\n",
    "> P(A) and P(B) is the independent probabilities of A and B."
   ]
  },
  {
   "cell_type": "markdown",
   "metadata": {},
   "source": [
    "<img src = \"https://editor.analyticsvidhya.com/uploads/30337nv.png\" width=50%>"
   ]
  },
  {
   "cell_type": "markdown",
   "metadata": {},
   "source": [
    "## The concept behind the algorithm\n",
    "\n",
    "Let’s understand the concept of the Naive Bayes Theorem through an example. We are taking a dataset of employees in a company, our aim is to create a model to find whether a person is going to the office by driving or walking using salary and age of the person."
   ]
  },
  {
   "cell_type": "markdown",
   "metadata": {},
   "source": [
    "<img src = \"https://editor.analyticsvidhya.com/uploads/75704nv3.png\" width=50%>"
   ]
  },
  {
   "cell_type": "markdown",
   "metadata": {},
   "source": [
    "* Note that we are taken age on the X-axis and Salary on the Y-axis. "
   ]
  },
  {
   "cell_type": "markdown",
   "metadata": {},
   "source": [
    "In the above, we can see 30 data points in which red points belong to those who are walking and green belongs to those who are driving."
   ]
  },
  {
   "cell_type": "markdown",
   "metadata": {},
   "source": [
    "<img src = \"https://editor.analyticsvidhya.com/uploads/60483nv4.png\" width=50%>"
   ]
  },
  {
   "cell_type": "markdown",
   "metadata": {},
   "source": [
    "Now let’s add a new data point into it. Our aim is to find the category that the new point belongs to."
   ]
  },
  {
   "cell_type": "markdown",
   "metadata": {},
   "source": [
    "<img src = \"https://editor.analyticsvidhya.com/uploads/67866nv5.png\" width=50%>"
   ]
  },
  {
   "cell_type": "code",
<<<<<<< HEAD
   "execution_count": 18,
=======
   "execution_count": 2,
>>>>>>> 462e300dbcb4cf0751f6b76a297dabc18c342638
   "metadata": {},
   "outputs": [],
   "source": [
    "%matplotlib inline\n",
    "import numpy as np\n",
    "import pandas as pd\n",
    "import matplotlib.pyplot as plt\n",
    "import seaborn as sns\n",
    "import sklearn\n",
    "import warnings\n",
    "warnings.filterwarnings('ignore')"
   ]
  },
  {
   "cell_type": "markdown",
   "metadata": {},
   "source": [
    "<img src = \"https://www.discoveryad.hk/images/facebook_ads_instagram_ads.jpg\" width=50%>"
   ]
  },
  {
   "cell_type": "markdown",
   "metadata": {},
   "source": [
    "- [x] What is Naive Bayes?\n",
    "- [ ] Social Media ADs Dataset\n",
    "- [ ] Label Encoding with Sklearn\n",
    "- [ ] Feature Scaling with Sklearn\n",
    "- [ ] Training the model\n",
    "- [ ] Model Evaluation"
   ]
  },
  {
   "cell_type": "markdown",
   "metadata": {},
   "source": [
    "We are using the Social network ad dataset. The dataset contains the details of users in a social networking site to find whether a user buys a product by clicking the ad on the site based on their salary, age, and gender."
   ]
  },
  {
   "cell_type": "code",
<<<<<<< HEAD
   "execution_count": 19,
   "metadata": {},
   "outputs": [],
   "source": [
    "df = pd.read_csv(r'https://raw.githubusercontent.com/shivang98/Social-Network-ads-Boost/refs/heads/master/Social_Network_Ads.csv')"
=======
   "execution_count": 21,
   "metadata": {},
   "outputs": [],
   "source": [
    "df = pd.read_csv('Social_Network_Ads.csv')"
>>>>>>> 462e300dbcb4cf0751f6b76a297dabc18c342638
   ]
  },
  {
   "cell_type": "code",
<<<<<<< HEAD
   "execution_count": 20,
=======
   "execution_count": 22,
>>>>>>> 462e300dbcb4cf0751f6b76a297dabc18c342638
   "metadata": {},
   "outputs": [
    {
     "data": {
      "text/html": [
       "<div>\n",
       "<style scoped>\n",
       "    .dataframe tbody tr th:only-of-type {\n",
       "        vertical-align: middle;\n",
       "    }\n",
       "\n",
       "    .dataframe tbody tr th {\n",
       "        vertical-align: top;\n",
       "    }\n",
       "\n",
       "    .dataframe thead th {\n",
       "        text-align: right;\n",
       "    }\n",
       "</style>\n",
       "<table border=\"1\" class=\"dataframe\">\n",
       "  <thead>\n",
       "    <tr style=\"text-align: right;\">\n",
       "      <th></th>\n",
       "      <th>User ID</th>\n",
       "      <th>Gender</th>\n",
       "      <th>Age</th>\n",
       "      <th>EstimatedSalary</th>\n",
       "      <th>Purchased</th>\n",
       "    </tr>\n",
       "  </thead>\n",
       "  <tbody>\n",
       "    <tr>\n",
       "      <th>0</th>\n",
       "      <td>15624510</td>\n",
       "      <td>Male</td>\n",
       "      <td>19</td>\n",
       "      <td>19000</td>\n",
       "      <td>0</td>\n",
       "    </tr>\n",
       "    <tr>\n",
       "      <th>1</th>\n",
       "      <td>15810944</td>\n",
       "      <td>Male</td>\n",
       "      <td>35</td>\n",
       "      <td>20000</td>\n",
       "      <td>0</td>\n",
       "    </tr>\n",
       "    <tr>\n",
       "      <th>2</th>\n",
       "      <td>15668575</td>\n",
       "      <td>Female</td>\n",
       "      <td>26</td>\n",
       "      <td>43000</td>\n",
       "      <td>0</td>\n",
       "    </tr>\n",
       "    <tr>\n",
       "      <th>3</th>\n",
       "      <td>15603246</td>\n",
       "      <td>Female</td>\n",
       "      <td>27</td>\n",
       "      <td>57000</td>\n",
       "      <td>0</td>\n",
       "    </tr>\n",
       "    <tr>\n",
       "      <th>4</th>\n",
       "      <td>15804002</td>\n",
       "      <td>Male</td>\n",
       "      <td>19</td>\n",
       "      <td>76000</td>\n",
       "      <td>0</td>\n",
       "    </tr>\n",
       "  </tbody>\n",
       "</table>\n",
       "</div>"
      ],
      "text/plain": [
       "    User ID  Gender  Age  EstimatedSalary  Purchased\n",
       "0  15624510    Male   19            19000          0\n",
       "1  15810944    Male   35            20000          0\n",
       "2  15668575  Female   26            43000          0\n",
       "3  15603246  Female   27            57000          0\n",
       "4  15804002    Male   19            76000          0"
      ]
     },
<<<<<<< HEAD
     "execution_count": 20,
=======
     "execution_count": 22,
>>>>>>> 462e300dbcb4cf0751f6b76a297dabc18c342638
     "metadata": {},
     "output_type": "execute_result"
    }
   ],
   "source": [
    "df.head()"
   ]
  },
  {
   "cell_type": "code",
<<<<<<< HEAD
   "execution_count": 21,
=======
   "execution_count": 23,
>>>>>>> 462e300dbcb4cf0751f6b76a297dabc18c342638
   "metadata": {},
   "outputs": [
    {
     "name": "stdout",
     "output_type": "stream",
     "text": [
      "<class 'pandas.core.frame.DataFrame'>\n",
      "RangeIndex: 400 entries, 0 to 399\n",
      "Data columns (total 5 columns):\n",
      " #   Column           Non-Null Count  Dtype \n",
      "---  ------           --------------  ----- \n",
      " 0   User ID          400 non-null    int64 \n",
      " 1   Gender           400 non-null    object\n",
      " 2   Age              400 non-null    int64 \n",
      " 3   EstimatedSalary  400 non-null    int64 \n",
      " 4   Purchased        400 non-null    int64 \n",
      "dtypes: int64(4), object(1)\n",
      "memory usage: 15.8+ KB\n"
     ]
    }
   ],
   "source": [
    "df.info()"
   ]
  },
  {
   "cell_type": "code",
<<<<<<< HEAD
   "execution_count": 22,
=======
   "execution_count": 24,
>>>>>>> 462e300dbcb4cf0751f6b76a297dabc18c342638
   "metadata": {},
   "outputs": [
    {
     "data": {
      "text/html": [
       "<div>\n",
       "<style scoped>\n",
       "    .dataframe tbody tr th:only-of-type {\n",
       "        vertical-align: middle;\n",
       "    }\n",
       "\n",
       "    .dataframe tbody tr th {\n",
       "        vertical-align: top;\n",
       "    }\n",
       "\n",
       "    .dataframe thead th {\n",
       "        text-align: right;\n",
       "    }\n",
       "</style>\n",
       "<table border=\"1\" class=\"dataframe\">\n",
       "  <thead>\n",
       "    <tr style=\"text-align: right;\">\n",
       "      <th>Purchased</th>\n",
       "      <th>0</th>\n",
       "      <th>1</th>\n",
       "    </tr>\n",
       "    <tr>\n",
       "      <th>Gender</th>\n",
       "      <th></th>\n",
       "      <th></th>\n",
       "    </tr>\n",
       "  </thead>\n",
       "  <tbody>\n",
       "    <tr>\n",
       "      <th>Female</th>\n",
       "      <td>127</td>\n",
       "      <td>77</td>\n",
       "    </tr>\n",
       "    <tr>\n",
       "      <th>Male</th>\n",
       "      <td>130</td>\n",
       "      <td>66</td>\n",
       "    </tr>\n",
       "  </tbody>\n",
       "</table>\n",
       "</div>"
      ],
      "text/plain": [
       "Purchased    0   1\n",
       "Gender            \n",
       "Female     127  77\n",
       "Male       130  66"
      ]
     },
<<<<<<< HEAD
     "execution_count": 22,
=======
     "execution_count": 24,
>>>>>>> 462e300dbcb4cf0751f6b76a297dabc18c342638
     "metadata": {},
     "output_type": "execute_result"
    }
   ],
   "source": [
    "pd.crosstab(df.Gender,df.Purchased)"
   ]
  },
  {
   "cell_type": "code",
<<<<<<< HEAD
   "execution_count": 23,
=======
   "execution_count": 25,
>>>>>>> 462e300dbcb4cf0751f6b76a297dabc18c342638
   "metadata": {},
   "outputs": [
    {
     "data": {
      "text/plain": [
<<<<<<< HEAD
       "Gender\n",
       "Female    204\n",
       "Male      196\n",
       "Name: count, dtype: int64"
      ]
     },
     "execution_count": 23,
=======
       "Female    204\n",
       "Male      196\n",
       "Name: Gender, dtype: int64"
      ]
     },
     "execution_count": 25,
>>>>>>> 462e300dbcb4cf0751f6b76a297dabc18c342638
     "metadata": {},
     "output_type": "execute_result"
    }
   ],
   "source": [
    "df['Gender'].value_counts()"
   ]
  },
  {
   "cell_type": "code",
<<<<<<< HEAD
   "execution_count": 24,
=======
   "execution_count": 26,
>>>>>>> 462e300dbcb4cf0751f6b76a297dabc18c342638
   "metadata": {},
   "outputs": [
    {
     "data": {
      "text/html": [
       "<div>\n",
       "<style scoped>\n",
       "    .dataframe tbody tr th:only-of-type {\n",
       "        vertical-align: middle;\n",
       "    }\n",
       "\n",
       "    .dataframe tbody tr th {\n",
       "        vertical-align: top;\n",
       "    }\n",
       "\n",
       "    .dataframe thead th {\n",
       "        text-align: right;\n",
       "    }\n",
       "</style>\n",
       "<table border=\"1\" class=\"dataframe\">\n",
       "  <thead>\n",
       "    <tr style=\"text-align: right;\">\n",
       "      <th></th>\n",
       "      <th>User ID</th>\n",
       "      <th>Age</th>\n",
       "      <th>EstimatedSalary</th>\n",
       "      <th>Purchased</th>\n",
       "    </tr>\n",
       "  </thead>\n",
       "  <tbody>\n",
       "    <tr>\n",
       "      <th>count</th>\n",
       "      <td>4.000000e+02</td>\n",
       "      <td>400.000000</td>\n",
       "      <td>400.000000</td>\n",
       "      <td>400.000000</td>\n",
       "    </tr>\n",
       "    <tr>\n",
       "      <th>mean</th>\n",
       "      <td>1.569154e+07</td>\n",
       "      <td>37.655000</td>\n",
       "      <td>69742.500000</td>\n",
       "      <td>0.357500</td>\n",
       "    </tr>\n",
       "    <tr>\n",
       "      <th>std</th>\n",
       "      <td>7.165832e+04</td>\n",
       "      <td>10.482877</td>\n",
       "      <td>34096.960282</td>\n",
       "      <td>0.479864</td>\n",
       "    </tr>\n",
       "    <tr>\n",
       "      <th>min</th>\n",
       "      <td>1.556669e+07</td>\n",
       "      <td>18.000000</td>\n",
       "      <td>15000.000000</td>\n",
       "      <td>0.000000</td>\n",
       "    </tr>\n",
       "    <tr>\n",
       "      <th>25%</th>\n",
       "      <td>1.562676e+07</td>\n",
       "      <td>29.750000</td>\n",
       "      <td>43000.000000</td>\n",
       "      <td>0.000000</td>\n",
       "    </tr>\n",
       "    <tr>\n",
       "      <th>50%</th>\n",
       "      <td>1.569434e+07</td>\n",
       "      <td>37.000000</td>\n",
       "      <td>70000.000000</td>\n",
       "      <td>0.000000</td>\n",
       "    </tr>\n",
       "    <tr>\n",
       "      <th>75%</th>\n",
       "      <td>1.575036e+07</td>\n",
       "      <td>46.000000</td>\n",
       "      <td>88000.000000</td>\n",
       "      <td>1.000000</td>\n",
       "    </tr>\n",
       "    <tr>\n",
       "      <th>max</th>\n",
       "      <td>1.581524e+07</td>\n",
       "      <td>60.000000</td>\n",
       "      <td>150000.000000</td>\n",
       "      <td>1.000000</td>\n",
       "    </tr>\n",
       "  </tbody>\n",
       "</table>\n",
       "</div>"
      ],
      "text/plain": [
       "            User ID         Age  EstimatedSalary   Purchased\n",
       "count  4.000000e+02  400.000000       400.000000  400.000000\n",
       "mean   1.569154e+07   37.655000     69742.500000    0.357500\n",
       "std    7.165832e+04   10.482877     34096.960282    0.479864\n",
       "min    1.556669e+07   18.000000     15000.000000    0.000000\n",
       "25%    1.562676e+07   29.750000     43000.000000    0.000000\n",
       "50%    1.569434e+07   37.000000     70000.000000    0.000000\n",
       "75%    1.575036e+07   46.000000     88000.000000    1.000000\n",
       "max    1.581524e+07   60.000000    150000.000000    1.000000"
      ]
     },
<<<<<<< HEAD
     "execution_count": 24,
=======
     "execution_count": 26,
>>>>>>> 462e300dbcb4cf0751f6b76a297dabc18c342638
     "metadata": {},
     "output_type": "execute_result"
    }
   ],
   "source": [
    "df.describe()"
   ]
  },
  {
   "cell_type": "markdown",
   "metadata": {},
   "source": [
    "| Question      |Answer\n",
    "| :---        |    :----:   \n",
    "| Number of Instances      | 400       \n",
    "| Number of Features   | 3\n",
    "| Class Distribution      | 257 No, 143 Yes\n",
    "| Number of Missing Values      | 0       \n",
    "| Number of Classes      | 2       \n",
    "| Task   | Classification "
   ]
  },
  {
   "cell_type": "markdown",
   "metadata": {},
   "source": [
    "## X,y Seletction from dataframe"
   ]
  },
  {
   "cell_type": "code",
<<<<<<< HEAD
   "execution_count": 25,
=======
   "execution_count": 27,
>>>>>>> 462e300dbcb4cf0751f6b76a297dabc18c342638
   "metadata": {},
   "outputs": [],
   "source": [
    "X = df.iloc[:, [1, 2, 3]]\n",
    "y = df.iloc[:, -1]"
   ]
  },
  {
   "cell_type": "code",
<<<<<<< HEAD
   "execution_count": 26,
=======
   "execution_count": 28,
>>>>>>> 462e300dbcb4cf0751f6b76a297dabc18c342638
   "metadata": {},
   "outputs": [
    {
     "data": {
      "text/html": [
       "<div>\n",
       "<style scoped>\n",
       "    .dataframe tbody tr th:only-of-type {\n",
       "        vertical-align: middle;\n",
       "    }\n",
       "\n",
       "    .dataframe tbody tr th {\n",
       "        vertical-align: top;\n",
       "    }\n",
       "\n",
       "    .dataframe thead th {\n",
       "        text-align: right;\n",
       "    }\n",
       "</style>\n",
       "<table border=\"1\" class=\"dataframe\">\n",
       "  <thead>\n",
       "    <tr style=\"text-align: right;\">\n",
       "      <th></th>\n",
       "      <th>Gender</th>\n",
       "      <th>Age</th>\n",
       "      <th>EstimatedSalary</th>\n",
       "    </tr>\n",
       "  </thead>\n",
       "  <tbody>\n",
       "    <tr>\n",
       "      <th>0</th>\n",
       "      <td>Male</td>\n",
       "      <td>19</td>\n",
       "      <td>19000</td>\n",
       "    </tr>\n",
       "    <tr>\n",
       "      <th>1</th>\n",
       "      <td>Male</td>\n",
       "      <td>35</td>\n",
       "      <td>20000</td>\n",
       "    </tr>\n",
       "    <tr>\n",
       "      <th>2</th>\n",
       "      <td>Female</td>\n",
       "      <td>26</td>\n",
       "      <td>43000</td>\n",
       "    </tr>\n",
       "    <tr>\n",
       "      <th>3</th>\n",
       "      <td>Female</td>\n",
       "      <td>27</td>\n",
       "      <td>57000</td>\n",
       "    </tr>\n",
       "    <tr>\n",
       "      <th>4</th>\n",
       "      <td>Male</td>\n",
       "      <td>19</td>\n",
       "      <td>76000</td>\n",
       "    </tr>\n",
       "    <tr>\n",
       "      <th>...</th>\n",
       "      <td>...</td>\n",
       "      <td>...</td>\n",
       "      <td>...</td>\n",
       "    </tr>\n",
       "    <tr>\n",
       "      <th>395</th>\n",
       "      <td>Female</td>\n",
       "      <td>46</td>\n",
       "      <td>41000</td>\n",
       "    </tr>\n",
       "    <tr>\n",
       "      <th>396</th>\n",
       "      <td>Male</td>\n",
       "      <td>51</td>\n",
       "      <td>23000</td>\n",
       "    </tr>\n",
       "    <tr>\n",
       "      <th>397</th>\n",
       "      <td>Female</td>\n",
       "      <td>50</td>\n",
       "      <td>20000</td>\n",
       "    </tr>\n",
       "    <tr>\n",
       "      <th>398</th>\n",
       "      <td>Male</td>\n",
       "      <td>36</td>\n",
       "      <td>33000</td>\n",
       "    </tr>\n",
       "    <tr>\n",
       "      <th>399</th>\n",
       "      <td>Female</td>\n",
       "      <td>49</td>\n",
       "      <td>36000</td>\n",
       "    </tr>\n",
       "  </tbody>\n",
       "</table>\n",
       "<p>400 rows × 3 columns</p>\n",
       "</div>"
      ],
      "text/plain": [
       "     Gender  Age  EstimatedSalary\n",
       "0      Male   19            19000\n",
       "1      Male   35            20000\n",
       "2    Female   26            43000\n",
       "3    Female   27            57000\n",
       "4      Male   19            76000\n",
       "..      ...  ...              ...\n",
       "395  Female   46            41000\n",
       "396    Male   51            23000\n",
       "397  Female   50            20000\n",
       "398    Male   36            33000\n",
       "399  Female   49            36000\n",
       "\n",
       "[400 rows x 3 columns]"
      ]
     },
<<<<<<< HEAD
     "execution_count": 26,
=======
     "execution_count": 28,
>>>>>>> 462e300dbcb4cf0751f6b76a297dabc18c342638
     "metadata": {},
     "output_type": "execute_result"
    }
   ],
   "source": [
    "X"
   ]
  },
  {
   "cell_type": "code",
<<<<<<< HEAD
   "execution_count": 27,
=======
   "execution_count": 29,
>>>>>>> 462e300dbcb4cf0751f6b76a297dabc18c342638
   "metadata": {},
   "outputs": [
    {
     "data": {
      "text/plain": [
       "0      0\n",
       "1      0\n",
       "2      0\n",
       "3      0\n",
       "4      0\n",
       "      ..\n",
       "395    1\n",
       "396    1\n",
       "397    1\n",
       "398    0\n",
       "399    1\n",
       "Name: Purchased, Length: 400, dtype: int64"
      ]
     },
<<<<<<< HEAD
     "execution_count": 27,
=======
     "execution_count": 29,
>>>>>>> 462e300dbcb4cf0751f6b76a297dabc18c342638
     "metadata": {},
     "output_type": "execute_result"
    }
   ],
   "source": [
    "y"
   ]
  },
  {
   "cell_type": "markdown",
   "metadata": {},
   "source": [
    "- [x] What is Naive Bayes?\n",
    "- [x] Social Media ADs Dataset\n",
    "- [ ] Label Encoding with Sklearn\n",
    "- [ ] Feature Scaling with Sklearn\n",
    "- [ ] Training the model\n",
    "- [ ] Model Evaluation"
   ]
  },
  {
   "cell_type": "markdown",
   "metadata": {},
   "source": [
    "## LabelEncoder "
   ]
  },
  {
   "cell_type": "code",
<<<<<<< HEAD
   "execution_count": 28,
=======
   "execution_count": 30,
>>>>>>> 462e300dbcb4cf0751f6b76a297dabc18c342638
   "metadata": {},
   "outputs": [],
   "source": [
    "from sklearn.preprocessing import LabelEncoder\n",
    "le = LabelEncoder()\n",
    "X['Gender'] = le.fit_transform(X['Gender'])"
   ]
  },
  {
   "cell_type": "code",
<<<<<<< HEAD
   "execution_count": 29,
=======
   "execution_count": 31,
>>>>>>> 462e300dbcb4cf0751f6b76a297dabc18c342638
   "metadata": {},
   "outputs": [
    {
     "data": {
      "text/html": [
       "<div>\n",
       "<style scoped>\n",
       "    .dataframe tbody tr th:only-of-type {\n",
       "        vertical-align: middle;\n",
       "    }\n",
       "\n",
       "    .dataframe tbody tr th {\n",
       "        vertical-align: top;\n",
       "    }\n",
       "\n",
       "    .dataframe thead th {\n",
       "        text-align: right;\n",
       "    }\n",
       "</style>\n",
       "<table border=\"1\" class=\"dataframe\">\n",
       "  <thead>\n",
       "    <tr style=\"text-align: right;\">\n",
       "      <th></th>\n",
       "      <th>Gender</th>\n",
       "      <th>Age</th>\n",
       "      <th>EstimatedSalary</th>\n",
       "    </tr>\n",
       "  </thead>\n",
       "  <tbody>\n",
       "    <tr>\n",
       "      <th>0</th>\n",
       "      <td>1</td>\n",
       "      <td>19</td>\n",
       "      <td>19000</td>\n",
       "    </tr>\n",
       "    <tr>\n",
       "      <th>1</th>\n",
       "      <td>1</td>\n",
       "      <td>35</td>\n",
       "      <td>20000</td>\n",
       "    </tr>\n",
       "    <tr>\n",
       "      <th>2</th>\n",
       "      <td>0</td>\n",
       "      <td>26</td>\n",
       "      <td>43000</td>\n",
       "    </tr>\n",
       "    <tr>\n",
       "      <th>3</th>\n",
       "      <td>0</td>\n",
       "      <td>27</td>\n",
       "      <td>57000</td>\n",
       "    </tr>\n",
       "    <tr>\n",
       "      <th>4</th>\n",
       "      <td>1</td>\n",
       "      <td>19</td>\n",
       "      <td>76000</td>\n",
       "    </tr>\n",
       "    <tr>\n",
       "      <th>...</th>\n",
       "      <td>...</td>\n",
       "      <td>...</td>\n",
       "      <td>...</td>\n",
       "    </tr>\n",
       "    <tr>\n",
       "      <th>395</th>\n",
       "      <td>0</td>\n",
       "      <td>46</td>\n",
       "      <td>41000</td>\n",
       "    </tr>\n",
       "    <tr>\n",
       "      <th>396</th>\n",
       "      <td>1</td>\n",
       "      <td>51</td>\n",
       "      <td>23000</td>\n",
       "    </tr>\n",
       "    <tr>\n",
       "      <th>397</th>\n",
       "      <td>0</td>\n",
       "      <td>50</td>\n",
       "      <td>20000</td>\n",
       "    </tr>\n",
       "    <tr>\n",
       "      <th>398</th>\n",
       "      <td>1</td>\n",
       "      <td>36</td>\n",
       "      <td>33000</td>\n",
       "    </tr>\n",
       "    <tr>\n",
       "      <th>399</th>\n",
       "      <td>0</td>\n",
       "      <td>49</td>\n",
       "      <td>36000</td>\n",
       "    </tr>\n",
       "  </tbody>\n",
       "</table>\n",
       "<p>400 rows × 3 columns</p>\n",
       "</div>"
      ],
      "text/plain": [
       "     Gender  Age  EstimatedSalary\n",
       "0         1   19            19000\n",
       "1         1   35            20000\n",
       "2         0   26            43000\n",
       "3         0   27            57000\n",
       "4         1   19            76000\n",
       "..      ...  ...              ...\n",
       "395       0   46            41000\n",
       "396       1   51            23000\n",
       "397       0   50            20000\n",
       "398       1   36            33000\n",
       "399       0   49            36000\n",
       "\n",
       "[400 rows x 3 columns]"
      ]
     },
<<<<<<< HEAD
     "execution_count": 29,
=======
     "execution_count": 31,
>>>>>>> 462e300dbcb4cf0751f6b76a297dabc18c342638
     "metadata": {},
     "output_type": "execute_result"
    }
   ],
   "source": [
    "X"
   ]
  },
  {
   "cell_type": "code",
<<<<<<< HEAD
   "execution_count": 30,
=======
   "execution_count": 32,
>>>>>>> 462e300dbcb4cf0751f6b76a297dabc18c342638
   "metadata": {},
   "outputs": [],
   "source": [
    "from sklearn.model_selection import train_test_split\n",
    "X_train, X_test, y_train, y_test = train_test_split(X, y, test_size = 0.20, random_state = 0)"
   ]
  },
  {
   "cell_type": "markdown",
   "metadata": {},
   "source": [
    "- [x] What is Naive Bayes?\n",
    "- [x] Social Media ADs Dataset\n",
    "- [x] Label Encoding with Sklearn\n",
    "- [ ] Feature Scaling with Sklearn\n",
    "- [ ] Training the model\n",
    "- [ ] Model Evaluation"
   ]
  },
  {
   "cell_type": "markdown",
   "metadata": {},
   "source": [
    "## Feature Scaling"
   ]
  },
  {
   "cell_type": "code",
<<<<<<< HEAD
   "execution_count": 31,
=======
   "execution_count": 35,
>>>>>>> 462e300dbcb4cf0751f6b76a297dabc18c342638
   "metadata": {},
   "outputs": [],
   "source": [
    "from sklearn.preprocessing import StandardScaler\n",
    "sc = StandardScaler()\n",
    "X_train = sc.fit_transform(X_train)\n",
    "X_test = sc.transform(X_test)"
   ]
  },
  {
   "cell_type": "code",
<<<<<<< HEAD
   "execution_count": 32,
   "metadata": {},
   "outputs": [
    {
     "ename": "AttributeError",
     "evalue": "'numpy.ndarray' object has no attribute 'head'",
     "output_type": "error",
     "traceback": [
      "\u001b[1;31m---------------------------------------------------------------------------\u001b[0m",
      "\u001b[1;31mAttributeError\u001b[0m                            Traceback (most recent call last)",
      "Cell \u001b[1;32mIn[32], line 1\u001b[0m\n\u001b[1;32m----> 1\u001b[0m \u001b[43mX_train\u001b[49m\u001b[38;5;241;43m.\u001b[39;49m\u001b[43mhead\u001b[49m(\u001b[38;5;241m1\u001b[39m)\n",
      "\u001b[1;31mAttributeError\u001b[0m: 'numpy.ndarray' object has no attribute 'head'"
     ]
=======
   "execution_count": 34,
   "metadata": {},
   "outputs": [
    {
     "data": {
      "text/html": [
       "<div>\n",
       "<style scoped>\n",
       "    .dataframe tbody tr th:only-of-type {\n",
       "        vertical-align: middle;\n",
       "    }\n",
       "\n",
       "    .dataframe tbody tr th {\n",
       "        vertical-align: top;\n",
       "    }\n",
       "\n",
       "    .dataframe thead th {\n",
       "        text-align: right;\n",
       "    }\n",
       "</style>\n",
       "<table border=\"1\" class=\"dataframe\">\n",
       "  <thead>\n",
       "    <tr style=\"text-align: right;\">\n",
       "      <th></th>\n",
       "      <th>Gender</th>\n",
       "      <th>Age</th>\n",
       "      <th>EstimatedSalary</th>\n",
       "    </tr>\n",
       "  </thead>\n",
       "  <tbody>\n",
       "    <tr>\n",
       "      <th>336</th>\n",
       "      <td>1</td>\n",
       "      <td>58</td>\n",
       "      <td>144000</td>\n",
       "    </tr>\n",
       "  </tbody>\n",
       "</table>\n",
       "</div>"
      ],
      "text/plain": [
       "     Gender  Age  EstimatedSalary\n",
       "336       1   58           144000"
      ]
     },
     "execution_count": 34,
     "metadata": {},
     "output_type": "execute_result"
>>>>>>> 462e300dbcb4cf0751f6b76a297dabc18c342638
    }
   ],
   "source": [
    "X_train.head(1)"
   ]
  },
  {
   "cell_type": "code",
<<<<<<< HEAD
   "execution_count": 33,
=======
   "execution_count": 36,
>>>>>>> 462e300dbcb4cf0751f6b76a297dabc18c342638
   "metadata": {},
   "outputs": [
    {
     "data": {
      "text/plain": [
       "array([1.02532046, 1.92295008, 2.14601566])"
      ]
     },
<<<<<<< HEAD
     "execution_count": 33,
=======
     "execution_count": 36,
>>>>>>> 462e300dbcb4cf0751f6b76a297dabc18c342638
     "metadata": {},
     "output_type": "execute_result"
    }
   ],
   "source": [
    "X_train[0]"
   ]
  },
  {
   "cell_type": "markdown",
   "metadata": {},
   "source": [
    "- [x] What is Naive Bayes?\n",
    "- [x] Social Media ADs Dataset\n",
    "- [x] Label Encoding with Sklearn\n",
    "- [x] Feature Scaling with Sklearn\n",
    "- [ ] Training the model\n",
    "- [ ] Model Evaluation"
   ]
  },
  {
   "cell_type": "markdown",
   "metadata": {},
   "source": [
    "## Training Model"
   ]
  },
  {
   "cell_type": "code",
<<<<<<< HEAD
   "execution_count": 34,
=======
   "execution_count": 37,
>>>>>>> 462e300dbcb4cf0751f6b76a297dabc18c342638
   "metadata": {},
   "outputs": [
    {
     "data": {
<<<<<<< HEAD
      "text/html": [
       "<style>#sk-container-id-1 {\n",
       "  /* Definition of color scheme common for light and dark mode */\n",
       "  --sklearn-color-text: black;\n",
       "  --sklearn-color-line: gray;\n",
       "  /* Definition of color scheme for unfitted estimators */\n",
       "  --sklearn-color-unfitted-level-0: #fff5e6;\n",
       "  --sklearn-color-unfitted-level-1: #f6e4d2;\n",
       "  --sklearn-color-unfitted-level-2: #ffe0b3;\n",
       "  --sklearn-color-unfitted-level-3: chocolate;\n",
       "  /* Definition of color scheme for fitted estimators */\n",
       "  --sklearn-color-fitted-level-0: #f0f8ff;\n",
       "  --sklearn-color-fitted-level-1: #d4ebff;\n",
       "  --sklearn-color-fitted-level-2: #b3dbfd;\n",
       "  --sklearn-color-fitted-level-3: cornflowerblue;\n",
       "\n",
       "  /* Specific color for light theme */\n",
       "  --sklearn-color-text-on-default-background: var(--sg-text-color, var(--theme-code-foreground, var(--jp-content-font-color1, black)));\n",
       "  --sklearn-color-background: var(--sg-background-color, var(--theme-background, var(--jp-layout-color0, white)));\n",
       "  --sklearn-color-border-box: var(--sg-text-color, var(--theme-code-foreground, var(--jp-content-font-color1, black)));\n",
       "  --sklearn-color-icon: #696969;\n",
       "\n",
       "  @media (prefers-color-scheme: dark) {\n",
       "    /* Redefinition of color scheme for dark theme */\n",
       "    --sklearn-color-text-on-default-background: var(--sg-text-color, var(--theme-code-foreground, var(--jp-content-font-color1, white)));\n",
       "    --sklearn-color-background: var(--sg-background-color, var(--theme-background, var(--jp-layout-color0, #111)));\n",
       "    --sklearn-color-border-box: var(--sg-text-color, var(--theme-code-foreground, var(--jp-content-font-color1, white)));\n",
       "    --sklearn-color-icon: #878787;\n",
       "  }\n",
       "}\n",
       "\n",
       "#sk-container-id-1 {\n",
       "  color: var(--sklearn-color-text);\n",
       "}\n",
       "\n",
       "#sk-container-id-1 pre {\n",
       "  padding: 0;\n",
       "}\n",
       "\n",
       "#sk-container-id-1 input.sk-hidden--visually {\n",
       "  border: 0;\n",
       "  clip: rect(1px 1px 1px 1px);\n",
       "  clip: rect(1px, 1px, 1px, 1px);\n",
       "  height: 1px;\n",
       "  margin: -1px;\n",
       "  overflow: hidden;\n",
       "  padding: 0;\n",
       "  position: absolute;\n",
       "  width: 1px;\n",
       "}\n",
       "\n",
       "#sk-container-id-1 div.sk-dashed-wrapped {\n",
       "  border: 1px dashed var(--sklearn-color-line);\n",
       "  margin: 0 0.4em 0.5em 0.4em;\n",
       "  box-sizing: border-box;\n",
       "  padding-bottom: 0.4em;\n",
       "  background-color: var(--sklearn-color-background);\n",
       "}\n",
       "\n",
       "#sk-container-id-1 div.sk-container {\n",
       "  /* jupyter's `normalize.less` sets `[hidden] { display: none; }`\n",
       "     but bootstrap.min.css set `[hidden] { display: none !important; }`\n",
       "     so we also need the `!important` here to be able to override the\n",
       "     default hidden behavior on the sphinx rendered scikit-learn.org.\n",
       "     See: https://github.com/scikit-learn/scikit-learn/issues/21755 */\n",
       "  display: inline-block !important;\n",
       "  position: relative;\n",
       "}\n",
       "\n",
       "#sk-container-id-1 div.sk-text-repr-fallback {\n",
       "  display: none;\n",
       "}\n",
       "\n",
       "div.sk-parallel-item,\n",
       "div.sk-serial,\n",
       "div.sk-item {\n",
       "  /* draw centered vertical line to link estimators */\n",
       "  background-image: linear-gradient(var(--sklearn-color-text-on-default-background), var(--sklearn-color-text-on-default-background));\n",
       "  background-size: 2px 100%;\n",
       "  background-repeat: no-repeat;\n",
       "  background-position: center center;\n",
       "}\n",
       "\n",
       "/* Parallel-specific style estimator block */\n",
       "\n",
       "#sk-container-id-1 div.sk-parallel-item::after {\n",
       "  content: \"\";\n",
       "  width: 100%;\n",
       "  border-bottom: 2px solid var(--sklearn-color-text-on-default-background);\n",
       "  flex-grow: 1;\n",
       "}\n",
       "\n",
       "#sk-container-id-1 div.sk-parallel {\n",
       "  display: flex;\n",
       "  align-items: stretch;\n",
       "  justify-content: center;\n",
       "  background-color: var(--sklearn-color-background);\n",
       "  position: relative;\n",
       "}\n",
       "\n",
       "#sk-container-id-1 div.sk-parallel-item {\n",
       "  display: flex;\n",
       "  flex-direction: column;\n",
       "}\n",
       "\n",
       "#sk-container-id-1 div.sk-parallel-item:first-child::after {\n",
       "  align-self: flex-end;\n",
       "  width: 50%;\n",
       "}\n",
       "\n",
       "#sk-container-id-1 div.sk-parallel-item:last-child::after {\n",
       "  align-self: flex-start;\n",
       "  width: 50%;\n",
       "}\n",
       "\n",
       "#sk-container-id-1 div.sk-parallel-item:only-child::after {\n",
       "  width: 0;\n",
       "}\n",
       "\n",
       "/* Serial-specific style estimator block */\n",
       "\n",
       "#sk-container-id-1 div.sk-serial {\n",
       "  display: flex;\n",
       "  flex-direction: column;\n",
       "  align-items: center;\n",
       "  background-color: var(--sklearn-color-background);\n",
       "  padding-right: 1em;\n",
       "  padding-left: 1em;\n",
       "}\n",
       "\n",
       "\n",
       "/* Toggleable style: style used for estimator/Pipeline/ColumnTransformer box that is\n",
       "clickable and can be expanded/collapsed.\n",
       "- Pipeline and ColumnTransformer use this feature and define the default style\n",
       "- Estimators will overwrite some part of the style using the `sk-estimator` class\n",
       "*/\n",
       "\n",
       "/* Pipeline and ColumnTransformer style (default) */\n",
       "\n",
       "#sk-container-id-1 div.sk-toggleable {\n",
       "  /* Default theme specific background. It is overwritten whether we have a\n",
       "  specific estimator or a Pipeline/ColumnTransformer */\n",
       "  background-color: var(--sklearn-color-background);\n",
       "}\n",
       "\n",
       "/* Toggleable label */\n",
       "#sk-container-id-1 label.sk-toggleable__label {\n",
       "  cursor: pointer;\n",
       "  display: block;\n",
       "  width: 100%;\n",
       "  margin-bottom: 0;\n",
       "  padding: 0.5em;\n",
       "  box-sizing: border-box;\n",
       "  text-align: center;\n",
       "}\n",
       "\n",
       "#sk-container-id-1 label.sk-toggleable__label-arrow:before {\n",
       "  /* Arrow on the left of the label */\n",
       "  content: \"▸\";\n",
       "  float: left;\n",
       "  margin-right: 0.25em;\n",
       "  color: var(--sklearn-color-icon);\n",
       "}\n",
       "\n",
       "#sk-container-id-1 label.sk-toggleable__label-arrow:hover:before {\n",
       "  color: var(--sklearn-color-text);\n",
       "}\n",
       "\n",
       "/* Toggleable content - dropdown */\n",
       "\n",
       "#sk-container-id-1 div.sk-toggleable__content {\n",
       "  max-height: 0;\n",
       "  max-width: 0;\n",
       "  overflow: hidden;\n",
       "  text-align: left;\n",
       "  /* unfitted */\n",
       "  background-color: var(--sklearn-color-unfitted-level-0);\n",
       "}\n",
       "\n",
       "#sk-container-id-1 div.sk-toggleable__content.fitted {\n",
       "  /* fitted */\n",
       "  background-color: var(--sklearn-color-fitted-level-0);\n",
       "}\n",
       "\n",
       "#sk-container-id-1 div.sk-toggleable__content pre {\n",
       "  margin: 0.2em;\n",
       "  border-radius: 0.25em;\n",
       "  color: var(--sklearn-color-text);\n",
       "  /* unfitted */\n",
       "  background-color: var(--sklearn-color-unfitted-level-0);\n",
       "}\n",
       "\n",
       "#sk-container-id-1 div.sk-toggleable__content.fitted pre {\n",
       "  /* unfitted */\n",
       "  background-color: var(--sklearn-color-fitted-level-0);\n",
       "}\n",
       "\n",
       "#sk-container-id-1 input.sk-toggleable__control:checked~div.sk-toggleable__content {\n",
       "  /* Expand drop-down */\n",
       "  max-height: 200px;\n",
       "  max-width: 100%;\n",
       "  overflow: auto;\n",
       "}\n",
       "\n",
       "#sk-container-id-1 input.sk-toggleable__control:checked~label.sk-toggleable__label-arrow:before {\n",
       "  content: \"▾\";\n",
       "}\n",
       "\n",
       "/* Pipeline/ColumnTransformer-specific style */\n",
       "\n",
       "#sk-container-id-1 div.sk-label input.sk-toggleable__control:checked~label.sk-toggleable__label {\n",
       "  color: var(--sklearn-color-text);\n",
       "  background-color: var(--sklearn-color-unfitted-level-2);\n",
       "}\n",
       "\n",
       "#sk-container-id-1 div.sk-label.fitted input.sk-toggleable__control:checked~label.sk-toggleable__label {\n",
       "  background-color: var(--sklearn-color-fitted-level-2);\n",
       "}\n",
       "\n",
       "/* Estimator-specific style */\n",
       "\n",
       "/* Colorize estimator box */\n",
       "#sk-container-id-1 div.sk-estimator input.sk-toggleable__control:checked~label.sk-toggleable__label {\n",
       "  /* unfitted */\n",
       "  background-color: var(--sklearn-color-unfitted-level-2);\n",
       "}\n",
       "\n",
       "#sk-container-id-1 div.sk-estimator.fitted input.sk-toggleable__control:checked~label.sk-toggleable__label {\n",
       "  /* fitted */\n",
       "  background-color: var(--sklearn-color-fitted-level-2);\n",
       "}\n",
       "\n",
       "#sk-container-id-1 div.sk-label label.sk-toggleable__label,\n",
       "#sk-container-id-1 div.sk-label label {\n",
       "  /* The background is the default theme color */\n",
       "  color: var(--sklearn-color-text-on-default-background);\n",
       "}\n",
       "\n",
       "/* On hover, darken the color of the background */\n",
       "#sk-container-id-1 div.sk-label:hover label.sk-toggleable__label {\n",
       "  color: var(--sklearn-color-text);\n",
       "  background-color: var(--sklearn-color-unfitted-level-2);\n",
       "}\n",
       "\n",
       "/* Label box, darken color on hover, fitted */\n",
       "#sk-container-id-1 div.sk-label.fitted:hover label.sk-toggleable__label.fitted {\n",
       "  color: var(--sklearn-color-text);\n",
       "  background-color: var(--sklearn-color-fitted-level-2);\n",
       "}\n",
       "\n",
       "/* Estimator label */\n",
       "\n",
       "#sk-container-id-1 div.sk-label label {\n",
       "  font-family: monospace;\n",
       "  font-weight: bold;\n",
       "  display: inline-block;\n",
       "  line-height: 1.2em;\n",
       "}\n",
       "\n",
       "#sk-container-id-1 div.sk-label-container {\n",
       "  text-align: center;\n",
       "}\n",
       "\n",
       "/* Estimator-specific */\n",
       "#sk-container-id-1 div.sk-estimator {\n",
       "  font-family: monospace;\n",
       "  border: 1px dotted var(--sklearn-color-border-box);\n",
       "  border-radius: 0.25em;\n",
       "  box-sizing: border-box;\n",
       "  margin-bottom: 0.5em;\n",
       "  /* unfitted */\n",
       "  background-color: var(--sklearn-color-unfitted-level-0);\n",
       "}\n",
       "\n",
       "#sk-container-id-1 div.sk-estimator.fitted {\n",
       "  /* fitted */\n",
       "  background-color: var(--sklearn-color-fitted-level-0);\n",
       "}\n",
       "\n",
       "/* on hover */\n",
       "#sk-container-id-1 div.sk-estimator:hover {\n",
       "  /* unfitted */\n",
       "  background-color: var(--sklearn-color-unfitted-level-2);\n",
       "}\n",
       "\n",
       "#sk-container-id-1 div.sk-estimator.fitted:hover {\n",
       "  /* fitted */\n",
       "  background-color: var(--sklearn-color-fitted-level-2);\n",
       "}\n",
       "\n",
       "/* Specification for estimator info (e.g. \"i\" and \"?\") */\n",
       "\n",
       "/* Common style for \"i\" and \"?\" */\n",
       "\n",
       ".sk-estimator-doc-link,\n",
       "a:link.sk-estimator-doc-link,\n",
       "a:visited.sk-estimator-doc-link {\n",
       "  float: right;\n",
       "  font-size: smaller;\n",
       "  line-height: 1em;\n",
       "  font-family: monospace;\n",
       "  background-color: var(--sklearn-color-background);\n",
       "  border-radius: 1em;\n",
       "  height: 1em;\n",
       "  width: 1em;\n",
       "  text-decoration: none !important;\n",
       "  margin-left: 1ex;\n",
       "  /* unfitted */\n",
       "  border: var(--sklearn-color-unfitted-level-1) 1pt solid;\n",
       "  color: var(--sklearn-color-unfitted-level-1);\n",
       "}\n",
       "\n",
       ".sk-estimator-doc-link.fitted,\n",
       "a:link.sk-estimator-doc-link.fitted,\n",
       "a:visited.sk-estimator-doc-link.fitted {\n",
       "  /* fitted */\n",
       "  border: var(--sklearn-color-fitted-level-1) 1pt solid;\n",
       "  color: var(--sklearn-color-fitted-level-1);\n",
       "}\n",
       "\n",
       "/* On hover */\n",
       "div.sk-estimator:hover .sk-estimator-doc-link:hover,\n",
       ".sk-estimator-doc-link:hover,\n",
       "div.sk-label-container:hover .sk-estimator-doc-link:hover,\n",
       ".sk-estimator-doc-link:hover {\n",
       "  /* unfitted */\n",
       "  background-color: var(--sklearn-color-unfitted-level-3);\n",
       "  color: var(--sklearn-color-background);\n",
       "  text-decoration: none;\n",
       "}\n",
       "\n",
       "div.sk-estimator.fitted:hover .sk-estimator-doc-link.fitted:hover,\n",
       ".sk-estimator-doc-link.fitted:hover,\n",
       "div.sk-label-container:hover .sk-estimator-doc-link.fitted:hover,\n",
       ".sk-estimator-doc-link.fitted:hover {\n",
       "  /* fitted */\n",
       "  background-color: var(--sklearn-color-fitted-level-3);\n",
       "  color: var(--sklearn-color-background);\n",
       "  text-decoration: none;\n",
       "}\n",
       "\n",
       "/* Span, style for the box shown on hovering the info icon */\n",
       ".sk-estimator-doc-link span {\n",
       "  display: none;\n",
       "  z-index: 9999;\n",
       "  position: relative;\n",
       "  font-weight: normal;\n",
       "  right: .2ex;\n",
       "  padding: .5ex;\n",
       "  margin: .5ex;\n",
       "  width: min-content;\n",
       "  min-width: 20ex;\n",
       "  max-width: 50ex;\n",
       "  color: var(--sklearn-color-text);\n",
       "  box-shadow: 2pt 2pt 4pt #999;\n",
       "  /* unfitted */\n",
       "  background: var(--sklearn-color-unfitted-level-0);\n",
       "  border: .5pt solid var(--sklearn-color-unfitted-level-3);\n",
       "}\n",
       "\n",
       ".sk-estimator-doc-link.fitted span {\n",
       "  /* fitted */\n",
       "  background: var(--sklearn-color-fitted-level-0);\n",
       "  border: var(--sklearn-color-fitted-level-3);\n",
       "}\n",
       "\n",
       ".sk-estimator-doc-link:hover span {\n",
       "  display: block;\n",
       "}\n",
       "\n",
       "/* \"?\"-specific style due to the `<a>` HTML tag */\n",
       "\n",
       "#sk-container-id-1 a.estimator_doc_link {\n",
       "  float: right;\n",
       "  font-size: 1rem;\n",
       "  line-height: 1em;\n",
       "  font-family: monospace;\n",
       "  background-color: var(--sklearn-color-background);\n",
       "  border-radius: 1rem;\n",
       "  height: 1rem;\n",
       "  width: 1rem;\n",
       "  text-decoration: none;\n",
       "  /* unfitted */\n",
       "  color: var(--sklearn-color-unfitted-level-1);\n",
       "  border: var(--sklearn-color-unfitted-level-1) 1pt solid;\n",
       "}\n",
       "\n",
       "#sk-container-id-1 a.estimator_doc_link.fitted {\n",
       "  /* fitted */\n",
       "  border: var(--sklearn-color-fitted-level-1) 1pt solid;\n",
       "  color: var(--sklearn-color-fitted-level-1);\n",
       "}\n",
       "\n",
       "/* On hover */\n",
       "#sk-container-id-1 a.estimator_doc_link:hover {\n",
       "  /* unfitted */\n",
       "  background-color: var(--sklearn-color-unfitted-level-3);\n",
       "  color: var(--sklearn-color-background);\n",
       "  text-decoration: none;\n",
       "}\n",
       "\n",
       "#sk-container-id-1 a.estimator_doc_link.fitted:hover {\n",
       "  /* fitted */\n",
       "  background-color: var(--sklearn-color-fitted-level-3);\n",
       "}\n",
       "</style><div id=\"sk-container-id-1\" class=\"sk-top-container\"><div class=\"sk-text-repr-fallback\"><pre>GaussianNB()</pre><b>In a Jupyter environment, please rerun this cell to show the HTML representation or trust the notebook. <br />On GitHub, the HTML representation is unable to render, please try loading this page with nbviewer.org.</b></div><div class=\"sk-container\" hidden><div class=\"sk-item\"><div class=\"sk-estimator fitted sk-toggleable\"><input class=\"sk-toggleable__control sk-hidden--visually\" id=\"sk-estimator-id-1\" type=\"checkbox\" checked><label for=\"sk-estimator-id-1\" class=\"sk-toggleable__label fitted sk-toggleable__label-arrow fitted\">&nbsp;&nbsp;GaussianNB<a class=\"sk-estimator-doc-link fitted\" rel=\"noreferrer\" target=\"_blank\" href=\"https://scikit-learn.org/1.5/modules/generated/sklearn.naive_bayes.GaussianNB.html\">?<span>Documentation for GaussianNB</span></a><span class=\"sk-estimator-doc-link fitted\">i<span>Fitted</span></span></label><div class=\"sk-toggleable__content fitted\"><pre>GaussianNB()</pre></div> </div></div></div></div>"
      ],
=======
>>>>>>> 462e300dbcb4cf0751f6b76a297dabc18c342638
      "text/plain": [
       "GaussianNB()"
      ]
     },
<<<<<<< HEAD
     "execution_count": 34,
=======
     "execution_count": 37,
>>>>>>> 462e300dbcb4cf0751f6b76a297dabc18c342638
     "metadata": {},
     "output_type": "execute_result"
    }
   ],
   "source": [
    "from sklearn.naive_bayes import GaussianNB\n",
    "classifier = GaussianNB()\n",
    "classifier.fit(X_train, y_train)"
   ]
  },
  {
   "cell_type": "code",
<<<<<<< HEAD
   "execution_count": 35,
=======
   "execution_count": 38,
>>>>>>> 462e300dbcb4cf0751f6b76a297dabc18c342638
   "metadata": {},
   "outputs": [],
   "source": [
    "y_pred  =  classifier.predict(X_test)"
   ]
  },
  {
   "cell_type": "code",
<<<<<<< HEAD
   "execution_count": 37,
=======
   "execution_count": 39,
>>>>>>> 462e300dbcb4cf0751f6b76a297dabc18c342638
   "metadata": {},
   "outputs": [
    {
     "data": {
      "text/plain": [
       "array([0, 0, 0, 0, 0, 0, 0, 1, 0, 0, 0, 0, 0, 0, 0, 1, 0, 0, 1, 0, 0, 1,\n",
       "       0, 1, 0, 1, 0, 0, 0, 0, 0, 0, 1, 0, 0, 0, 0, 0, 0, 1, 0, 0, 0, 0,\n",
       "       1, 0, 0, 1, 0, 1, 1, 0, 0, 1, 1, 0, 0, 0, 1, 0, 0, 1, 0, 0, 0, 1,\n",
       "       0, 0, 0, 0, 1, 0, 0, 0, 0, 0, 0, 0, 1, 1], dtype=int64)"
      ]
     },
<<<<<<< HEAD
     "execution_count": 37,
=======
     "execution_count": 39,
>>>>>>> 462e300dbcb4cf0751f6b76a297dabc18c342638
     "metadata": {},
     "output_type": "execute_result"
    }
   ],
   "source": [
    "y_pred"
   ]
  },
  {
   "cell_type": "markdown",
   "metadata": {},
   "source": [
    "- [x] What is Naive Bayes?\n",
    "- [x] Social Media ADs Dataset\n",
    "- [x] Label Encoding with Sklearn\n",
    "- [x] Feature Scaling with Sklearn\n",
    "- [x] Training the model\n",
    "- [ ] Model Evaluation"
   ]
  },
  {
   "cell_type": "code",
<<<<<<< HEAD
   "execution_count": 38,
=======
   "execution_count": 40,
>>>>>>> 462e300dbcb4cf0751f6b76a297dabc18c342638
   "metadata": {},
   "outputs": [
    {
     "name": "stdout",
     "output_type": "stream",
     "text": [
      "[[56  2]\n",
      " [ 4 18]]\n"
     ]
    }
   ],
   "source": [
    "from sklearn.metrics import confusion_matrix,accuracy_score\n",
    "cm = confusion_matrix(y_test, y_pred)\n",
    "print(cm)"
   ]
  },
  {
   "cell_type": "code",
<<<<<<< HEAD
   "execution_count": 39,
=======
   "execution_count": 41,
>>>>>>> 462e300dbcb4cf0751f6b76a297dabc18c342638
   "metadata": {},
   "outputs": [
    {
     "data": {
      "text/plain": [
<<<<<<< HEAD
       "<Axes: >"
      ]
     },
     "execution_count": 39,
=======
       "<AxesSubplot:>"
      ]
     },
     "execution_count": 41,
>>>>>>> 462e300dbcb4cf0751f6b76a297dabc18c342638
     "metadata": {},
     "output_type": "execute_result"
    },
    {
     "data": {
<<<<<<< HEAD
      "image/png": "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",
      "text/plain": [
       "<Figure size 640x480 with 2 Axes>"
      ]
     },
     "metadata": {},
=======
      "image/png": "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\n",
      "text/plain": [
       "<Figure size 432x288 with 2 Axes>"
      ]
     },
     "metadata": {
      "needs_background": "light"
     },
>>>>>>> 462e300dbcb4cf0751f6b76a297dabc18c342638
     "output_type": "display_data"
    }
   ],
   "source": [
    "sns.heatmap(cm,annot=True)"
   ]
  },
  {
   "cell_type": "code",
<<<<<<< HEAD
   "execution_count": 40,
=======
   "execution_count": 42,
>>>>>>> 462e300dbcb4cf0751f6b76a297dabc18c342638
   "metadata": {},
   "outputs": [
    {
     "data": {
      "text/plain": [
       "0.925"
      ]
     },
<<<<<<< HEAD
     "execution_count": 40,
=======
     "execution_count": 42,
>>>>>>> 462e300dbcb4cf0751f6b76a297dabc18c342638
     "metadata": {},
     "output_type": "execute_result"
    }
   ],
   "source": [
    "ac = accuracy_score(y_test,y_pred)\n",
    "ac"
   ]
<<<<<<< HEAD
=======
  },
  {
   "cell_type": "code",
   "execution_count": null,
   "metadata": {},
   "outputs": [],
   "source": []
>>>>>>> 462e300dbcb4cf0751f6b76a297dabc18c342638
  }
 ],
 "metadata": {
  "kernelspec": {
   "display_name": "Python 3",
   "language": "python",
   "name": "python3"
  },
  "language_info": {
   "codemirror_mode": {
    "name": "ipython",
    "version": 3
   },
   "file_extension": ".py",
   "mimetype": "text/x-python",
   "name": "python",
   "nbconvert_exporter": "python",
   "pygments_lexer": "ipython3",
<<<<<<< HEAD
   "version": "3.12.0"
=======
   "version": "3.8.8"
>>>>>>> 462e300dbcb4cf0751f6b76a297dabc18c342638
  }
 },
 "nbformat": 4,
 "nbformat_minor": 2
}
