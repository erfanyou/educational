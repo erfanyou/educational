{
 "cells": [
  {
   "cell_type": "markdown",
   "metadata": {},
   "source": [
    "<div class=\"alert alert-block alert-success\">\n",
    "    <h1 align=\"center\">Machine Learning in Python</h1>\n",
    "    <h3 align=\"center\">K-Nearest Neighbor (Breast Cancer Dataset)</h3>\n",
    "    <h4 align=\"center\"><a href=\"http://www.iran-machinelearning.ir\">Soheil Tehranipour</a></h5>\n",
    "</div>"
   ]
  },
  {
   "cell_type": "markdown",
   "metadata": {},
   "source": [
    "- [ ] What is KNN?\n",
    "- [ ] Breast Cancer Dataset\n",
    "- [ ] How to use optimal K?"
   ]
  },
  {
   "cell_type": "markdown",
   "metadata": {},
   "source": [
    "## What is K-Nearest Neighbor (KNN)?\n",
    "\n",
    "K-Nearest Neighbors, or **KNN** for short, is one of the simplest machine learning algorithms and is used in a wide array of institutions. KNN is a `non-parametric`, `lazy learning` algorithm."
   ]
  },
  {
   "cell_type": "markdown",
   "metadata": {},
   "source": [
    "<img src = \"https://cdn.askpython.com/wp-content/uploads/2020/10/K-Nearest-Neighbor.png.webp\" width=50%>"
   ]
  },
  {
   "cell_type": "markdown",
   "metadata": {},
   "source": [
    "\n",
    "\n",
    "* When we say a technique is non-parametric, it means that it does not make any assumptions about the underlying data. In other words, it makes its selection based off of the proximity to other data points regardless of what feature the numerical values represent. \n",
    "\n",
    "* Being a lazy learning algorithm implies that there is little to no training phase. Therefore, we can immediately classify new data points as they present themselves.\n",
    "\n",
    "> K-NN is a lazy learner because it doesn’t learn a discriminative function from the training data but “memorizes” the training dataset instead.\n",
    "For example, the logistic regression algorithm learns its model weights (parameters) during training time. In contrast, there is no training time in K-NN.\n",
    "\n",
    "**To summarize: An eager learner has a model fitting or training step. A lazy learner does not have a training phase.**"
   ]
  },
  {
   "cell_type": "markdown",
   "metadata": {},
   "source": [
    "<img src = \"https://miro.medium.com/max/1400/1*YWKvGH4kKOtCvlX950LM9g.jpeg\" width=75%>"
   ]
  },
  {
   "cell_type": "markdown",
   "metadata": {},
   "source": [
    "## KNN in a nutshell"
   ]
  },
  {
   "cell_type": "markdown",
   "metadata": {},
   "source": [
    "1.     Pick a value for K (i.e. 5)."
   ]
  },
  {
   "cell_type": "markdown",
   "metadata": {},
   "source": [
    "<img src = \"https://miro.medium.com/max/1400/1*mAgqYN_HLbYYXXkQdyBA6Q.png\" width=50%>"
   ]
  },
  {
   "cell_type": "markdown",
   "metadata": {},
   "source": [
    "2. Take the K nearest neighbors of the new data point according to their Euclidean distance."
   ]
  },
  {
   "cell_type": "markdown",
   "metadata": {},
   "source": [
    "<img src = \"https://miro.medium.com/max/1400/1*4F-q86XFr2-EsaAcz0Zu5A.png\" width=50%>\n"
   ]
  },
  {
   "cell_type": "markdown",
   "metadata": {},
   "source": [
    "3. Among these neighbors, count the number of data points in each category and assign the new data point to the category where you counted the most neighbors."
   ]
  },
  {
   "cell_type": "markdown",
   "metadata": {},
   "source": [
    "<img src = \"https://miro.medium.com/max/1400/1*OMHr6KZl7nHnKgLb8pq0Jg.png\" width=50%>\n"
   ]
  },
  {
   "cell_type": "markdown",
   "metadata": {},
   "source": [
    "## Algorithm...\n",
    "\n",
    "1.Initialize the K value.\n",
    "\n",
    "2.Calculate the distance between test input and K trained nearest neighbors.\n",
    "\n",
    "3.Check class categories of nearest neighbors and determine the type in which test input falls.\n",
    "\n",
    "4.Classification will be done by taking the majority of votes.\n",
    "\n",
    "5.Return the class category."
   ]
  },
  {
   "cell_type": "markdown",
   "metadata": {},
   "source": [
    "## Distance Metrics\n",
    "\n",
    "The distance metric is the effective hyper-parameter through which we measure the distance between data feature values and new test inputs."
   ]
  },
  {
   "cell_type": "markdown",
   "metadata": {},
   "source": [
    "<img src = \"https://miro.medium.com/max/1400/1*_i1PCxvSDw5TIfzyq90aag.png\" width=50%>\n"
   ]
  },
  {
   "cell_type": "markdown",
   "metadata": {},
   "source": [
    "## Some pros and cons of KNN"
   ]
  },
  {
   "cell_type": "markdown",
   "metadata": {},
   "source": [
    "> Pros:\n",
    "\n",
    "* No assumptions about data\n",
    "* Simple algorithm — easy to understand\n",
    "* Can be used for classification and regression\n",
    "\n",
    "> Cons:\n",
    "\n",
    "* High memory requirement — All of the training data must be present in memory in order to calculate the closest K neighbors\n",
    "* Sensitive to irrelevant features\n",
    "* Sensitive to the scale of the data since we’re computing the distance to the closest K points"
   ]
  },
  {
   "cell_type": "markdown",
   "metadata": {},
   "source": [
    "- [x] What is KNN?\n",
    "- [ ] Breast Cancer Dataset\n",
    "- [ ] How to use optimal K?"
   ]
  },
  {
   "cell_type": "markdown",
   "metadata": {},
   "source": [
    "## KNN in python - Breast Cancer Dataset"
   ]
  },
  {
   "cell_type": "code",
<<<<<<< HEAD
   "execution_count": 29,
=======
   "execution_count": 1,
>>>>>>> 462e300dbcb4cf0751f6b76a297dabc18c342638
   "metadata": {},
   "outputs": [],
   "source": [
    "%matplotlib inline\n",
    "import numpy as np\n",
    "import pandas as pd\n",
    "import matplotlib.pyplot as plt\n",
    "import seaborn as sns\n",
    "import sklearn\n",
    "import warnings\n",
    "warnings.filterwarnings('ignore')"
   ]
  },
  {
   "cell_type": "code",
<<<<<<< HEAD
   "execution_count": 30,
=======
   "execution_count": 2,
>>>>>>> 462e300dbcb4cf0751f6b76a297dabc18c342638
   "metadata": {},
   "outputs": [],
   "source": [
    "from sklearn.datasets import load_breast_cancer\n",
    "\n",
    "cancer = load_breast_cancer()"
   ]
  },
  {
   "cell_type": "markdown",
   "metadata": {},
   "source": [
    "| Question      |Answer\n",
    "| :---        |    :----:   \n",
    "| Number of Instances      | 659       \n",
    "| Number of Features   | 30\n",
    "| Class Distribution      | 357 Benign, 212 Malignant\n",
    "| Number of Missing Values      | 0       \n",
    "| Number of Classes      | 2       \n",
    "| Task   | Classification "
   ]
  },
  {
   "cell_type": "code",
<<<<<<< HEAD
   "execution_count": 31,
=======
   "execution_count": 3,
>>>>>>> 462e300dbcb4cf0751f6b76a297dabc18c342638
   "metadata": {},
   "outputs": [
    {
     "data": {
      "text/plain": [
       "(569, 30)"
      ]
     },
<<<<<<< HEAD
     "execution_count": 31,
=======
     "execution_count": 3,
>>>>>>> 462e300dbcb4cf0751f6b76a297dabc18c342638
     "metadata": {},
     "output_type": "execute_result"
    }
   ],
   "source": [
    "cancer.data.shape"
   ]
  },
  {
   "cell_type": "code",
<<<<<<< HEAD
   "execution_count": 32,
=======
   "execution_count": 4,
>>>>>>> 462e300dbcb4cf0751f6b76a297dabc18c342638
   "metadata": {},
   "outputs": [
    {
     "name": "stdout",
     "output_type": "stream",
     "text": [
      "['mean radius' 'mean texture' 'mean perimeter' 'mean area'\n",
      " 'mean smoothness' 'mean compactness' 'mean concavity'\n",
      " 'mean concave points' 'mean symmetry' 'mean fractal dimension'\n",
      " 'radius error' 'texture error' 'perimeter error' 'area error'\n",
      " 'smoothness error' 'compactness error' 'concavity error'\n",
      " 'concave points error' 'symmetry error' 'fractal dimension error'\n",
      " 'worst radius' 'worst texture' 'worst perimeter' 'worst area'\n",
      " 'worst smoothness' 'worst compactness' 'worst concavity'\n",
      " 'worst concave points' 'worst symmetry' 'worst fractal dimension']\n"
     ]
    }
   ],
   "source": [
    "print(cancer.feature_names)"
   ]
  },
  {
   "cell_type": "code",
<<<<<<< HEAD
   "execution_count": 33,
=======
   "execution_count": 5,
>>>>>>> 462e300dbcb4cf0751f6b76a297dabc18c342638
   "metadata": {},
   "outputs": [
    {
     "name": "stdout",
     "output_type": "stream",
     "text": [
      "['malignant' 'benign']\n"
     ]
    }
   ],
   "source": [
    "print(cancer.target_names)"
   ]
  },
  {
   "cell_type": "markdown",
   "metadata": {},
   "source": [
    "<img src = \"https://miro.medium.com/max/875/1*-7Gwli-yhmHA7XNRmJwSRg.jpeg\" width=60%>\n"
   ]
  },
  {
   "cell_type": "code",
<<<<<<< HEAD
   "execution_count": 34,
=======
   "execution_count": 6,
>>>>>>> 462e300dbcb4cf0751f6b76a297dabc18c342638
   "metadata": {},
   "outputs": [
    {
     "data": {
      "text/plain": [
       "array([0, 0, 0, 0, 0, 0, 0, 0, 0, 0, 0, 0, 0, 0, 0, 0, 0, 0, 0, 1, 1, 1,\n",
       "       0, 0, 0, 0, 0, 0, 0, 0, 0, 0, 0, 0, 0, 0, 0, 1, 0, 0, 0, 0, 0, 0,\n",
       "       0, 0, 1, 0, 1, 1, 1, 1, 1, 0, 0, 1, 0, 0, 1, 1, 1, 1, 0, 1, 0, 0,\n",
       "       1, 1, 1, 1, 0, 1, 0, 0, 1, 0, 1, 0, 0, 1, 1, 1, 0, 0, 1, 0, 0, 0,\n",
       "       1, 1, 1, 0, 1, 1, 0, 0, 1, 1, 1, 0, 0, 1, 1, 1, 1, 0, 1, 1, 0, 1,\n",
       "       1, 1, 1, 1, 1, 1, 1, 0, 0, 0, 1, 0, 0, 1, 1, 1, 0, 0, 1, 0, 1, 0,\n",
       "       0, 1, 0, 0, 1, 1, 0, 1, 1, 0, 1, 1, 1, 1, 0, 1, 1, 1, 1, 1, 1, 1,\n",
       "       1, 1, 0, 1, 1, 1, 1, 0, 0, 1, 0, 1, 1, 0, 0, 1, 1, 0, 0, 1, 1, 1,\n",
       "       1, 0, 1, 1, 0, 0, 0, 1, 0, 1, 0, 1, 1, 1, 0, 1, 1, 0, 0, 1, 0, 0,\n",
       "       0, 0, 1, 0, 0, 0, 1, 0, 1, 0, 1, 1, 0, 1, 0, 0, 0, 0, 1, 1, 0, 0,\n",
       "       1, 1, 1, 0, 1, 1, 1, 1, 1, 0, 0, 1, 1, 0, 1, 1, 0, 0, 1, 0, 1, 1,\n",
       "       1, 1, 0, 1, 1, 1, 1, 1, 0, 1, 0, 0, 0, 0, 0, 0, 0, 0, 0, 0, 0, 0,\n",
       "       0, 0, 1, 1, 1, 1, 1, 1, 0, 1, 0, 1, 1, 0, 1, 1, 0, 1, 0, 0, 1, 1,\n",
       "       1, 1, 1, 1, 1, 1, 1, 1, 1, 1, 1, 0, 1, 1, 0, 1, 0, 1, 1, 1, 1, 1,\n",
       "       1, 1, 1, 1, 1, 1, 1, 1, 1, 0, 1, 1, 1, 0, 1, 0, 1, 1, 1, 1, 0, 0,\n",
       "       0, 1, 1, 1, 1, 0, 1, 0, 1, 0, 1, 1, 1, 0, 1, 1, 1, 1, 1, 1, 1, 0,\n",
       "       0, 0, 1, 1, 1, 1, 1, 1, 1, 1, 1, 1, 1, 0, 0, 1, 0, 0, 0, 1, 0, 0,\n",
       "       1, 1, 1, 1, 1, 0, 1, 1, 1, 1, 1, 0, 1, 1, 1, 0, 1, 1, 0, 0, 1, 1,\n",
       "       1, 1, 1, 1, 0, 1, 1, 1, 1, 1, 1, 1, 0, 1, 1, 1, 1, 1, 0, 1, 1, 0,\n",
       "       1, 1, 1, 1, 1, 1, 1, 1, 1, 1, 1, 1, 0, 1, 0, 0, 1, 0, 1, 1, 1, 1,\n",
       "       1, 0, 1, 1, 0, 1, 0, 1, 1, 0, 1, 0, 1, 1, 1, 1, 1, 1, 1, 1, 0, 0,\n",
       "       1, 1, 1, 1, 1, 1, 0, 1, 1, 1, 1, 1, 1, 1, 1, 1, 1, 0, 1, 1, 1, 1,\n",
       "       1, 1, 1, 0, 1, 0, 1, 1, 0, 1, 1, 1, 1, 1, 0, 0, 1, 0, 1, 0, 1, 1,\n",
       "       1, 1, 1, 0, 1, 1, 0, 1, 0, 1, 0, 0, 1, 1, 1, 0, 1, 1, 1, 1, 1, 1,\n",
       "       1, 1, 1, 1, 1, 0, 1, 0, 0, 1, 1, 1, 1, 1, 1, 1, 1, 1, 1, 1, 1, 1,\n",
       "       1, 1, 1, 1, 1, 1, 1, 1, 1, 1, 1, 1, 0, 0, 0, 0, 0, 0, 1])"
      ]
     },
<<<<<<< HEAD
     "execution_count": 34,
=======
     "execution_count": 6,
>>>>>>> 462e300dbcb4cf0751f6b76a297dabc18c342638
     "metadata": {},
     "output_type": "execute_result"
    }
   ],
   "source": [
    "cancer.target"
   ]
  },
  {
   "cell_type": "code",
<<<<<<< HEAD
   "execution_count": 35,
=======
   "execution_count": 7,
>>>>>>> 462e300dbcb4cf0751f6b76a297dabc18c342638
   "metadata": {},
   "outputs": [],
   "source": [
    "from sklearn.model_selection import train_test_split"
   ]
  },
  {
   "cell_type": "code",
<<<<<<< HEAD
   "execution_count": 36,
=======
   "execution_count": 10,
>>>>>>> 462e300dbcb4cf0751f6b76a297dabc18c342638
   "metadata": {},
   "outputs": [],
   "source": [
    "X_train, X_test, y_train, y_test = train_test_split(cancer.data,cancer.target, random_state=42)"
   ]
  },
  {
   "cell_type": "code",
<<<<<<< HEAD
   "execution_count": 37,
=======
   "execution_count": 11,
>>>>>>> 462e300dbcb4cf0751f6b76a297dabc18c342638
   "metadata": {},
   "outputs": [
    {
     "name": "stdout",
     "output_type": "stream",
     "text": [
      "Shape of Train Data: (426, 30)\n",
      "Shape of Test Data: (143, 30)\n"
     ]
    }
   ],
   "source": [
    "print (\"Shape of Train Data:\", X_train.shape)\n",
    "print (\"Shape of Test Data:\", X_test.shape)"
   ]
  },
  {
   "cell_type": "code",
<<<<<<< HEAD
   "execution_count": 38,
=======
   "execution_count": 14,
>>>>>>> 462e300dbcb4cf0751f6b76a297dabc18c342638
   "metadata": {},
   "outputs": [
    {
     "data": {
      "text/plain": [
       "(426,)"
      ]
     },
<<<<<<< HEAD
     "execution_count": 38,
=======
     "execution_count": 14,
>>>>>>> 462e300dbcb4cf0751f6b76a297dabc18c342638
     "metadata": {},
     "output_type": "execute_result"
    }
   ],
   "source": [
    "y_train.shape"
   ]
  },
  {
   "cell_type": "code",
<<<<<<< HEAD
   "execution_count": 39,
=======
   "execution_count": 15,
>>>>>>> 462e300dbcb4cf0751f6b76a297dabc18c342638
   "metadata": {},
   "outputs": [
    {
     "data": {
      "text/plain": [
<<<<<<< HEAD
       "<Axes: ylabel='count'>"
      ]
     },
     "execution_count": 39,
=======
       "<AxesSubplot:ylabel='count'>"
      ]
     },
     "execution_count": 15,
>>>>>>> 462e300dbcb4cf0751f6b76a297dabc18c342638
     "metadata": {},
     "output_type": "execute_result"
    },
    {
     "data": {
<<<<<<< HEAD
      "image/png": "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",
      "text/plain": [
       "<Figure size 640x480 with 1 Axes>"
      ]
     },
     "metadata": {},
=======
      "image/png": "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\n",
      "text/plain": [
       "<Figure size 432x288 with 1 Axes>"
      ]
     },
     "metadata": {
      "needs_background": "light"
     },
>>>>>>> 462e300dbcb4cf0751f6b76a297dabc18c342638
     "output_type": "display_data"
    }
   ],
   "source": [
    "sns.countplot(cancer.target)"
   ]
  },
  {
   "cell_type": "code",
<<<<<<< HEAD
   "execution_count": 40,
=======
   "execution_count": 1,
>>>>>>> 462e300dbcb4cf0751f6b76a297dabc18c342638
   "metadata": {},
   "outputs": [],
   "source": [
    "from sklearn.neighbors import KNeighborsClassifier"
   ]
  },
  {
   "cell_type": "code",
<<<<<<< HEAD
   "execution_count": 41,
=======
   "execution_count": 18,
>>>>>>> 462e300dbcb4cf0751f6b76a297dabc18c342638
   "metadata": {},
   "outputs": [],
   "source": [
    "knn = KNeighborsClassifier()\n",
    "#n_neighbors = 5"
   ]
  },
  {
   "cell_type": "code",
<<<<<<< HEAD
   "execution_count": 42,
=======
   "execution_count": 19,
>>>>>>> 462e300dbcb4cf0751f6b76a297dabc18c342638
   "metadata": {},
   "outputs": [
    {
     "data": {
<<<<<<< HEAD
      "text/html": [
       "<style>#sk-container-id-3 {\n",
       "  /* Definition of color scheme common for light and dark mode */\n",
       "  --sklearn-color-text: black;\n",
       "  --sklearn-color-line: gray;\n",
       "  /* Definition of color scheme for unfitted estimators */\n",
       "  --sklearn-color-unfitted-level-0: #fff5e6;\n",
       "  --sklearn-color-unfitted-level-1: #f6e4d2;\n",
       "  --sklearn-color-unfitted-level-2: #ffe0b3;\n",
       "  --sklearn-color-unfitted-level-3: chocolate;\n",
       "  /* Definition of color scheme for fitted estimators */\n",
       "  --sklearn-color-fitted-level-0: #f0f8ff;\n",
       "  --sklearn-color-fitted-level-1: #d4ebff;\n",
       "  --sklearn-color-fitted-level-2: #b3dbfd;\n",
       "  --sklearn-color-fitted-level-3: cornflowerblue;\n",
       "\n",
       "  /* Specific color for light theme */\n",
       "  --sklearn-color-text-on-default-background: var(--sg-text-color, var(--theme-code-foreground, var(--jp-content-font-color1, black)));\n",
       "  --sklearn-color-background: var(--sg-background-color, var(--theme-background, var(--jp-layout-color0, white)));\n",
       "  --sklearn-color-border-box: var(--sg-text-color, var(--theme-code-foreground, var(--jp-content-font-color1, black)));\n",
       "  --sklearn-color-icon: #696969;\n",
       "\n",
       "  @media (prefers-color-scheme: dark) {\n",
       "    /* Redefinition of color scheme for dark theme */\n",
       "    --sklearn-color-text-on-default-background: var(--sg-text-color, var(--theme-code-foreground, var(--jp-content-font-color1, white)));\n",
       "    --sklearn-color-background: var(--sg-background-color, var(--theme-background, var(--jp-layout-color0, #111)));\n",
       "    --sklearn-color-border-box: var(--sg-text-color, var(--theme-code-foreground, var(--jp-content-font-color1, white)));\n",
       "    --sklearn-color-icon: #878787;\n",
       "  }\n",
       "}\n",
       "\n",
       "#sk-container-id-3 {\n",
       "  color: var(--sklearn-color-text);\n",
       "}\n",
       "\n",
       "#sk-container-id-3 pre {\n",
       "  padding: 0;\n",
       "}\n",
       "\n",
       "#sk-container-id-3 input.sk-hidden--visually {\n",
       "  border: 0;\n",
       "  clip: rect(1px 1px 1px 1px);\n",
       "  clip: rect(1px, 1px, 1px, 1px);\n",
       "  height: 1px;\n",
       "  margin: -1px;\n",
       "  overflow: hidden;\n",
       "  padding: 0;\n",
       "  position: absolute;\n",
       "  width: 1px;\n",
       "}\n",
       "\n",
       "#sk-container-id-3 div.sk-dashed-wrapped {\n",
       "  border: 1px dashed var(--sklearn-color-line);\n",
       "  margin: 0 0.4em 0.5em 0.4em;\n",
       "  box-sizing: border-box;\n",
       "  padding-bottom: 0.4em;\n",
       "  background-color: var(--sklearn-color-background);\n",
       "}\n",
       "\n",
       "#sk-container-id-3 div.sk-container {\n",
       "  /* jupyter's `normalize.less` sets `[hidden] { display: none; }`\n",
       "     but bootstrap.min.css set `[hidden] { display: none !important; }`\n",
       "     so we also need the `!important` here to be able to override the\n",
       "     default hidden behavior on the sphinx rendered scikit-learn.org.\n",
       "     See: https://github.com/scikit-learn/scikit-learn/issues/21755 */\n",
       "  display: inline-block !important;\n",
       "  position: relative;\n",
       "}\n",
       "\n",
       "#sk-container-id-3 div.sk-text-repr-fallback {\n",
       "  display: none;\n",
       "}\n",
       "\n",
       "div.sk-parallel-item,\n",
       "div.sk-serial,\n",
       "div.sk-item {\n",
       "  /* draw centered vertical line to link estimators */\n",
       "  background-image: linear-gradient(var(--sklearn-color-text-on-default-background), var(--sklearn-color-text-on-default-background));\n",
       "  background-size: 2px 100%;\n",
       "  background-repeat: no-repeat;\n",
       "  background-position: center center;\n",
       "}\n",
       "\n",
       "/* Parallel-specific style estimator block */\n",
       "\n",
       "#sk-container-id-3 div.sk-parallel-item::after {\n",
       "  content: \"\";\n",
       "  width: 100%;\n",
       "  border-bottom: 2px solid var(--sklearn-color-text-on-default-background);\n",
       "  flex-grow: 1;\n",
       "}\n",
       "\n",
       "#sk-container-id-3 div.sk-parallel {\n",
       "  display: flex;\n",
       "  align-items: stretch;\n",
       "  justify-content: center;\n",
       "  background-color: var(--sklearn-color-background);\n",
       "  position: relative;\n",
       "}\n",
       "\n",
       "#sk-container-id-3 div.sk-parallel-item {\n",
       "  display: flex;\n",
       "  flex-direction: column;\n",
       "}\n",
       "\n",
       "#sk-container-id-3 div.sk-parallel-item:first-child::after {\n",
       "  align-self: flex-end;\n",
       "  width: 50%;\n",
       "}\n",
       "\n",
       "#sk-container-id-3 div.sk-parallel-item:last-child::after {\n",
       "  align-self: flex-start;\n",
       "  width: 50%;\n",
       "}\n",
       "\n",
       "#sk-container-id-3 div.sk-parallel-item:only-child::after {\n",
       "  width: 0;\n",
       "}\n",
       "\n",
       "/* Serial-specific style estimator block */\n",
       "\n",
       "#sk-container-id-3 div.sk-serial {\n",
       "  display: flex;\n",
       "  flex-direction: column;\n",
       "  align-items: center;\n",
       "  background-color: var(--sklearn-color-background);\n",
       "  padding-right: 1em;\n",
       "  padding-left: 1em;\n",
       "}\n",
       "\n",
       "\n",
       "/* Toggleable style: style used for estimator/Pipeline/ColumnTransformer box that is\n",
       "clickable and can be expanded/collapsed.\n",
       "- Pipeline and ColumnTransformer use this feature and define the default style\n",
       "- Estimators will overwrite some part of the style using the `sk-estimator` class\n",
       "*/\n",
       "\n",
       "/* Pipeline and ColumnTransformer style (default) */\n",
       "\n",
       "#sk-container-id-3 div.sk-toggleable {\n",
       "  /* Default theme specific background. It is overwritten whether we have a\n",
       "  specific estimator or a Pipeline/ColumnTransformer */\n",
       "  background-color: var(--sklearn-color-background);\n",
       "}\n",
       "\n",
       "/* Toggleable label */\n",
       "#sk-container-id-3 label.sk-toggleable__label {\n",
       "  cursor: pointer;\n",
       "  display: block;\n",
       "  width: 100%;\n",
       "  margin-bottom: 0;\n",
       "  padding: 0.5em;\n",
       "  box-sizing: border-box;\n",
       "  text-align: center;\n",
       "}\n",
       "\n",
       "#sk-container-id-3 label.sk-toggleable__label-arrow:before {\n",
       "  /* Arrow on the left of the label */\n",
       "  content: \"▸\";\n",
       "  float: left;\n",
       "  margin-right: 0.25em;\n",
       "  color: var(--sklearn-color-icon);\n",
       "}\n",
       "\n",
       "#sk-container-id-3 label.sk-toggleable__label-arrow:hover:before {\n",
       "  color: var(--sklearn-color-text);\n",
       "}\n",
       "\n",
       "/* Toggleable content - dropdown */\n",
       "\n",
       "#sk-container-id-3 div.sk-toggleable__content {\n",
       "  max-height: 0;\n",
       "  max-width: 0;\n",
       "  overflow: hidden;\n",
       "  text-align: left;\n",
       "  /* unfitted */\n",
       "  background-color: var(--sklearn-color-unfitted-level-0);\n",
       "}\n",
       "\n",
       "#sk-container-id-3 div.sk-toggleable__content.fitted {\n",
       "  /* fitted */\n",
       "  background-color: var(--sklearn-color-fitted-level-0);\n",
       "}\n",
       "\n",
       "#sk-container-id-3 div.sk-toggleable__content pre {\n",
       "  margin: 0.2em;\n",
       "  border-radius: 0.25em;\n",
       "  color: var(--sklearn-color-text);\n",
       "  /* unfitted */\n",
       "  background-color: var(--sklearn-color-unfitted-level-0);\n",
       "}\n",
       "\n",
       "#sk-container-id-3 div.sk-toggleable__content.fitted pre {\n",
       "  /* unfitted */\n",
       "  background-color: var(--sklearn-color-fitted-level-0);\n",
       "}\n",
       "\n",
       "#sk-container-id-3 input.sk-toggleable__control:checked~div.sk-toggleable__content {\n",
       "  /* Expand drop-down */\n",
       "  max-height: 200px;\n",
       "  max-width: 100%;\n",
       "  overflow: auto;\n",
       "}\n",
       "\n",
       "#sk-container-id-3 input.sk-toggleable__control:checked~label.sk-toggleable__label-arrow:before {\n",
       "  content: \"▾\";\n",
       "}\n",
       "\n",
       "/* Pipeline/ColumnTransformer-specific style */\n",
       "\n",
       "#sk-container-id-3 div.sk-label input.sk-toggleable__control:checked~label.sk-toggleable__label {\n",
       "  color: var(--sklearn-color-text);\n",
       "  background-color: var(--sklearn-color-unfitted-level-2);\n",
       "}\n",
       "\n",
       "#sk-container-id-3 div.sk-label.fitted input.sk-toggleable__control:checked~label.sk-toggleable__label {\n",
       "  background-color: var(--sklearn-color-fitted-level-2);\n",
       "}\n",
       "\n",
       "/* Estimator-specific style */\n",
       "\n",
       "/* Colorize estimator box */\n",
       "#sk-container-id-3 div.sk-estimator input.sk-toggleable__control:checked~label.sk-toggleable__label {\n",
       "  /* unfitted */\n",
       "  background-color: var(--sklearn-color-unfitted-level-2);\n",
       "}\n",
       "\n",
       "#sk-container-id-3 div.sk-estimator.fitted input.sk-toggleable__control:checked~label.sk-toggleable__label {\n",
       "  /* fitted */\n",
       "  background-color: var(--sklearn-color-fitted-level-2);\n",
       "}\n",
       "\n",
       "#sk-container-id-3 div.sk-label label.sk-toggleable__label,\n",
       "#sk-container-id-3 div.sk-label label {\n",
       "  /* The background is the default theme color */\n",
       "  color: var(--sklearn-color-text-on-default-background);\n",
       "}\n",
       "\n",
       "/* On hover, darken the color of the background */\n",
       "#sk-container-id-3 div.sk-label:hover label.sk-toggleable__label {\n",
       "  color: var(--sklearn-color-text);\n",
       "  background-color: var(--sklearn-color-unfitted-level-2);\n",
       "}\n",
       "\n",
       "/* Label box, darken color on hover, fitted */\n",
       "#sk-container-id-3 div.sk-label.fitted:hover label.sk-toggleable__label.fitted {\n",
       "  color: var(--sklearn-color-text);\n",
       "  background-color: var(--sklearn-color-fitted-level-2);\n",
       "}\n",
       "\n",
       "/* Estimator label */\n",
       "\n",
       "#sk-container-id-3 div.sk-label label {\n",
       "  font-family: monospace;\n",
       "  font-weight: bold;\n",
       "  display: inline-block;\n",
       "  line-height: 1.2em;\n",
       "}\n",
       "\n",
       "#sk-container-id-3 div.sk-label-container {\n",
       "  text-align: center;\n",
       "}\n",
       "\n",
       "/* Estimator-specific */\n",
       "#sk-container-id-3 div.sk-estimator {\n",
       "  font-family: monospace;\n",
       "  border: 1px dotted var(--sklearn-color-border-box);\n",
       "  border-radius: 0.25em;\n",
       "  box-sizing: border-box;\n",
       "  margin-bottom: 0.5em;\n",
       "  /* unfitted */\n",
       "  background-color: var(--sklearn-color-unfitted-level-0);\n",
       "}\n",
       "\n",
       "#sk-container-id-3 div.sk-estimator.fitted {\n",
       "  /* fitted */\n",
       "  background-color: var(--sklearn-color-fitted-level-0);\n",
       "}\n",
       "\n",
       "/* on hover */\n",
       "#sk-container-id-3 div.sk-estimator:hover {\n",
       "  /* unfitted */\n",
       "  background-color: var(--sklearn-color-unfitted-level-2);\n",
       "}\n",
       "\n",
       "#sk-container-id-3 div.sk-estimator.fitted:hover {\n",
       "  /* fitted */\n",
       "  background-color: var(--sklearn-color-fitted-level-2);\n",
       "}\n",
       "\n",
       "/* Specification for estimator info (e.g. \"i\" and \"?\") */\n",
       "\n",
       "/* Common style for \"i\" and \"?\" */\n",
       "\n",
       ".sk-estimator-doc-link,\n",
       "a:link.sk-estimator-doc-link,\n",
       "a:visited.sk-estimator-doc-link {\n",
       "  float: right;\n",
       "  font-size: smaller;\n",
       "  line-height: 1em;\n",
       "  font-family: monospace;\n",
       "  background-color: var(--sklearn-color-background);\n",
       "  border-radius: 1em;\n",
       "  height: 1em;\n",
       "  width: 1em;\n",
       "  text-decoration: none !important;\n",
       "  margin-left: 1ex;\n",
       "  /* unfitted */\n",
       "  border: var(--sklearn-color-unfitted-level-1) 1pt solid;\n",
       "  color: var(--sklearn-color-unfitted-level-1);\n",
       "}\n",
       "\n",
       ".sk-estimator-doc-link.fitted,\n",
       "a:link.sk-estimator-doc-link.fitted,\n",
       "a:visited.sk-estimator-doc-link.fitted {\n",
       "  /* fitted */\n",
       "  border: var(--sklearn-color-fitted-level-1) 1pt solid;\n",
       "  color: var(--sklearn-color-fitted-level-1);\n",
       "}\n",
       "\n",
       "/* On hover */\n",
       "div.sk-estimator:hover .sk-estimator-doc-link:hover,\n",
       ".sk-estimator-doc-link:hover,\n",
       "div.sk-label-container:hover .sk-estimator-doc-link:hover,\n",
       ".sk-estimator-doc-link:hover {\n",
       "  /* unfitted */\n",
       "  background-color: var(--sklearn-color-unfitted-level-3);\n",
       "  color: var(--sklearn-color-background);\n",
       "  text-decoration: none;\n",
       "}\n",
       "\n",
       "div.sk-estimator.fitted:hover .sk-estimator-doc-link.fitted:hover,\n",
       ".sk-estimator-doc-link.fitted:hover,\n",
       "div.sk-label-container:hover .sk-estimator-doc-link.fitted:hover,\n",
       ".sk-estimator-doc-link.fitted:hover {\n",
       "  /* fitted */\n",
       "  background-color: var(--sklearn-color-fitted-level-3);\n",
       "  color: var(--sklearn-color-background);\n",
       "  text-decoration: none;\n",
       "}\n",
       "\n",
       "/* Span, style for the box shown on hovering the info icon */\n",
       ".sk-estimator-doc-link span {\n",
       "  display: none;\n",
       "  z-index: 9999;\n",
       "  position: relative;\n",
       "  font-weight: normal;\n",
       "  right: .2ex;\n",
       "  padding: .5ex;\n",
       "  margin: .5ex;\n",
       "  width: min-content;\n",
       "  min-width: 20ex;\n",
       "  max-width: 50ex;\n",
       "  color: var(--sklearn-color-text);\n",
       "  box-shadow: 2pt 2pt 4pt #999;\n",
       "  /* unfitted */\n",
       "  background: var(--sklearn-color-unfitted-level-0);\n",
       "  border: .5pt solid var(--sklearn-color-unfitted-level-3);\n",
       "}\n",
       "\n",
       ".sk-estimator-doc-link.fitted span {\n",
       "  /* fitted */\n",
       "  background: var(--sklearn-color-fitted-level-0);\n",
       "  border: var(--sklearn-color-fitted-level-3);\n",
       "}\n",
       "\n",
       ".sk-estimator-doc-link:hover span {\n",
       "  display: block;\n",
       "}\n",
       "\n",
       "/* \"?\"-specific style due to the `<a>` HTML tag */\n",
       "\n",
       "#sk-container-id-3 a.estimator_doc_link {\n",
       "  float: right;\n",
       "  font-size: 1rem;\n",
       "  line-height: 1em;\n",
       "  font-family: monospace;\n",
       "  background-color: var(--sklearn-color-background);\n",
       "  border-radius: 1rem;\n",
       "  height: 1rem;\n",
       "  width: 1rem;\n",
       "  text-decoration: none;\n",
       "  /* unfitted */\n",
       "  color: var(--sklearn-color-unfitted-level-1);\n",
       "  border: var(--sklearn-color-unfitted-level-1) 1pt solid;\n",
       "}\n",
       "\n",
       "#sk-container-id-3 a.estimator_doc_link.fitted {\n",
       "  /* fitted */\n",
       "  border: var(--sklearn-color-fitted-level-1) 1pt solid;\n",
       "  color: var(--sklearn-color-fitted-level-1);\n",
       "}\n",
       "\n",
       "/* On hover */\n",
       "#sk-container-id-3 a.estimator_doc_link:hover {\n",
       "  /* unfitted */\n",
       "  background-color: var(--sklearn-color-unfitted-level-3);\n",
       "  color: var(--sklearn-color-background);\n",
       "  text-decoration: none;\n",
       "}\n",
       "\n",
       "#sk-container-id-3 a.estimator_doc_link.fitted:hover {\n",
       "  /* fitted */\n",
       "  background-color: var(--sklearn-color-fitted-level-3);\n",
       "}\n",
       "</style><div id=\"sk-container-id-3\" class=\"sk-top-container\"><div class=\"sk-text-repr-fallback\"><pre>KNeighborsClassifier()</pre><b>In a Jupyter environment, please rerun this cell to show the HTML representation or trust the notebook. <br />On GitHub, the HTML representation is unable to render, please try loading this page with nbviewer.org.</b></div><div class=\"sk-container\" hidden><div class=\"sk-item\"><div class=\"sk-estimator fitted sk-toggleable\"><input class=\"sk-toggleable__control sk-hidden--visually\" id=\"sk-estimator-id-3\" type=\"checkbox\" checked><label for=\"sk-estimator-id-3\" class=\"sk-toggleable__label fitted sk-toggleable__label-arrow fitted\">&nbsp;&nbsp;KNeighborsClassifier<a class=\"sk-estimator-doc-link fitted\" rel=\"noreferrer\" target=\"_blank\" href=\"https://scikit-learn.org/1.5/modules/generated/sklearn.neighbors.KNeighborsClassifier.html\">?<span>Documentation for KNeighborsClassifier</span></a><span class=\"sk-estimator-doc-link fitted\">i<span>Fitted</span></span></label><div class=\"sk-toggleable__content fitted\"><pre>KNeighborsClassifier()</pre></div> </div></div></div></div>"
      ],
=======
>>>>>>> 462e300dbcb4cf0751f6b76a297dabc18c342638
      "text/plain": [
       "KNeighborsClassifier()"
      ]
     },
<<<<<<< HEAD
     "execution_count": 42,
=======
     "execution_count": 19,
>>>>>>> 462e300dbcb4cf0751f6b76a297dabc18c342638
     "metadata": {},
     "output_type": "execute_result"
    }
   ],
   "source": [
    "knn.fit(X_train, y_train)"
   ]
  },
  {
   "cell_type": "code",
<<<<<<< HEAD
   "execution_count": 43,
=======
   "execution_count": 20,
>>>>>>> 462e300dbcb4cf0751f6b76a297dabc18c342638
   "metadata": {},
   "outputs": [],
   "source": [
    "y_pred = knn.predict(X_test)"
   ]
  },
  {
   "cell_type": "code",
<<<<<<< HEAD
   "execution_count": 44,
=======
   "execution_count": 22,
>>>>>>> 462e300dbcb4cf0751f6b76a297dabc18c342638
   "metadata": {},
   "outputs": [
    {
     "data": {
      "text/plain": [
       "0.9342723004694836"
      ]
     },
<<<<<<< HEAD
     "execution_count": 44,
=======
     "execution_count": 22,
>>>>>>> 462e300dbcb4cf0751f6b76a297dabc18c342638
     "metadata": {},
     "output_type": "execute_result"
    }
   ],
   "source": [
    "knn.score(X_train, y_train)"
   ]
  },
  {
   "cell_type": "code",
<<<<<<< HEAD
   "execution_count": 45,
=======
   "execution_count": 23,
>>>>>>> 462e300dbcb4cf0751f6b76a297dabc18c342638
   "metadata": {},
   "outputs": [
    {
     "data": {
      "text/plain": [
       "0.965034965034965"
      ]
     },
<<<<<<< HEAD
     "execution_count": 45,
=======
     "execution_count": 23,
>>>>>>> 462e300dbcb4cf0751f6b76a297dabc18c342638
     "metadata": {},
     "output_type": "execute_result"
    }
   ],
   "source": [
    "knn.score(X_test, y_test)"
   ]
  },
  {
   "cell_type": "markdown",
   "metadata": {},
   "source": [
    "## Evaluation"
   ]
  },
  {
   "cell_type": "code",
<<<<<<< HEAD
   "execution_count": 46,
=======
   "execution_count": 24,
>>>>>>> 462e300dbcb4cf0751f6b76a297dabc18c342638
   "metadata": {},
   "outputs": [],
   "source": [
    "from sklearn.metrics import confusion_matrix\n",
    "from sklearn.metrics import classification_report"
   ]
  },
  {
   "cell_type": "code",
<<<<<<< HEAD
   "execution_count": 47,
=======
   "execution_count": 25,
>>>>>>> 462e300dbcb4cf0751f6b76a297dabc18c342638
   "metadata": {},
   "outputs": [
    {
     "name": "stdout",
     "output_type": "stream",
     "text": [
      "              precision    recall  f1-score   support\n",
      "\n",
      "           0       0.98      0.93      0.95        54\n",
      "           1       0.96      0.99      0.97        89\n",
      "\n",
      "    accuracy                           0.97       143\n",
      "   macro avg       0.97      0.96      0.96       143\n",
      "weighted avg       0.97      0.97      0.96       143\n",
      "\n"
     ]
    }
   ],
   "source": [
    "print(classification_report(y_test, y_pred))"
   ]
  },
  {
   "cell_type": "code",
<<<<<<< HEAD
   "execution_count": 48,
=======
   "execution_count": 26,
>>>>>>> 462e300dbcb4cf0751f6b76a297dabc18c342638
   "metadata": {},
   "outputs": [
    {
     "data": {
      "text/plain": [
<<<<<<< HEAD
       "<Axes: >"
      ]
     },
     "execution_count": 48,
=======
       "<AxesSubplot:>"
      ]
     },
     "execution_count": 26,
>>>>>>> 462e300dbcb4cf0751f6b76a297dabc18c342638
     "metadata": {},
     "output_type": "execute_result"
    },
    {
     "data": {
<<<<<<< HEAD
      "image/png": "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",
      "text/plain": [
       "<Figure size 640x480 with 2 Axes>"
      ]
     },
     "metadata": {},
=======
      "image/png": "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\n",
      "text/plain": [
       "<Figure size 432x288 with 2 Axes>"
      ]
     },
     "metadata": {
      "needs_background": "light"
     },
>>>>>>> 462e300dbcb4cf0751f6b76a297dabc18c342638
     "output_type": "display_data"
    }
   ],
   "source": [
    "cm =confusion_matrix(y_test, y_pred)\n",
    "sns.heatmap(cm, square=True , annot=True)"
   ]
  },
  {
   "cell_type": "markdown",
   "metadata": {},
   "source": [
    "- [x] What is KNN?\n",
    "- [x] Breast Cancer Dataset\n",
    "- [ ] How to use optimal K?"
   ]
  },
  {
   "cell_type": "markdown",
   "metadata": {},
   "source": [
    "# How to choose a K value?"
   ]
  },
  {
   "cell_type": "markdown",
   "metadata": {},
   "source": [
    "K value indicates the count of the nearest neighbors. We have to compute distances between test points and trained labels points. Updating distance metrics with every iteration is computationally expensive, and that’s why KNN is a lazy learning algorithm"
   ]
  },
  {
   "cell_type": "markdown",
   "metadata": {},
   "source": [
    "<img src = \"https://miro.medium.com/max/810/0*FakkqTKdMPDb3gof.jpg\" width=40%>"
   ]
  },
  {
   "cell_type": "markdown",
   "metadata": {},
   "source": [
    "## Optimal value of K"
   ]
  },
  {
   "cell_type": "code",
<<<<<<< HEAD
   "execution_count": 49,
=======
   "execution_count": 27,
>>>>>>> 462e300dbcb4cf0751f6b76a297dabc18c342638
   "metadata": {},
   "outputs": [],
   "source": [
    "error_rate = []\n",
    "# Might take some time\n",
    "for i in range(1,40):\n",
    "    \n",
    "    knn = KNeighborsClassifier(n_neighbors=i)\n",
    "    knn.fit(X_train,y_train)\n",
    "    pred_i = knn.predict(X_test)\n",
    "    error_rate.append(np.mean(pred_i != y_test))"
   ]
  },
  {
   "cell_type": "code",
<<<<<<< HEAD
   "execution_count": 50,
=======
   "execution_count": 28,
>>>>>>> 462e300dbcb4cf0751f6b76a297dabc18c342638
   "metadata": {},
   "outputs": [
    {
     "data": {
      "text/plain": [
       "Text(0, 0.5, 'Error Rate')"
      ]
     },
<<<<<<< HEAD
     "execution_count": 50,
=======
     "execution_count": 28,
>>>>>>> 462e300dbcb4cf0751f6b76a297dabc18c342638
     "metadata": {},
     "output_type": "execute_result"
    },
    {
     "data": {
<<<<<<< HEAD
      "image/png": "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",
      "text/plain": [
       "<Figure size 1000x600 with 1 Axes>"
      ]
     },
     "metadata": {},
=======
      "image/png": "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\n",
      "text/plain": [
       "<Figure size 720x432 with 1 Axes>"
      ]
     },
     "metadata": {
      "needs_background": "light"
     },
>>>>>>> 462e300dbcb4cf0751f6b76a297dabc18c342638
     "output_type": "display_data"
    }
   ],
   "source": [
    "plt.figure(figsize=(10,6))\n",
    "plt.plot(range(1,40),error_rate,color='blue', linestyle='dashed', marker='o',\n",
<<<<<<< HEAD
    "        markerfacecolor='red', markersize=10)\n",
=======
    "         markerfacecolor='red', markersize=10)\n",
>>>>>>> 462e300dbcb4cf0751f6b76a297dabc18c342638
    "plt.title('Error Rate vs. K Value')\n",
    "plt.xlabel('K')\n",
    "plt.ylabel('Error Rate')"
   ]
  },
  {
   "cell_type": "code",
<<<<<<< HEAD
   "execution_count": 51,
=======
   "execution_count": 29,
>>>>>>> 462e300dbcb4cf0751f6b76a297dabc18c342638
   "metadata": {},
   "outputs": [],
   "source": [
    "knn = KNeighborsClassifier(n_neighbors=11)"
   ]
  },
  {
   "cell_type": "code",
<<<<<<< HEAD
   "execution_count": 52,
=======
   "execution_count": 30,
>>>>>>> 462e300dbcb4cf0751f6b76a297dabc18c342638
   "metadata": {},
   "outputs": [
    {
     "data": {
<<<<<<< HEAD
      "text/html": [
       "<style>#sk-container-id-4 {\n",
       "  /* Definition of color scheme common for light and dark mode */\n",
       "  --sklearn-color-text: black;\n",
       "  --sklearn-color-line: gray;\n",
       "  /* Definition of color scheme for unfitted estimators */\n",
       "  --sklearn-color-unfitted-level-0: #fff5e6;\n",
       "  --sklearn-color-unfitted-level-1: #f6e4d2;\n",
       "  --sklearn-color-unfitted-level-2: #ffe0b3;\n",
       "  --sklearn-color-unfitted-level-3: chocolate;\n",
       "  /* Definition of color scheme for fitted estimators */\n",
       "  --sklearn-color-fitted-level-0: #f0f8ff;\n",
       "  --sklearn-color-fitted-level-1: #d4ebff;\n",
       "  --sklearn-color-fitted-level-2: #b3dbfd;\n",
       "  --sklearn-color-fitted-level-3: cornflowerblue;\n",
       "\n",
       "  /* Specific color for light theme */\n",
       "  --sklearn-color-text-on-default-background: var(--sg-text-color, var(--theme-code-foreground, var(--jp-content-font-color1, black)));\n",
       "  --sklearn-color-background: var(--sg-background-color, var(--theme-background, var(--jp-layout-color0, white)));\n",
       "  --sklearn-color-border-box: var(--sg-text-color, var(--theme-code-foreground, var(--jp-content-font-color1, black)));\n",
       "  --sklearn-color-icon: #696969;\n",
       "\n",
       "  @media (prefers-color-scheme: dark) {\n",
       "    /* Redefinition of color scheme for dark theme */\n",
       "    --sklearn-color-text-on-default-background: var(--sg-text-color, var(--theme-code-foreground, var(--jp-content-font-color1, white)));\n",
       "    --sklearn-color-background: var(--sg-background-color, var(--theme-background, var(--jp-layout-color0, #111)));\n",
       "    --sklearn-color-border-box: var(--sg-text-color, var(--theme-code-foreground, var(--jp-content-font-color1, white)));\n",
       "    --sklearn-color-icon: #878787;\n",
       "  }\n",
       "}\n",
       "\n",
       "#sk-container-id-4 {\n",
       "  color: var(--sklearn-color-text);\n",
       "}\n",
       "\n",
       "#sk-container-id-4 pre {\n",
       "  padding: 0;\n",
       "}\n",
       "\n",
       "#sk-container-id-4 input.sk-hidden--visually {\n",
       "  border: 0;\n",
       "  clip: rect(1px 1px 1px 1px);\n",
       "  clip: rect(1px, 1px, 1px, 1px);\n",
       "  height: 1px;\n",
       "  margin: -1px;\n",
       "  overflow: hidden;\n",
       "  padding: 0;\n",
       "  position: absolute;\n",
       "  width: 1px;\n",
       "}\n",
       "\n",
       "#sk-container-id-4 div.sk-dashed-wrapped {\n",
       "  border: 1px dashed var(--sklearn-color-line);\n",
       "  margin: 0 0.4em 0.5em 0.4em;\n",
       "  box-sizing: border-box;\n",
       "  padding-bottom: 0.4em;\n",
       "  background-color: var(--sklearn-color-background);\n",
       "}\n",
       "\n",
       "#sk-container-id-4 div.sk-container {\n",
       "  /* jupyter's `normalize.less` sets `[hidden] { display: none; }`\n",
       "     but bootstrap.min.css set `[hidden] { display: none !important; }`\n",
       "     so we also need the `!important` here to be able to override the\n",
       "     default hidden behavior on the sphinx rendered scikit-learn.org.\n",
       "     See: https://github.com/scikit-learn/scikit-learn/issues/21755 */\n",
       "  display: inline-block !important;\n",
       "  position: relative;\n",
       "}\n",
       "\n",
       "#sk-container-id-4 div.sk-text-repr-fallback {\n",
       "  display: none;\n",
       "}\n",
       "\n",
       "div.sk-parallel-item,\n",
       "div.sk-serial,\n",
       "div.sk-item {\n",
       "  /* draw centered vertical line to link estimators */\n",
       "  background-image: linear-gradient(var(--sklearn-color-text-on-default-background), var(--sklearn-color-text-on-default-background));\n",
       "  background-size: 2px 100%;\n",
       "  background-repeat: no-repeat;\n",
       "  background-position: center center;\n",
       "}\n",
       "\n",
       "/* Parallel-specific style estimator block */\n",
       "\n",
       "#sk-container-id-4 div.sk-parallel-item::after {\n",
       "  content: \"\";\n",
       "  width: 100%;\n",
       "  border-bottom: 2px solid var(--sklearn-color-text-on-default-background);\n",
       "  flex-grow: 1;\n",
       "}\n",
       "\n",
       "#sk-container-id-4 div.sk-parallel {\n",
       "  display: flex;\n",
       "  align-items: stretch;\n",
       "  justify-content: center;\n",
       "  background-color: var(--sklearn-color-background);\n",
       "  position: relative;\n",
       "}\n",
       "\n",
       "#sk-container-id-4 div.sk-parallel-item {\n",
       "  display: flex;\n",
       "  flex-direction: column;\n",
       "}\n",
       "\n",
       "#sk-container-id-4 div.sk-parallel-item:first-child::after {\n",
       "  align-self: flex-end;\n",
       "  width: 50%;\n",
       "}\n",
       "\n",
       "#sk-container-id-4 div.sk-parallel-item:last-child::after {\n",
       "  align-self: flex-start;\n",
       "  width: 50%;\n",
       "}\n",
       "\n",
       "#sk-container-id-4 div.sk-parallel-item:only-child::after {\n",
       "  width: 0;\n",
       "}\n",
       "\n",
       "/* Serial-specific style estimator block */\n",
       "\n",
       "#sk-container-id-4 div.sk-serial {\n",
       "  display: flex;\n",
       "  flex-direction: column;\n",
       "  align-items: center;\n",
       "  background-color: var(--sklearn-color-background);\n",
       "  padding-right: 1em;\n",
       "  padding-left: 1em;\n",
       "}\n",
       "\n",
       "\n",
       "/* Toggleable style: style used for estimator/Pipeline/ColumnTransformer box that is\n",
       "clickable and can be expanded/collapsed.\n",
       "- Pipeline and ColumnTransformer use this feature and define the default style\n",
       "- Estimators will overwrite some part of the style using the `sk-estimator` class\n",
       "*/\n",
       "\n",
       "/* Pipeline and ColumnTransformer style (default) */\n",
       "\n",
       "#sk-container-id-4 div.sk-toggleable {\n",
       "  /* Default theme specific background. It is overwritten whether we have a\n",
       "  specific estimator or a Pipeline/ColumnTransformer */\n",
       "  background-color: var(--sklearn-color-background);\n",
       "}\n",
       "\n",
       "/* Toggleable label */\n",
       "#sk-container-id-4 label.sk-toggleable__label {\n",
       "  cursor: pointer;\n",
       "  display: block;\n",
       "  width: 100%;\n",
       "  margin-bottom: 0;\n",
       "  padding: 0.5em;\n",
       "  box-sizing: border-box;\n",
       "  text-align: center;\n",
       "}\n",
       "\n",
       "#sk-container-id-4 label.sk-toggleable__label-arrow:before {\n",
       "  /* Arrow on the left of the label */\n",
       "  content: \"▸\";\n",
       "  float: left;\n",
       "  margin-right: 0.25em;\n",
       "  color: var(--sklearn-color-icon);\n",
       "}\n",
       "\n",
       "#sk-container-id-4 label.sk-toggleable__label-arrow:hover:before {\n",
       "  color: var(--sklearn-color-text);\n",
       "}\n",
       "\n",
       "/* Toggleable content - dropdown */\n",
       "\n",
       "#sk-container-id-4 div.sk-toggleable__content {\n",
       "  max-height: 0;\n",
       "  max-width: 0;\n",
       "  overflow: hidden;\n",
       "  text-align: left;\n",
       "  /* unfitted */\n",
       "  background-color: var(--sklearn-color-unfitted-level-0);\n",
       "}\n",
       "\n",
       "#sk-container-id-4 div.sk-toggleable__content.fitted {\n",
       "  /* fitted */\n",
       "  background-color: var(--sklearn-color-fitted-level-0);\n",
       "}\n",
       "\n",
       "#sk-container-id-4 div.sk-toggleable__content pre {\n",
       "  margin: 0.2em;\n",
       "  border-radius: 0.25em;\n",
       "  color: var(--sklearn-color-text);\n",
       "  /* unfitted */\n",
       "  background-color: var(--sklearn-color-unfitted-level-0);\n",
       "}\n",
       "\n",
       "#sk-container-id-4 div.sk-toggleable__content.fitted pre {\n",
       "  /* unfitted */\n",
       "  background-color: var(--sklearn-color-fitted-level-0);\n",
       "}\n",
       "\n",
       "#sk-container-id-4 input.sk-toggleable__control:checked~div.sk-toggleable__content {\n",
       "  /* Expand drop-down */\n",
       "  max-height: 200px;\n",
       "  max-width: 100%;\n",
       "  overflow: auto;\n",
       "}\n",
       "\n",
       "#sk-container-id-4 input.sk-toggleable__control:checked~label.sk-toggleable__label-arrow:before {\n",
       "  content: \"▾\";\n",
       "}\n",
       "\n",
       "/* Pipeline/ColumnTransformer-specific style */\n",
       "\n",
       "#sk-container-id-4 div.sk-label input.sk-toggleable__control:checked~label.sk-toggleable__label {\n",
       "  color: var(--sklearn-color-text);\n",
       "  background-color: var(--sklearn-color-unfitted-level-2);\n",
       "}\n",
       "\n",
       "#sk-container-id-4 div.sk-label.fitted input.sk-toggleable__control:checked~label.sk-toggleable__label {\n",
       "  background-color: var(--sklearn-color-fitted-level-2);\n",
       "}\n",
       "\n",
       "/* Estimator-specific style */\n",
       "\n",
       "/* Colorize estimator box */\n",
       "#sk-container-id-4 div.sk-estimator input.sk-toggleable__control:checked~label.sk-toggleable__label {\n",
       "  /* unfitted */\n",
       "  background-color: var(--sklearn-color-unfitted-level-2);\n",
       "}\n",
       "\n",
       "#sk-container-id-4 div.sk-estimator.fitted input.sk-toggleable__control:checked~label.sk-toggleable__label {\n",
       "  /* fitted */\n",
       "  background-color: var(--sklearn-color-fitted-level-2);\n",
       "}\n",
       "\n",
       "#sk-container-id-4 div.sk-label label.sk-toggleable__label,\n",
       "#sk-container-id-4 div.sk-label label {\n",
       "  /* The background is the default theme color */\n",
       "  color: var(--sklearn-color-text-on-default-background);\n",
       "}\n",
       "\n",
       "/* On hover, darken the color of the background */\n",
       "#sk-container-id-4 div.sk-label:hover label.sk-toggleable__label {\n",
       "  color: var(--sklearn-color-text);\n",
       "  background-color: var(--sklearn-color-unfitted-level-2);\n",
       "}\n",
       "\n",
       "/* Label box, darken color on hover, fitted */\n",
       "#sk-container-id-4 div.sk-label.fitted:hover label.sk-toggleable__label.fitted {\n",
       "  color: var(--sklearn-color-text);\n",
       "  background-color: var(--sklearn-color-fitted-level-2);\n",
       "}\n",
       "\n",
       "/* Estimator label */\n",
       "\n",
       "#sk-container-id-4 div.sk-label label {\n",
       "  font-family: monospace;\n",
       "  font-weight: bold;\n",
       "  display: inline-block;\n",
       "  line-height: 1.2em;\n",
       "}\n",
       "\n",
       "#sk-container-id-4 div.sk-label-container {\n",
       "  text-align: center;\n",
       "}\n",
       "\n",
       "/* Estimator-specific */\n",
       "#sk-container-id-4 div.sk-estimator {\n",
       "  font-family: monospace;\n",
       "  border: 1px dotted var(--sklearn-color-border-box);\n",
       "  border-radius: 0.25em;\n",
       "  box-sizing: border-box;\n",
       "  margin-bottom: 0.5em;\n",
       "  /* unfitted */\n",
       "  background-color: var(--sklearn-color-unfitted-level-0);\n",
       "}\n",
       "\n",
       "#sk-container-id-4 div.sk-estimator.fitted {\n",
       "  /* fitted */\n",
       "  background-color: var(--sklearn-color-fitted-level-0);\n",
       "}\n",
       "\n",
       "/* on hover */\n",
       "#sk-container-id-4 div.sk-estimator:hover {\n",
       "  /* unfitted */\n",
       "  background-color: var(--sklearn-color-unfitted-level-2);\n",
       "}\n",
       "\n",
       "#sk-container-id-4 div.sk-estimator.fitted:hover {\n",
       "  /* fitted */\n",
       "  background-color: var(--sklearn-color-fitted-level-2);\n",
       "}\n",
       "\n",
       "/* Specification for estimator info (e.g. \"i\" and \"?\") */\n",
       "\n",
       "/* Common style for \"i\" and \"?\" */\n",
       "\n",
       ".sk-estimator-doc-link,\n",
       "a:link.sk-estimator-doc-link,\n",
       "a:visited.sk-estimator-doc-link {\n",
       "  float: right;\n",
       "  font-size: smaller;\n",
       "  line-height: 1em;\n",
       "  font-family: monospace;\n",
       "  background-color: var(--sklearn-color-background);\n",
       "  border-radius: 1em;\n",
       "  height: 1em;\n",
       "  width: 1em;\n",
       "  text-decoration: none !important;\n",
       "  margin-left: 1ex;\n",
       "  /* unfitted */\n",
       "  border: var(--sklearn-color-unfitted-level-1) 1pt solid;\n",
       "  color: var(--sklearn-color-unfitted-level-1);\n",
       "}\n",
       "\n",
       ".sk-estimator-doc-link.fitted,\n",
       "a:link.sk-estimator-doc-link.fitted,\n",
       "a:visited.sk-estimator-doc-link.fitted {\n",
       "  /* fitted */\n",
       "  border: var(--sklearn-color-fitted-level-1) 1pt solid;\n",
       "  color: var(--sklearn-color-fitted-level-1);\n",
       "}\n",
       "\n",
       "/* On hover */\n",
       "div.sk-estimator:hover .sk-estimator-doc-link:hover,\n",
       ".sk-estimator-doc-link:hover,\n",
       "div.sk-label-container:hover .sk-estimator-doc-link:hover,\n",
       ".sk-estimator-doc-link:hover {\n",
       "  /* unfitted */\n",
       "  background-color: var(--sklearn-color-unfitted-level-3);\n",
       "  color: var(--sklearn-color-background);\n",
       "  text-decoration: none;\n",
       "}\n",
       "\n",
       "div.sk-estimator.fitted:hover .sk-estimator-doc-link.fitted:hover,\n",
       ".sk-estimator-doc-link.fitted:hover,\n",
       "div.sk-label-container:hover .sk-estimator-doc-link.fitted:hover,\n",
       ".sk-estimator-doc-link.fitted:hover {\n",
       "  /* fitted */\n",
       "  background-color: var(--sklearn-color-fitted-level-3);\n",
       "  color: var(--sklearn-color-background);\n",
       "  text-decoration: none;\n",
       "}\n",
       "\n",
       "/* Span, style for the box shown on hovering the info icon */\n",
       ".sk-estimator-doc-link span {\n",
       "  display: none;\n",
       "  z-index: 9999;\n",
       "  position: relative;\n",
       "  font-weight: normal;\n",
       "  right: .2ex;\n",
       "  padding: .5ex;\n",
       "  margin: .5ex;\n",
       "  width: min-content;\n",
       "  min-width: 20ex;\n",
       "  max-width: 50ex;\n",
       "  color: var(--sklearn-color-text);\n",
       "  box-shadow: 2pt 2pt 4pt #999;\n",
       "  /* unfitted */\n",
       "  background: var(--sklearn-color-unfitted-level-0);\n",
       "  border: .5pt solid var(--sklearn-color-unfitted-level-3);\n",
       "}\n",
       "\n",
       ".sk-estimator-doc-link.fitted span {\n",
       "  /* fitted */\n",
       "  background: var(--sklearn-color-fitted-level-0);\n",
       "  border: var(--sklearn-color-fitted-level-3);\n",
       "}\n",
       "\n",
       ".sk-estimator-doc-link:hover span {\n",
       "  display: block;\n",
       "}\n",
       "\n",
       "/* \"?\"-specific style due to the `<a>` HTML tag */\n",
       "\n",
       "#sk-container-id-4 a.estimator_doc_link {\n",
       "  float: right;\n",
       "  font-size: 1rem;\n",
       "  line-height: 1em;\n",
       "  font-family: monospace;\n",
       "  background-color: var(--sklearn-color-background);\n",
       "  border-radius: 1rem;\n",
       "  height: 1rem;\n",
       "  width: 1rem;\n",
       "  text-decoration: none;\n",
       "  /* unfitted */\n",
       "  color: var(--sklearn-color-unfitted-level-1);\n",
       "  border: var(--sklearn-color-unfitted-level-1) 1pt solid;\n",
       "}\n",
       "\n",
       "#sk-container-id-4 a.estimator_doc_link.fitted {\n",
       "  /* fitted */\n",
       "  border: var(--sklearn-color-fitted-level-1) 1pt solid;\n",
       "  color: var(--sklearn-color-fitted-level-1);\n",
       "}\n",
       "\n",
       "/* On hover */\n",
       "#sk-container-id-4 a.estimator_doc_link:hover {\n",
       "  /* unfitted */\n",
       "  background-color: var(--sklearn-color-unfitted-level-3);\n",
       "  color: var(--sklearn-color-background);\n",
       "  text-decoration: none;\n",
       "}\n",
       "\n",
       "#sk-container-id-4 a.estimator_doc_link.fitted:hover {\n",
       "  /* fitted */\n",
       "  background-color: var(--sklearn-color-fitted-level-3);\n",
       "}\n",
       "</style><div id=\"sk-container-id-4\" class=\"sk-top-container\"><div class=\"sk-text-repr-fallback\"><pre>KNeighborsClassifier(n_neighbors=11)</pre><b>In a Jupyter environment, please rerun this cell to show the HTML representation or trust the notebook. <br />On GitHub, the HTML representation is unable to render, please try loading this page with nbviewer.org.</b></div><div class=\"sk-container\" hidden><div class=\"sk-item\"><div class=\"sk-estimator fitted sk-toggleable\"><input class=\"sk-toggleable__control sk-hidden--visually\" id=\"sk-estimator-id-4\" type=\"checkbox\" checked><label for=\"sk-estimator-id-4\" class=\"sk-toggleable__label fitted sk-toggleable__label-arrow fitted\">&nbsp;&nbsp;KNeighborsClassifier<a class=\"sk-estimator-doc-link fitted\" rel=\"noreferrer\" target=\"_blank\" href=\"https://scikit-learn.org/1.5/modules/generated/sklearn.neighbors.KNeighborsClassifier.html\">?<span>Documentation for KNeighborsClassifier</span></a><span class=\"sk-estimator-doc-link fitted\">i<span>Fitted</span></span></label><div class=\"sk-toggleable__content fitted\"><pre>KNeighborsClassifier(n_neighbors=11)</pre></div> </div></div></div></div>"
      ],
=======
>>>>>>> 462e300dbcb4cf0751f6b76a297dabc18c342638
      "text/plain": [
       "KNeighborsClassifier(n_neighbors=11)"
      ]
     },
<<<<<<< HEAD
     "execution_count": 52,
=======
     "execution_count": 30,
>>>>>>> 462e300dbcb4cf0751f6b76a297dabc18c342638
     "metadata": {},
     "output_type": "execute_result"
    }
   ],
   "source": [
    "knn.fit(X_train, y_train)"
   ]
  },
  {
   "cell_type": "code",
<<<<<<< HEAD
   "execution_count": 53,
=======
   "execution_count": 31,
>>>>>>> 462e300dbcb4cf0751f6b76a297dabc18c342638
   "metadata": {},
   "outputs": [],
   "source": [
    "y_pred = knn.predict(X_test)"
   ]
  },
  {
   "cell_type": "code",
<<<<<<< HEAD
   "execution_count": 54,
=======
   "execution_count": 33,
>>>>>>> 462e300dbcb4cf0751f6b76a297dabc18c342638
   "metadata": {},
   "outputs": [
    {
     "data": {
      "text/plain": [
       "0.9342723004694836"
      ]
     },
<<<<<<< HEAD
     "execution_count": 54,
=======
     "execution_count": 33,
>>>>>>> 462e300dbcb4cf0751f6b76a297dabc18c342638
     "metadata": {},
     "output_type": "execute_result"
    }
   ],
   "source": [
    "knn.score(X_train, y_train)"
   ]
  },
  {
   "cell_type": "code",
<<<<<<< HEAD
   "execution_count": 55,
=======
   "execution_count": 34,
>>>>>>> 462e300dbcb4cf0751f6b76a297dabc18c342638
   "metadata": {},
   "outputs": [
    {
     "data": {
      "text/plain": [
       "0.9790209790209791"
      ]
     },
<<<<<<< HEAD
     "execution_count": 55,
=======
     "execution_count": 34,
>>>>>>> 462e300dbcb4cf0751f6b76a297dabc18c342638
     "metadata": {},
     "output_type": "execute_result"
    }
   ],
   "source": [
    "knn.score(X_test, y_test)"
   ]
  },
  {
   "cell_type": "markdown",
   "metadata": {},
   "source": [
    "- [x] What is KNN?\n",
    "- [x] Breast Cancer Dataset\n",
    "- [x] How to use optimal K?"
   ]
  }
 ],
 "metadata": {
  "kernelspec": {
   "display_name": "Python 3",
   "language": "python",
   "name": "python3"
  },
  "language_info": {
   "codemirror_mode": {
    "name": "ipython",
    "version": 3
   },
   "file_extension": ".py",
   "mimetype": "text/x-python",
   "name": "python",
   "nbconvert_exporter": "python",
   "pygments_lexer": "ipython3",
<<<<<<< HEAD
   "version": "3.12.0"
=======
   "version": "3.8.8"
>>>>>>> 462e300dbcb4cf0751f6b76a297dabc18c342638
  }
 },
 "nbformat": 4,
 "nbformat_minor": 2
}
