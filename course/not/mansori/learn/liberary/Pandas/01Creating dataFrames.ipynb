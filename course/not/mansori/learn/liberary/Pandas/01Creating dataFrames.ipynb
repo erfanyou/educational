{
 "cells": [
  {
   "cell_type": "markdown",
   "id": "fc411259-bda2-4310-b5eb-0c4dfaeec7d1",
   "metadata": {},
   "source": [
    "\n",
    "<div dir=\"rtl\"> \n",
    "\n",
    "# لازمه های داده مرتب\n",
    "+ داده های ستون شامل یک نوع متغیر باشد\n",
    "+ داده های سطری داده های یک مشاهده یا واقعه باشد\n",
    "+ هر دسته مشاهدات یک جدول را تشکیل می دهد (نام گزاری بر جدول)\n",
    "\n",
    "</div>"
   ]
  },
  {
   "cell_type": "code",
   "execution_count": 1,
   "id": "2a386164-2d56-4550-88ec-8255b9faf57b",
   "metadata": {},
   "outputs": [],
   "source": [
    "import pandas as pd"
   ]
  },
  {
   "cell_type": "code",
   "execution_count": 2,
   "id": "91c933d5-70bd-4a24-9ef6-c4aff244ce76",
   "metadata": {},
   "outputs": [],
   "source": [
    "my_list = [1,3,5,3,2]"
   ]
  },
  {
   "cell_type": "code",
   "execution_count": 3,
   "id": "07d8d5ac-92f4-49ed-ab2b-5fc2ea0f0bfe",
   "metadata": {},
   "outputs": [
    {
     "data": {
      "text/plain": [
       "3"
      ]
     },
     "execution_count": 3,
     "metadata": {},
     "output_type": "execute_result"
    }
   ],
   "source": [
    "my_list[1]"
   ]
  },
  {
   "cell_type": "code",
   "execution_count": 4,
   "id": "fad2d65b-d3eb-4674-bbfd-a3e7410eefef",
   "metadata": {},
   "outputs": [],
   "source": [
    "first_series= pd.Series(my_list, index = [12431,12451,1345,1346,347458], name = \"Family\")"
   ]
  },
  {
   "cell_type": "code",
   "execution_count": 5,
   "id": "1aa98fbf-f02f-4c33-9273-d635e9c08dd3",
   "metadata": {},
   "outputs": [
    {
     "data": {
      "text/plain": [
       "12431     1\n",
       "12451     3\n",
       "1345      5\n",
       "1346      3\n",
       "347458    2\n",
       "Name: Family, dtype: int64"
      ]
     },
     "execution_count": 5,
     "metadata": {},
     "output_type": "execute_result"
    }
   ],
   "source": [
    "first_series"
   ]
  },
  {
   "cell_type": "code",
   "execution_count": 6,
   "id": "8a963d51-42df-43fb-99ad-ce462971c428",
   "metadata": {},
   "outputs": [
    {
     "data": {
      "text/plain": [
       "Index([12431, 12451, 1345, 1346, 347458], dtype='int64')"
      ]
     },
     "execution_count": 6,
     "metadata": {},
     "output_type": "execute_result"
    }
   ],
   "source": [
    "first_series.index"
   ]
  },
  {
   "cell_type": "code",
   "execution_count": 7,
   "id": "7a37bb00-bc7a-42ad-a536-e01df3f32d84",
   "metadata": {},
   "outputs": [
    {
     "data": {
      "text/plain": [
       "array([1, 3, 5, 3, 2], dtype=int64)"
      ]
     },
     "execution_count": 7,
     "metadata": {},
     "output_type": "execute_result"
    }
   ],
   "source": [
    "first_series.values"
   ]
  },
  {
   "cell_type": "code",
   "execution_count": 8,
   "id": "67f3addf-fa27-40af-ac2a-d47a5fd3b0d9",
   "metadata": {},
   "outputs": [
    {
     "data": {
      "text/plain": [
       "12431    1\n",
       "12451    3\n",
       "Name: Family, dtype: int64"
      ]
     },
     "execution_count": 8,
     "metadata": {},
     "output_type": "execute_result"
    }
   ],
   "source": [
    "first_series.head(2)"
   ]
  },
  {
   "cell_type": "code",
   "execution_count": 9,
   "id": "be7414c2-d6ef-4261-8073-20b4025468d4",
   "metadata": {},
   "outputs": [],
   "source": [
    "ages= [12,13,14,16,12]\n",
    "height= [165,145,170,149,169]\n",
    "weight= [45,23,35,60,32]"
   ]
  },
  {
   "cell_type": "code",
   "execution_count": 10,
   "id": "484fc968-fcb3-428e-8207-787b8e81b3b7",
   "metadata": {},
   "outputs": [],
   "source": [
    "data_dict = dict(zip([\"a\" , \"b\", \"c\"] , [ages, height, weight]))"
   ]
  },
  {
   "cell_type": "code",
   "execution_count": 11,
   "id": "a1bbb6c4-13ce-4d09-92dd-3344b03a8f3a",
   "metadata": {},
   "outputs": [
    {
     "data": {
      "text/plain": [
       "{'a': [12, 13, 14, 16, 12],\n",
       " 'b': [165, 145, 170, 149, 169],\n",
       " 'c': [45, 23, 35, 60, 32]}"
      ]
     },
     "execution_count": 11,
     "metadata": {},
     "output_type": "execute_result"
    }
   ],
   "source": [
    "data_dict"
   ]
  },
  {
   "cell_type": "code",
   "execution_count": 12,
   "id": "33f80cd0-d5a7-4d35-abc0-8349da43df1f",
   "metadata": {},
   "outputs": [],
   "source": [
    "df = pd.DataFrame(data_dict, )"
   ]
  },
  {
   "cell_type": "code",
   "execution_count": 13,
   "id": "ef551192-c788-4172-a4d5-593f578bb81d",
   "metadata": {},
   "outputs": [
    {
     "data": {
      "text/html": [
       "<div>\n",
       "<style scoped>\n",
       "    .dataframe tbody tr th:only-of-type {\n",
       "        vertical-align: middle;\n",
       "    }\n",
       "\n",
       "    .dataframe tbody tr th {\n",
       "        vertical-align: top;\n",
       "    }\n",
       "\n",
       "    .dataframe thead th {\n",
       "        text-align: right;\n",
       "    }\n",
       "</style>\n",
       "<table border=\"1\" class=\"dataframe\">\n",
       "  <thead>\n",
       "    <tr style=\"text-align: right;\">\n",
       "      <th></th>\n",
       "      <th>a</th>\n",
       "      <th>b</th>\n",
       "      <th>c</th>\n",
       "    </tr>\n",
       "  </thead>\n",
       "  <tbody>\n",
       "    <tr>\n",
       "      <th>0</th>\n",
       "      <td>12</td>\n",
       "      <td>165</td>\n",
       "      <td>45</td>\n",
       "    </tr>\n",
       "    <tr>\n",
       "      <th>1</th>\n",
       "      <td>13</td>\n",
       "      <td>145</td>\n",
       "      <td>23</td>\n",
       "    </tr>\n",
       "    <tr>\n",
       "      <th>2</th>\n",
       "      <td>14</td>\n",
       "      <td>170</td>\n",
       "      <td>35</td>\n",
       "    </tr>\n",
       "    <tr>\n",
       "      <th>3</th>\n",
       "      <td>16</td>\n",
       "      <td>149</td>\n",
       "      <td>60</td>\n",
       "    </tr>\n",
       "    <tr>\n",
       "      <th>4</th>\n",
       "      <td>12</td>\n",
       "      <td>169</td>\n",
       "      <td>32</td>\n",
       "    </tr>\n",
       "  </tbody>\n",
       "</table>\n",
       "</div>"
      ],
      "text/plain": [
       "    a    b   c\n",
       "0  12  165  45\n",
       "1  13  145  23\n",
       "2  14  170  35\n",
       "3  16  149  60\n",
       "4  12  169  32"
      ]
     },
     "execution_count": 13,
     "metadata": {},
     "output_type": "execute_result"
    }
   ],
   "source": [
    "df"
   ]
  },
  {
   "cell_type": "code",
   "execution_count": 14,
   "id": "a833d953-4843-46d7-b49b-db4d868d38c8",
   "metadata": {},
   "outputs": [
    {
     "data": {
      "text/plain": [
       "pandas.core.series.Series"
      ]
     },
     "execution_count": 14,
     "metadata": {},
     "output_type": "execute_result"
    }
   ],
   "source": [
    "type (df['a'])"
   ]
  },
  {
   "cell_type": "code",
   "execution_count": 17,
   "id": "52a0740f-f416-4621-b8c1-4a528b5dd6de",
   "metadata": {},
   "outputs": [],
   "source": [
    "observation_list = []\n",
    "\n",
    "for i in range(len(ages)) :\n",
    "    this_list = [ages[i], height[i], weight[i]]\n",
    "    observation_list.append(this_list)\n"
   ]
  },
  {
   "cell_type": "code",
   "execution_count": 18,
   "id": "448ee12d-9a08-4470-bb4a-52af7a0235c6",
   "metadata": {},
   "outputs": [
    {
     "data": {
      "text/plain": [
       "[[12, 165, 45], [13, 145, 23], [14, 170, 35], [16, 149, 60], [12, 169, 32]]"
      ]
     },
     "execution_count": 18,
     "metadata": {},
     "output_type": "execute_result"
    }
   ],
   "source": [
    "observation_list"
   ]
  },
  {
   "cell_type": "code",
   "execution_count": 19,
   "id": "8231df39-e985-47d3-a7de-4efcd7725274",
   "metadata": {},
   "outputs": [],
   "source": [
    "df2 = pd.DataFrame(observation_list, columns=['a','b','c'])"
   ]
  },
  {
   "cell_type": "code",
   "execution_count": 20,
   "id": "66b787ff-b3c3-41d7-bb1c-7f1faf8aa60b",
   "metadata": {},
   "outputs": [
    {
     "data": {
      "text/html": [
       "<div>\n",
       "<style scoped>\n",
       "    .dataframe tbody tr th:only-of-type {\n",
       "        vertical-align: middle;\n",
       "    }\n",
       "\n",
       "    .dataframe tbody tr th {\n",
       "        vertical-align: top;\n",
       "    }\n",
       "\n",
       "    .dataframe thead th {\n",
       "        text-align: right;\n",
       "    }\n",
       "</style>\n",
       "<table border=\"1\" class=\"dataframe\">\n",
       "  <thead>\n",
       "    <tr style=\"text-align: right;\">\n",
       "      <th></th>\n",
       "      <th>a</th>\n",
       "      <th>b</th>\n",
       "      <th>c</th>\n",
       "    </tr>\n",
       "  </thead>\n",
       "  <tbody>\n",
       "    <tr>\n",
       "      <th>0</th>\n",
       "      <td>12</td>\n",
       "      <td>165</td>\n",
       "      <td>45</td>\n",
       "    </tr>\n",
       "    <tr>\n",
       "      <th>1</th>\n",
       "      <td>13</td>\n",
       "      <td>145</td>\n",
       "      <td>23</td>\n",
       "    </tr>\n",
       "    <tr>\n",
       "      <th>2</th>\n",
       "      <td>14</td>\n",
       "      <td>170</td>\n",
       "      <td>35</td>\n",
       "    </tr>\n",
       "    <tr>\n",
       "      <th>3</th>\n",
       "      <td>16</td>\n",
       "      <td>149</td>\n",
       "      <td>60</td>\n",
       "    </tr>\n",
       "    <tr>\n",
       "      <th>4</th>\n",
       "      <td>12</td>\n",
       "      <td>169</td>\n",
       "      <td>32</td>\n",
       "    </tr>\n",
       "  </tbody>\n",
       "</table>\n",
       "</div>"
      ],
      "text/plain": [
       "    a    b   c\n",
       "0  12  165  45\n",
       "1  13  145  23\n",
       "2  14  170  35\n",
       "3  16  149  60\n",
       "4  12  169  32"
      ]
     },
     "execution_count": 20,
     "metadata": {},
     "output_type": "execute_result"
    }
   ],
   "source": [
    "df2"
   ]
  },
  {
   "cell_type": "code",
   "execution_count": 24,
   "id": "6344058d-9ef2-468e-90ea-0b93c258385c",
   "metadata": {},
   "outputs": [],
   "source": [
    "multi_index = pd.MultiIndex.from_tuples([(\"A\" , 1),(\"A\" , 2),\n",
    "                                        (\"A\" , 3),(\"B\" , 1),\n",
    "                                        (\"B\" , 2),], names=[\"Class\", \"Rotbeh\"])"
   ]
  },
  {
   "cell_type": "code",
   "execution_count": 25,
   "id": "d8fa24a8-4939-496f-975b-34b6154671d9",
   "metadata": {},
   "outputs": [],
   "source": [
    "df3= pd.DataFrame(observation_list, columns=['a','b','c'] , index = multi_index)"
   ]
  },
  {
   "cell_type": "code",
   "execution_count": 26,
   "id": "7fc04ccb-ad47-4bba-bdd9-696c21fc24f1",
   "metadata": {},
   "outputs": [
    {
     "data": {
      "text/html": [
       "<div>\n",
       "<style scoped>\n",
       "    .dataframe tbody tr th:only-of-type {\n",
       "        vertical-align: middle;\n",
       "    }\n",
       "\n",
       "    .dataframe tbody tr th {\n",
       "        vertical-align: top;\n",
       "    }\n",
       "\n",
       "    .dataframe thead th {\n",
       "        text-align: right;\n",
       "    }\n",
       "</style>\n",
       "<table border=\"1\" class=\"dataframe\">\n",
       "  <thead>\n",
       "    <tr style=\"text-align: right;\">\n",
       "      <th></th>\n",
       "      <th></th>\n",
       "      <th>a</th>\n",
       "      <th>b</th>\n",
       "      <th>c</th>\n",
       "    </tr>\n",
       "    <tr>\n",
       "      <th>Class</th>\n",
       "      <th>Rotbeh</th>\n",
       "      <th></th>\n",
       "      <th></th>\n",
       "      <th></th>\n",
       "    </tr>\n",
       "  </thead>\n",
       "  <tbody>\n",
       "    <tr>\n",
       "      <th rowspan=\"3\" valign=\"top\">A</th>\n",
       "      <th>1</th>\n",
       "      <td>12</td>\n",
       "      <td>165</td>\n",
       "      <td>45</td>\n",
       "    </tr>\n",
       "    <tr>\n",
       "      <th>2</th>\n",
       "      <td>13</td>\n",
       "      <td>145</td>\n",
       "      <td>23</td>\n",
       "    </tr>\n",
       "    <tr>\n",
       "      <th>3</th>\n",
       "      <td>14</td>\n",
       "      <td>170</td>\n",
       "      <td>35</td>\n",
       "    </tr>\n",
       "    <tr>\n",
       "      <th rowspan=\"2\" valign=\"top\">B</th>\n",
       "      <th>1</th>\n",
       "      <td>16</td>\n",
       "      <td>149</td>\n",
       "      <td>60</td>\n",
       "    </tr>\n",
       "    <tr>\n",
       "      <th>2</th>\n",
       "      <td>12</td>\n",
       "      <td>169</td>\n",
       "      <td>32</td>\n",
       "    </tr>\n",
       "  </tbody>\n",
       "</table>\n",
       "</div>"
      ],
      "text/plain": [
       "               a    b   c\n",
       "Class Rotbeh             \n",
       "A     1       12  165  45\n",
       "      2       13  145  23\n",
       "      3       14  170  35\n",
       "B     1       16  149  60\n",
       "      2       12  169  32"
      ]
     },
     "execution_count": 26,
     "metadata": {},
     "output_type": "execute_result"
    }
   ],
   "source": [
    "df3"
   ]
  }
 ],
 "metadata": {
  "kernelspec": {
   "display_name": "Python 3",
   "language": "python",
   "name": "python3"
  },
  "language_info": {
   "codemirror_mode": {
    "name": "ipython",
    "version": 3
   },
   "file_extension": ".py",
   "mimetype": "text/x-python",
   "name": "python",
   "nbconvert_exporter": "python",
   "pygments_lexer": "ipython3",
   "version": "3.12.0"
  }
 },
 "nbformat": 4,
 "nbformat_minor": 5
}
