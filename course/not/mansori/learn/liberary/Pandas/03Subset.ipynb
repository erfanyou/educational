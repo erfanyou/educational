{
 "cells": [
  {
   "cell_type": "code",
   "execution_count": 2,
   "id": "dc851fc6-3a73-4e05-8235-d34950da3dc0",
   "metadata": {},
   "outputs": [],
   "source": [
    "import pandas as pd"
   ]
  },
  {
   "cell_type": "code",
   "execution_count": 3,
   "id": "b9a5fa86-3ece-402a-9e24-1cb7cf358733",
   "metadata": {},
   "outputs": [],
   "source": [
    "fa_cols = ['تاریخ',\n",
    " 'کیلومتر کارکرد',\n",
    " 'شماره شاسی',\n",
    " 'سازنده',\n",
    " 'Model',\n",
    " 'Type',\n",
    " 'قیمت بازار',\n",
    " 'قیمت کارخانه',\n",
    " 'توضیحات']\n",
    "en_cols = ['Date',\n",
    " 'Milage',\n",
    " 'VIN',\n",
    " 'Made',\n",
    " 'Model',\n",
    " 'Type',\n",
    " 'Price',\n",
    " 'Order',\n",
    " 'Explain']"
   ]
  },
  {
   "cell_type": "code",
   "execution_count": 4,
   "id": "2a103065-4829-494c-bee2-4e27a629d1b1",
   "metadata": {},
   "outputs": [],
   "source": [
    "cols_dict= dict(zip(fa_cols , en_cols))"
   ]
  },
  {
   "cell_type": "code",
   "execution_count": 5,
   "id": "90f0e9dc",
   "metadata": {},
   "outputs": [
    {
     "name": "stdout",
     "output_type": "stream",
     "text": [
      "f:\\JUPYTER\\notbook\\trainingn\\not\\mansori\\learn\\Pandas\n"
     ]
    }
   ],
   "source": [
    "import os\n",
    "print(os.getcwd())"
   ]
  },
  {
   "cell_type": "code",
   "execution_count": 11,
   "id": "b7f6c15b-3f14-4829-b7a2-84627c40696f",
   "metadata": {},
   "outputs": [
    {
     "ename": "FileNotFoundError",
     "evalue": "[Errno 2] No such file or directory: 'F:\\\\JUPYTER\\\\notbook\\\\trainingn\\\\csv\\\\mansori\\\\Cars_data\\\\Data\\\\mordad.xlsx'",
     "output_type": "error",
     "traceback": [
      "\u001b[1;31m---------------------------------------------------------------------------\u001b[0m",
      "\u001b[1;31mFileNotFoundError\u001b[0m                         Traceback (most recent call last)",
      "Cell \u001b[1;32mIn[11], line 1\u001b[0m\n\u001b[1;32m----> 1\u001b[0m df1 \u001b[38;5;241m=\u001b[39m \u001b[43mpd\u001b[49m\u001b[38;5;241;43m.\u001b[39;49m\u001b[43mread_excel\u001b[49m\u001b[43m(\u001b[49m\u001b[38;5;124;43mr\u001b[39;49m\u001b[38;5;124;43m'\u001b[39;49m\u001b[38;5;124;43mF:\u001b[39;49m\u001b[38;5;124;43m\\\u001b[39;49m\u001b[38;5;124;43mJUPYTER\u001b[39;49m\u001b[38;5;124;43m\\\u001b[39;49m\u001b[38;5;124;43mnotbook\u001b[39;49m\u001b[38;5;124;43m\\\u001b[39;49m\u001b[38;5;124;43mtrainingn\u001b[39;49m\u001b[38;5;124;43m\\\u001b[39;49m\u001b[38;5;124;43mcsv\u001b[39;49m\u001b[38;5;124;43m\\\u001b[39;49m\u001b[38;5;124;43mmansori\u001b[39;49m\u001b[38;5;124;43m\\\u001b[39;49m\u001b[38;5;124;43mCars_data\u001b[39;49m\u001b[38;5;124;43m\\\u001b[39;49m\u001b[38;5;124;43mData\u001b[39;49m\u001b[38;5;124;43m\\\u001b[39;49m\u001b[38;5;124;43mmordad.xlsx\u001b[39;49m\u001b[38;5;124;43m'\u001b[39;49m\u001b[43m)\u001b[49m\n\u001b[0;32m      2\u001b[0m df2 \u001b[38;5;241m=\u001b[39m pd\u001b[38;5;241m.\u001b[39mread_excel(\u001b[38;5;124mr\u001b[39m\u001b[38;5;124m'\u001b[39m\u001b[38;5;124mF:\u001b[39m\u001b[38;5;124m\\\u001b[39m\u001b[38;5;124mJUPYTER\u001b[39m\u001b[38;5;124m\\\u001b[39m\u001b[38;5;124mnotbook\u001b[39m\u001b[38;5;124m\\\u001b[39m\u001b[38;5;124mtrainingn\u001b[39m\u001b[38;5;124m\\\u001b[39m\u001b[38;5;124mcsv\u001b[39m\u001b[38;5;124m\\\u001b[39m\u001b[38;5;124mmansori\u001b[39m\u001b[38;5;124m\\\u001b[39m\u001b[38;5;124mCars_data\u001b[39m\u001b[38;5;124m\\\u001b[39m\u001b[38;5;124mData\u001b[39m\u001b[38;5;124m\\\u001b[39m\u001b[38;5;124mshahrivar.xlsx\u001b[39m\u001b[38;5;124m'\u001b[39m)\n\u001b[0;32m      3\u001b[0m df3 \u001b[38;5;241m=\u001b[39m pd\u001b[38;5;241m.\u001b[39mread_excel(\u001b[38;5;124mr\u001b[39m\u001b[38;5;124m'\u001b[39m\u001b[38;5;124mF:\u001b[39m\u001b[38;5;124m\\\u001b[39m\u001b[38;5;124mJUPYTER\u001b[39m\u001b[38;5;124m\\\u001b[39m\u001b[38;5;124mnotbook\u001b[39m\u001b[38;5;124m\\\u001b[39m\u001b[38;5;124mtrainingn\u001b[39m\u001b[38;5;124m\\\u001b[39m\u001b[38;5;124mcsv\u001b[39m\u001b[38;5;124m\\\u001b[39m\u001b[38;5;124mmansori\u001b[39m\u001b[38;5;124m\\\u001b[39m\u001b[38;5;124mCars_data\u001b[39m\u001b[38;5;124m\\\u001b[39m\u001b[38;5;124mData\u001b[39m\u001b[38;5;124m\\\u001b[39m\u001b[38;5;124mtir.xlsx\u001b[39m\u001b[38;5;124m'\u001b[39m)\n",
      "File \u001b[1;32mc:\\Users\\ASUS\\AppData\\Local\\Programs\\Python\\Python312\\Lib\\site-packages\\pandas\\io\\excel\\_base.py:495\u001b[0m, in \u001b[0;36mread_excel\u001b[1;34m(io, sheet_name, header, names, index_col, usecols, dtype, engine, converters, true_values, false_values, skiprows, nrows, na_values, keep_default_na, na_filter, verbose, parse_dates, date_parser, date_format, thousands, decimal, comment, skipfooter, storage_options, dtype_backend, engine_kwargs)\u001b[0m\n\u001b[0;32m    493\u001b[0m \u001b[38;5;28;01mif\u001b[39;00m \u001b[38;5;129;01mnot\u001b[39;00m \u001b[38;5;28misinstance\u001b[39m(io, ExcelFile):\n\u001b[0;32m    494\u001b[0m     should_close \u001b[38;5;241m=\u001b[39m \u001b[38;5;28;01mTrue\u001b[39;00m\n\u001b[1;32m--> 495\u001b[0m     io \u001b[38;5;241m=\u001b[39m \u001b[43mExcelFile\u001b[49m\u001b[43m(\u001b[49m\n\u001b[0;32m    496\u001b[0m \u001b[43m        \u001b[49m\u001b[43mio\u001b[49m\u001b[43m,\u001b[49m\n\u001b[0;32m    497\u001b[0m \u001b[43m        \u001b[49m\u001b[43mstorage_options\u001b[49m\u001b[38;5;241;43m=\u001b[39;49m\u001b[43mstorage_options\u001b[49m\u001b[43m,\u001b[49m\n\u001b[0;32m    498\u001b[0m \u001b[43m        \u001b[49m\u001b[43mengine\u001b[49m\u001b[38;5;241;43m=\u001b[39;49m\u001b[43mengine\u001b[49m\u001b[43m,\u001b[49m\n\u001b[0;32m    499\u001b[0m \u001b[43m        \u001b[49m\u001b[43mengine_kwargs\u001b[49m\u001b[38;5;241;43m=\u001b[39;49m\u001b[43mengine_kwargs\u001b[49m\u001b[43m,\u001b[49m\n\u001b[0;32m    500\u001b[0m \u001b[43m    \u001b[49m\u001b[43m)\u001b[49m\n\u001b[0;32m    501\u001b[0m \u001b[38;5;28;01melif\u001b[39;00m engine \u001b[38;5;129;01mand\u001b[39;00m engine \u001b[38;5;241m!=\u001b[39m io\u001b[38;5;241m.\u001b[39mengine:\n\u001b[0;32m    502\u001b[0m     \u001b[38;5;28;01mraise\u001b[39;00m \u001b[38;5;167;01mValueError\u001b[39;00m(\n\u001b[0;32m    503\u001b[0m         \u001b[38;5;124m\"\u001b[39m\u001b[38;5;124mEngine should not be specified when passing \u001b[39m\u001b[38;5;124m\"\u001b[39m\n\u001b[0;32m    504\u001b[0m         \u001b[38;5;124m\"\u001b[39m\u001b[38;5;124man ExcelFile - ExcelFile already has the engine set\u001b[39m\u001b[38;5;124m\"\u001b[39m\n\u001b[0;32m    505\u001b[0m     )\n",
      "File \u001b[1;32mc:\\Users\\ASUS\\AppData\\Local\\Programs\\Python\\Python312\\Lib\\site-packages\\pandas\\io\\excel\\_base.py:1550\u001b[0m, in \u001b[0;36mExcelFile.__init__\u001b[1;34m(self, path_or_buffer, engine, storage_options, engine_kwargs)\u001b[0m\n\u001b[0;32m   1548\u001b[0m     ext \u001b[38;5;241m=\u001b[39m \u001b[38;5;124m\"\u001b[39m\u001b[38;5;124mxls\u001b[39m\u001b[38;5;124m\"\u001b[39m\n\u001b[0;32m   1549\u001b[0m \u001b[38;5;28;01melse\u001b[39;00m:\n\u001b[1;32m-> 1550\u001b[0m     ext \u001b[38;5;241m=\u001b[39m \u001b[43minspect_excel_format\u001b[49m\u001b[43m(\u001b[49m\n\u001b[0;32m   1551\u001b[0m \u001b[43m        \u001b[49m\u001b[43mcontent_or_path\u001b[49m\u001b[38;5;241;43m=\u001b[39;49m\u001b[43mpath_or_buffer\u001b[49m\u001b[43m,\u001b[49m\u001b[43m \u001b[49m\u001b[43mstorage_options\u001b[49m\u001b[38;5;241;43m=\u001b[39;49m\u001b[43mstorage_options\u001b[49m\n\u001b[0;32m   1552\u001b[0m \u001b[43m    \u001b[49m\u001b[43m)\u001b[49m\n\u001b[0;32m   1553\u001b[0m     \u001b[38;5;28;01mif\u001b[39;00m ext \u001b[38;5;129;01mis\u001b[39;00m \u001b[38;5;28;01mNone\u001b[39;00m:\n\u001b[0;32m   1554\u001b[0m         \u001b[38;5;28;01mraise\u001b[39;00m \u001b[38;5;167;01mValueError\u001b[39;00m(\n\u001b[0;32m   1555\u001b[0m             \u001b[38;5;124m\"\u001b[39m\u001b[38;5;124mExcel file format cannot be determined, you must specify \u001b[39m\u001b[38;5;124m\"\u001b[39m\n\u001b[0;32m   1556\u001b[0m             \u001b[38;5;124m\"\u001b[39m\u001b[38;5;124man engine manually.\u001b[39m\u001b[38;5;124m\"\u001b[39m\n\u001b[0;32m   1557\u001b[0m         )\n",
      "File \u001b[1;32mc:\\Users\\ASUS\\AppData\\Local\\Programs\\Python\\Python312\\Lib\\site-packages\\pandas\\io\\excel\\_base.py:1402\u001b[0m, in \u001b[0;36minspect_excel_format\u001b[1;34m(content_or_path, storage_options)\u001b[0m\n\u001b[0;32m   1399\u001b[0m \u001b[38;5;28;01mif\u001b[39;00m \u001b[38;5;28misinstance\u001b[39m(content_or_path, \u001b[38;5;28mbytes\u001b[39m):\n\u001b[0;32m   1400\u001b[0m     content_or_path \u001b[38;5;241m=\u001b[39m BytesIO(content_or_path)\n\u001b[1;32m-> 1402\u001b[0m \u001b[38;5;28;01mwith\u001b[39;00m \u001b[43mget_handle\u001b[49m\u001b[43m(\u001b[49m\n\u001b[0;32m   1403\u001b[0m \u001b[43m    \u001b[49m\u001b[43mcontent_or_path\u001b[49m\u001b[43m,\u001b[49m\u001b[43m \u001b[49m\u001b[38;5;124;43m\"\u001b[39;49m\u001b[38;5;124;43mrb\u001b[39;49m\u001b[38;5;124;43m\"\u001b[39;49m\u001b[43m,\u001b[49m\u001b[43m \u001b[49m\u001b[43mstorage_options\u001b[49m\u001b[38;5;241;43m=\u001b[39;49m\u001b[43mstorage_options\u001b[49m\u001b[43m,\u001b[49m\u001b[43m \u001b[49m\u001b[43mis_text\u001b[49m\u001b[38;5;241;43m=\u001b[39;49m\u001b[38;5;28;43;01mFalse\u001b[39;49;00m\n\u001b[0;32m   1404\u001b[0m \u001b[43m\u001b[49m\u001b[43m)\u001b[49m \u001b[38;5;28;01mas\u001b[39;00m handle:\n\u001b[0;32m   1405\u001b[0m     stream \u001b[38;5;241m=\u001b[39m handle\u001b[38;5;241m.\u001b[39mhandle\n\u001b[0;32m   1406\u001b[0m     stream\u001b[38;5;241m.\u001b[39mseek(\u001b[38;5;241m0\u001b[39m)\n",
      "File \u001b[1;32mc:\\Users\\ASUS\\AppData\\Local\\Programs\\Python\\Python312\\Lib\\site-packages\\pandas\\io\\common.py:882\u001b[0m, in \u001b[0;36mget_handle\u001b[1;34m(path_or_buf, mode, encoding, compression, memory_map, is_text, errors, storage_options)\u001b[0m\n\u001b[0;32m    873\u001b[0m         handle \u001b[38;5;241m=\u001b[39m \u001b[38;5;28mopen\u001b[39m(\n\u001b[0;32m    874\u001b[0m             handle,\n\u001b[0;32m    875\u001b[0m             ioargs\u001b[38;5;241m.\u001b[39mmode,\n\u001b[1;32m   (...)\u001b[0m\n\u001b[0;32m    878\u001b[0m             newline\u001b[38;5;241m=\u001b[39m\u001b[38;5;124m\"\u001b[39m\u001b[38;5;124m\"\u001b[39m,\n\u001b[0;32m    879\u001b[0m         )\n\u001b[0;32m    880\u001b[0m     \u001b[38;5;28;01melse\u001b[39;00m:\n\u001b[0;32m    881\u001b[0m         \u001b[38;5;66;03m# Binary mode\u001b[39;00m\n\u001b[1;32m--> 882\u001b[0m         handle \u001b[38;5;241m=\u001b[39m \u001b[38;5;28;43mopen\u001b[39;49m\u001b[43m(\u001b[49m\u001b[43mhandle\u001b[49m\u001b[43m,\u001b[49m\u001b[43m \u001b[49m\u001b[43mioargs\u001b[49m\u001b[38;5;241;43m.\u001b[39;49m\u001b[43mmode\u001b[49m\u001b[43m)\u001b[49m\n\u001b[0;32m    883\u001b[0m     handles\u001b[38;5;241m.\u001b[39mappend(handle)\n\u001b[0;32m    885\u001b[0m \u001b[38;5;66;03m# Convert BytesIO or file objects passed with an encoding\u001b[39;00m\n",
      "\u001b[1;31mFileNotFoundError\u001b[0m: [Errno 2] No such file or directory: 'F:\\\\JUPYTER\\\\notbook\\\\trainingn\\\\csv\\\\mansori\\\\Cars_data\\\\Data\\\\mordad.xlsx'"
     ]
    }
   ],
   "source": [
    "df1 = pd.read_excel(r'F:\\JUPYTER\\notbook\\trainingn\\csv\\mansori\\Cars_data\\Data\\mordad.xlsx')\n",
    "df2 = pd.read_excel(r'F:\\JUPYTER\\notbook\\trainingn\\csv\\mansori\\Cars_data\\Data\\shahrivar.xlsx')\n",
    "df3 = pd.read_excel(r'F:\\JUPYTER\\notbook\\trainingn\\csv\\mansori\\Cars_data\\Data\\tir.xlsx')\n"
   ]
  },
  {
   "cell_type": "code",
   "execution_count": 9,
   "id": "4849bb0f-685a-4be2-8d28-4bdeceda4c9d",
   "metadata": {},
   "outputs": [
    {
     "ename": "NameError",
     "evalue": "name 'df1' is not defined",
     "output_type": "error",
     "traceback": [
      "\u001b[1;31m---------------------------------------------------------------------------\u001b[0m",
      "\u001b[1;31mNameError\u001b[0m                                 Traceback (most recent call last)",
      "Cell \u001b[1;32mIn[9], line 1\u001b[0m\n\u001b[1;32m----> 1\u001b[0m pd\u001b[38;5;241m.\u001b[39mconcat([\u001b[43mdf1\u001b[49m, df2, df3])\u001b[38;5;241m.\u001b[39mrename(columns \u001b[38;5;241m=\u001b[39m cols_dict)\u001b[38;5;241m.\u001b[39msort_values(by\u001b[38;5;241m=\u001b[39m\u001b[38;5;124m\"\u001b[39m\u001b[38;5;124mMilage\u001b[39m\u001b[38;5;124m\"\u001b[39m)\u001b[38;5;241m.\u001b[39mto_excel(\u001b[38;5;124m\"\u001b[39m\u001b[38;5;124m./Data/season.xlsx\u001b[39m\u001b[38;5;124m\"\u001b[39m,index \u001b[38;5;241m=\u001b[39m\u001b[38;5;28;01mFalse\u001b[39;00m)\n",
      "\u001b[1;31mNameError\u001b[0m: name 'df1' is not defined"
     ]
    }
   ],
   "source": [
    "pd.concat([df1, df2, df3]).rename(columns = cols_dict).sort_values(by=\"Milage\").to_excel(\"./Data/season.xlsx\",index =False)"
   ]
  },
  {
   "cell_type": "code",
   "execution_count": null,
   "id": "46a616c8-b7eb-4f9a-ba5e-d996b8883a8c",
   "metadata": {},
   "outputs": [],
   "source": [
    "season_data"
   ]
  },
  {
   "cell_type": "code",
   "execution_count": null,
   "id": "fd909b5f-68ea-45ca-9f25-33e008fde7e8",
   "metadata": {},
   "outputs": [],
   "source": [
    "season_data[season_data[\"Milage\"] > 36000]"
   ]
  },
  {
   "cell_type": "code",
   "execution_count": 35,
   "id": "619ddc48-ad34-40dc-b547-786eaf0c1477",
   "metadata": {},
   "outputs": [],
   "source": [
    "# season_data.drop_duplicates(subset= \"Explain\")\n",
    "\n",
    "sample_ = season_data.sample(frac = 0.1)\n"
   ]
  },
  {
   "cell_type": "code",
   "execution_count": null,
   "id": "df25c78b-ad28-48c4-8c44-316d1f815ad2",
   "metadata": {},
   "outputs": [],
   "source": [
    "sample_"
   ]
  },
  {
   "cell_type": "code",
   "execution_count": null,
   "id": "00ad160b-a405-4f7f-9cf6-95ca1b59a244",
   "metadata": {},
   "outputs": [],
   "source": [
    "season_data.nlargest(3, \"Price\")"
   ]
  },
  {
   "cell_type": "code",
   "execution_count": null,
   "id": "c418a7e2-1aae-4a94-b9f2-ed39bfbe6b36",
   "metadata": {},
   "outputs": [],
   "source": [
    "season_data.nsmallest(3,\"Price\")"
   ]
  },
  {
   "cell_type": "code",
   "execution_count": 49,
   "id": "4a13cfa7-519f-4bdf-a167-bc35f60a5eda",
   "metadata": {},
   "outputs": [],
   "source": [
    "top10 = season_data.head(150)"
   ]
  },
  {
   "cell_type": "code",
   "execution_count": null,
   "id": "54b1a001-6e41-4b5f-965e-1886d9b0e949",
   "metadata": {},
   "outputs": [],
   "source": [
    "top10"
   ]
  },
  {
   "cell_type": "code",
   "execution_count": null,
   "id": "50ca3bac-63f7-49c0-8ac1-a5724e8cccab",
   "metadata": {},
   "outputs": [],
   "source": [
    "season_data"
   ]
  },
  {
   "cell_type": "code",
   "execution_count": null,
   "id": "73fc2e1c-bb6b-4eab-a23d-6f2cfdcc96e6",
   "metadata": {},
   "outputs": [],
   "source": [
    "season_data[['VIN' , \"Price\"]]"
   ]
  },
  {
   "cell_type": "code",
   "execution_count": null,
   "id": "e3ac2199-561d-404f-a08c-309a56edf9bb",
   "metadata": {},
   "outputs": [],
   "source": [
    "season_data.filter(regex= '^M')"
   ]
  },
  {
   "cell_type": "code",
   "execution_count": null,
   "id": "2d722aec-86c2-4770-a855-74e0feccc9c5",
   "metadata": {},
   "outputs": [],
   "source": [
    "season_data"
   ]
  },
  {
   "cell_type": "code",
   "execution_count": null,
   "id": "e08a6336-2d95-4347-8e01-19f0132838f4",
   "metadata": {},
   "outputs": [],
   "source": [
    "season_data.query(\"Milage > 36000 or Price > 22000000\")"
   ]
  },
  {
   "cell_type": "code",
   "execution_count": null,
   "id": "45216133-3735-4c1e-bc34-eb04c7052b27",
   "metadata": {
    "scrolled": true
   },
   "outputs": [],
   "source": [
    "season_data[(season_data[\"Milage\"]> 36000) | (season_data[\"Price\"]> 22000000)]"
   ]
  },
  {
   "cell_type": "code",
   "execution_count": 80,
   "id": "6a0916f8-97e2-4608-8ea3-fd8b429b8fe4",
   "metadata": {},
   "outputs": [],
   "source": [
    "df_dropna = season_data.dropna()"
   ]
  },
  {
   "cell_type": "code",
   "execution_count": null,
   "id": "9bbf5c95-1a7a-4f19-9485-5f4f008a9ba4",
   "metadata": {
    "scrolled": true
   },
   "outputs": [],
   "source": [
    "df_dropna.query(\"Explain.str.startswith('بی')\" , engine= 'python' ).head(40)"
   ]
  }
 ],
 "metadata": {
  "kernelspec": {
   "display_name": "Python 3",
   "language": "python",
   "name": "python3"
  },
  "language_info": {
   "codemirror_mode": {
    "name": "ipython",
    "version": 3
   },
   "file_extension": ".py",
   "mimetype": "text/x-python",
   "name": "python",
   "nbconvert_exporter": "python",
   "pygments_lexer": "ipython3",
   "version": "3.12.0"
  }
 },
 "nbformat": 4,
 "nbformat_minor": 5
}
