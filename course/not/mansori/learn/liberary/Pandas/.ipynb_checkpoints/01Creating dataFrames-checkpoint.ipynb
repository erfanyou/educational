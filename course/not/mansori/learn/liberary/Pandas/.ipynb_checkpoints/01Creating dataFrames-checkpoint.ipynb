{
 "cells": [
  {
   "cell_type": "markdown",
   "id": "fc411259-bda2-4310-b5eb-0c4dfaeec7d1",
   "metadata": {},
   "source": [
    "\n",
    "<div dir=\"rtl\"> \n",
    "\n",
    "# لازمه های داده مرتب\n",
    "+ داده های ستون شامل یک نوع متغیر باشد\n",
    "+ داده های سطری داده های یک مشاهده یا واقعه باشد\n",
    "+ هر دسته مشاهدات یک جدول را تشکیل می دهد (نام گزاری بر جدول)\n",
    "\n",
    "</div>"
   ]
  },
  {
   "cell_type": "code",
   "execution_count": null,
   "id": "47d97046-b2d5-444b-8033-2f88d936a810",
   "metadata": {},
   "outputs": [],
   "source": []
  }
 ],
 "metadata": {
  "kernelspec": {
   "display_name": "Python 3 (ipykernel)",
   "language": "python",
   "name": "python3"
  },
  "language_info": {
   "codemirror_mode": {
    "name": "ipython",
    "version": 3
   },
   "file_extension": ".py",
   "mimetype": "text/x-python",
   "name": "python",
   "nbconvert_exporter": "python",
   "pygments_lexer": "ipython3",
   "version": "3.12.1"
  }
 },
 "nbformat": 4,
 "nbformat_minor": 5
}
