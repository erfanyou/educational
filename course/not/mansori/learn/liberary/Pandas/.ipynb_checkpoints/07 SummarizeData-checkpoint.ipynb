{
 "cells": [
  {
   "cell_type": "code",
   "execution_count": 4,
   "id": "272bcec7-ea9b-4b87-9ed4-cd8f1c780ed0",
   "metadata": {},
   "outputs": [],
   "source": [
    "import pandas as pd\n",
    "\n",
    "\n",
    "df = pd.read_excel(\"./Data/CarsENCols.xlsx\" , index_col = 0)"
   ]
  },
  {
   "cell_type": "code",
   "execution_count": 5,
   "id": "b2af8b17-1230-43d9-a4f0-9ea1b2717785",
   "metadata": {},
   "outputs": [
    {
     "data": {
      "text/html": [
       "<div>\n",
       "<style scoped>\n",
       "    .dataframe tbody tr th:only-of-type {\n",
       "        vertical-align: middle;\n",
       "    }\n",
       "\n",
       "    .dataframe tbody tr th {\n",
       "        vertical-align: top;\n",
       "    }\n",
       "\n",
       "    .dataframe thead th {\n",
       "        text-align: right;\n",
       "    }\n",
       "</style>\n",
       "<table border=\"1\" class=\"dataframe\">\n",
       "  <thead>\n",
       "    <tr style=\"text-align: right;\">\n",
       "      <th></th>\n",
       "      <th>Date</th>\n",
       "      <th>Milage</th>\n",
       "      <th>VIN</th>\n",
       "      <th>Made</th>\n",
       "      <th>Model</th>\n",
       "      <th>Type</th>\n",
       "      <th>Price</th>\n",
       "      <th>Order</th>\n",
       "      <th>Explain</th>\n",
       "    </tr>\n",
       "    <tr>\n",
       "      <th>index</th>\n",
       "      <th></th>\n",
       "      <th></th>\n",
       "      <th></th>\n",
       "      <th></th>\n",
       "      <th></th>\n",
       "      <th></th>\n",
       "      <th></th>\n",
       "      <th></th>\n",
       "      <th></th>\n",
       "    </tr>\n",
       "  </thead>\n",
       "  <tbody>\n",
       "    <tr>\n",
       "      <th>0</th>\n",
       "      <td>1400-1-تیر</td>\n",
       "      <td>24393.0</td>\n",
       "      <td>NA0000000000000200</td>\n",
       "      <td>سایپا</td>\n",
       "      <td>پراید</td>\n",
       "      <td>Hatchback</td>\n",
       "      <td>17049382.0</td>\n",
       "      <td>17000000.0</td>\n",
       "      <td>بی رنگ</td>\n",
       "    </tr>\n",
       "    <tr>\n",
       "      <th>1</th>\n",
       "      <td>1400-2-تیر</td>\n",
       "      <td>18177.0</td>\n",
       "      <td>NA0000000000000201</td>\n",
       "      <td>سایپا</td>\n",
       "      <td>پراید</td>\n",
       "      <td>Hatchback</td>\n",
       "      <td>20059011.0</td>\n",
       "      <td>17000000.0</td>\n",
       "      <td>بیرنگ</td>\n",
       "    </tr>\n",
       "    <tr>\n",
       "      <th>2</th>\n",
       "      <td>1400-3-تیر</td>\n",
       "      <td>20600.0</td>\n",
       "      <td>NA0000000000000202</td>\n",
       "      <td>سایپا</td>\n",
       "      <td>پراید</td>\n",
       "      <td>Hatchback</td>\n",
       "      <td>17085239.0</td>\n",
       "      <td>17000000.0</td>\n",
       "      <td>زدگی</td>\n",
       "    </tr>\n",
       "    <tr>\n",
       "      <th>3</th>\n",
       "      <td>1400-4-تیر</td>\n",
       "      <td>26210.0</td>\n",
       "      <td>NA0000000000000203</td>\n",
       "      <td>سایپا</td>\n",
       "      <td>پراید</td>\n",
       "      <td>Hatchback</td>\n",
       "      <td>19220924.0</td>\n",
       "      <td>17000000.0</td>\n",
       "      <td>تصادف</td>\n",
       "    </tr>\n",
       "    <tr>\n",
       "      <th>4</th>\n",
       "      <td>1400-5-تیر</td>\n",
       "      <td>24213.0</td>\n",
       "      <td>NA0000000000000204</td>\n",
       "      <td>سایپا</td>\n",
       "      <td>پراید</td>\n",
       "      <td>Hatchback</td>\n",
       "      <td>20566626.0</td>\n",
       "      <td>17000000.0</td>\n",
       "      <td>بدون تصادف</td>\n",
       "    </tr>\n",
       "    <tr>\n",
       "      <th>...</th>\n",
       "      <td>...</td>\n",
       "      <td>...</td>\n",
       "      <td>...</td>\n",
       "      <td>...</td>\n",
       "      <td>...</td>\n",
       "      <td>...</td>\n",
       "      <td>...</td>\n",
       "      <td>...</td>\n",
       "      <td>...</td>\n",
       "    </tr>\n",
       "    <tr>\n",
       "      <th>192</th>\n",
       "      <td>1400-7-مرداد</td>\n",
       "      <td>20468.0</td>\n",
       "      <td>NA0000000000000392</td>\n",
       "      <td>ایرانخودرو</td>\n",
       "      <td>پژو206</td>\n",
       "      <td>Sedan</td>\n",
       "      <td>27423787.0</td>\n",
       "      <td>21000000.0</td>\n",
       "      <td>زدگی</td>\n",
       "    </tr>\n",
       "    <tr>\n",
       "      <th>193</th>\n",
       "      <td>1400-8-مرداد</td>\n",
       "      <td>20747.0</td>\n",
       "      <td>NA0000000000000393</td>\n",
       "      <td>ایرانخودرو</td>\n",
       "      <td>پژو206</td>\n",
       "      <td>Sedan</td>\n",
       "      <td>25184712.0</td>\n",
       "      <td>21000000.0</td>\n",
       "      <td>تصادف</td>\n",
       "    </tr>\n",
       "    <tr>\n",
       "      <th>194</th>\n",
       "      <td>1400-9-مرداد</td>\n",
       "      <td>20397.0</td>\n",
       "      <td>NA0000000000000394</td>\n",
       "      <td>ایرانخودرو</td>\n",
       "      <td>پژو206</td>\n",
       "      <td>Sedan</td>\n",
       "      <td>23437833.0</td>\n",
       "      <td>21000000.0</td>\n",
       "      <td>بدون تصادف</td>\n",
       "    </tr>\n",
       "    <tr>\n",
       "      <th>195</th>\n",
       "      <td>1400-10-مرداد</td>\n",
       "      <td>24358.0</td>\n",
       "      <td>NA0000000000000395</td>\n",
       "      <td>ایرانخودرو</td>\n",
       "      <td>پژو206</td>\n",
       "      <td>Sedan</td>\n",
       "      <td>29411805.0</td>\n",
       "      <td>21000000.0</td>\n",
       "      <td>فابریک</td>\n",
       "    </tr>\n",
       "    <tr>\n",
       "      <th>196</th>\n",
       "      <td>1400-11-مرداد</td>\n",
       "      <td>27363.0</td>\n",
       "      <td>NA0000000000000396</td>\n",
       "      <td>ایرانخودرو</td>\n",
       "      <td>پژو206</td>\n",
       "      <td>Sedan</td>\n",
       "      <td>25025798.0</td>\n",
       "      <td>21000000.0</td>\n",
       "      <td>بی رنگ</td>\n",
       "    </tr>\n",
       "  </tbody>\n",
       "</table>\n",
       "<p>197 rows × 9 columns</p>\n",
       "</div>"
      ],
      "text/plain": [
       "                Date   Milage                 VIN        Made   Model  \\\n",
       "index                                                                   \n",
       "0         1400-1-تیر  24393.0  NA0000000000000200       سایپا   پراید   \n",
       "1         1400-2-تیر  18177.0  NA0000000000000201       سایپا   پراید   \n",
       "2         1400-3-تیر  20600.0  NA0000000000000202       سایپا   پراید   \n",
       "3         1400-4-تیر  26210.0  NA0000000000000203       سایپا   پراید   \n",
       "4         1400-5-تیر  24213.0  NA0000000000000204       سایپا   پراید   \n",
       "...              ...      ...                 ...         ...     ...   \n",
       "192     1400-7-مرداد  20468.0  NA0000000000000392  ایرانخودرو  پژو206   \n",
       "193     1400-8-مرداد  20747.0  NA0000000000000393  ایرانخودرو  پژو206   \n",
       "194     1400-9-مرداد  20397.0  NA0000000000000394  ایرانخودرو  پژو206   \n",
       "195    1400-10-مرداد  24358.0  NA0000000000000395  ایرانخودرو  پژو206   \n",
       "196    1400-11-مرداد  27363.0  NA0000000000000396  ایرانخودرو  پژو206   \n",
       "\n",
       "            Type       Price       Order     Explain  \n",
       "index                                                 \n",
       "0      Hatchback  17049382.0  17000000.0      بی رنگ  \n",
       "1      Hatchback  20059011.0  17000000.0       بیرنگ  \n",
       "2      Hatchback  17085239.0  17000000.0        زدگی  \n",
       "3      Hatchback  19220924.0  17000000.0       تصادف  \n",
       "4      Hatchback  20566626.0  17000000.0  بدون تصادف  \n",
       "...          ...         ...         ...         ...  \n",
       "192        Sedan  27423787.0  21000000.0        زدگی  \n",
       "193        Sedan  25184712.0  21000000.0       تصادف  \n",
       "194        Sedan  23437833.0  21000000.0  بدون تصادف  \n",
       "195        Sedan  29411805.0  21000000.0      فابریک  \n",
       "196        Sedan  25025798.0  21000000.0      بی رنگ  \n",
       "\n",
       "[197 rows x 9 columns]"
      ]
     },
     "execution_count": 5,
     "metadata": {},
     "output_type": "execute_result"
    }
   ],
   "source": [
    "df"
   ]
  },
  {
   "cell_type": "code",
   "execution_count": 11,
   "id": "bcaa39dd-4a3f-4afc-bb04-386102977c54",
   "metadata": {},
   "outputs": [
    {
     "data": {
      "text/plain": [
       "Explain\n",
       "بی رنگ        58\n",
       "تصادف         30\n",
       "فابریک        30\n",
       "بدون تصادف    21\n",
       "بیرنگ         17\n",
       "زدگی          12\n",
       "پوسیدگی        9\n",
       "تصادف جزیی     8\n",
       "بدون رنگ       6\n",
       "NaN            4\n",
       "بیمه فول       1\n",
       "بیمه بدنه      1\n",
       "Name: count, dtype: int64"
      ]
     },
     "execution_count": 11,
     "metadata": {},
     "output_type": "execute_result"
    }
   ],
   "source": [
    "df['Explain'].value_counts(dropna= False)"
   ]
  },
  {
   "cell_type": "code",
   "execution_count": 12,
   "id": "3e0cf361-e18c-4847-a41d-bffb52c70461",
   "metadata": {},
   "outputs": [
    {
     "data": {
      "text/plain": [
       "(197, 9)"
      ]
     },
     "execution_count": 12,
     "metadata": {},
     "output_type": "execute_result"
    }
   ],
   "source": [
    "df.shape"
   ]
  },
  {
   "cell_type": "code",
   "execution_count": 13,
   "id": "f17ae78d-cefc-47e9-95f8-15362135a87a",
   "metadata": {},
   "outputs": [
    {
     "data": {
      "text/plain": [
       "197"
      ]
     },
     "execution_count": 13,
     "metadata": {},
     "output_type": "execute_result"
    }
   ],
   "source": [
    "len(df)"
   ]
  },
  {
   "cell_type": "code",
   "execution_count": 15,
   "id": "296e5c41-3670-4519-bf87-d8d88c72e587",
   "metadata": {},
   "outputs": [
    {
     "data": {
      "text/plain": [
       "12"
      ]
     },
     "execution_count": 15,
     "metadata": {},
     "output_type": "execute_result"
    }
   ],
   "source": [
    "df['Explain'].nunique(dropna= False)"
   ]
  },
  {
   "cell_type": "code",
   "execution_count": 17,
   "id": "c9b15e15-bc5c-41b3-9ae9-f946b90b6642",
   "metadata": {},
   "outputs": [
    {
     "data": {
      "text/plain": [
       "array(['بی رنگ', 'بیرنگ', 'زدگی', 'تصادف', 'بدون تصادف', 'فابریک',\n",
       "       'تصادف جزیی', 'پوسیدگی', 'بدون رنگ', 'بیمه فول', 'بیمه بدنه', nan],\n",
       "      dtype=object)"
      ]
     },
     "execution_count": 17,
     "metadata": {},
     "output_type": "execute_result"
    }
   ],
   "source": [
    "df['Explain'].unique()"
   ]
  },
  {
   "cell_type": "code",
   "execution_count": 19,
   "id": "f9423e25-8f49-4c55-b9e6-12821751eb77",
   "metadata": {},
   "outputs": [
    {
     "data": {
      "text/html": [
       "<div>\n",
       "<style scoped>\n",
       "    .dataframe tbody tr th:only-of-type {\n",
       "        vertical-align: middle;\n",
       "    }\n",
       "\n",
       "    .dataframe tbody tr th {\n",
       "        vertical-align: top;\n",
       "    }\n",
       "\n",
       "    .dataframe thead th {\n",
       "        text-align: right;\n",
       "    }\n",
       "</style>\n",
       "<table border=\"1\" class=\"dataframe\">\n",
       "  <thead>\n",
       "    <tr style=\"text-align: right;\">\n",
       "      <th></th>\n",
       "      <th>Milage</th>\n",
       "      <th>Price</th>\n",
       "      <th>Order</th>\n",
       "    </tr>\n",
       "  </thead>\n",
       "  <tbody>\n",
       "    <tr>\n",
       "      <th>count</th>\n",
       "      <td>196.000000</td>\n",
       "      <td>1.940000e+02</td>\n",
       "      <td>1.950000e+02</td>\n",
       "    </tr>\n",
       "    <tr>\n",
       "      <th>mean</th>\n",
       "      <td>22018.168367</td>\n",
       "      <td>2.353952e+07</td>\n",
       "      <td>1.933333e+07</td>\n",
       "    </tr>\n",
       "    <tr>\n",
       "      <th>std</th>\n",
       "      <td>6306.472858</td>\n",
       "      <td>4.775663e+06</td>\n",
       "      <td>2.541748e+06</td>\n",
       "    </tr>\n",
       "    <tr>\n",
       "      <th>min</th>\n",
       "      <td>3385.000000</td>\n",
       "      <td>1.281727e+07</td>\n",
       "      <td>1.500000e+07</td>\n",
       "    </tr>\n",
       "    <tr>\n",
       "      <th>25%</th>\n",
       "      <td>18425.000000</td>\n",
       "      <td>1.922996e+07</td>\n",
       "      <td>1.700000e+07</td>\n",
       "    </tr>\n",
       "    <tr>\n",
       "      <th>50%</th>\n",
       "      <td>23285.000000</td>\n",
       "      <td>2.545422e+07</td>\n",
       "      <td>2.100000e+07</td>\n",
       "    </tr>\n",
       "    <tr>\n",
       "      <th>75%</th>\n",
       "      <td>26264.250000</td>\n",
       "      <td>2.718612e+07</td>\n",
       "      <td>2.100000e+07</td>\n",
       "    </tr>\n",
       "    <tr>\n",
       "      <th>max</th>\n",
       "      <td>37886.000000</td>\n",
       "      <td>2.990612e+07</td>\n",
       "      <td>2.200000e+07</td>\n",
       "    </tr>\n",
       "  </tbody>\n",
       "</table>\n",
       "</div>"
      ],
      "text/plain": [
       "             Milage         Price         Order\n",
       "count    196.000000  1.940000e+02  1.950000e+02\n",
       "mean   22018.168367  2.353952e+07  1.933333e+07\n",
       "std     6306.472858  4.775663e+06  2.541748e+06\n",
       "min     3385.000000  1.281727e+07  1.500000e+07\n",
       "25%    18425.000000  1.922996e+07  1.700000e+07\n",
       "50%    23285.000000  2.545422e+07  2.100000e+07\n",
       "75%    26264.250000  2.718612e+07  2.100000e+07\n",
       "max    37886.000000  2.990612e+07  2.200000e+07"
      ]
     },
     "execution_count": 19,
     "metadata": {},
     "output_type": "execute_result"
    }
   ],
   "source": [
    "df.describe()"
   ]
  },
  {
   "cell_type": "code",
   "execution_count": 21,
   "id": "2139bb6a-954e-475c-8052-601c6cddb72e",
   "metadata": {},
   "outputs": [
    {
     "name": "stdout",
     "output_type": "stream",
     "text": [
      "<class 'pandas.core.frame.DataFrame'>\n",
      "Index: 197 entries, 0 to 196\n",
      "Data columns (total 9 columns):\n",
      " #   Column   Non-Null Count  Dtype  \n",
      "---  ------   --------------  -----  \n",
      " 0   Date     193 non-null    object \n",
      " 1   Milage   196 non-null    float64\n",
      " 2   VIN      196 non-null    object \n",
      " 3   Made     194 non-null    object \n",
      " 4   Model    195 non-null    object \n",
      " 5   Type     196 non-null    object \n",
      " 6   Price    194 non-null    float64\n",
      " 7   Order    195 non-null    float64\n",
      " 8   Explain  193 non-null    object \n",
      "dtypes: float64(3), object(6)\n",
      "memory usage: 15.4+ KB\n"
     ]
    }
   ],
   "source": [
    "df.info()"
   ]
  },
  {
   "cell_type": "code",
   "execution_count": 23,
   "id": "825895c2-eea9-4e45-a885-49d3d7c2b57f",
   "metadata": {},
   "outputs": [],
   "source": [
    "df_numbers = df[['Milage', 'Price' , \"Order\"]]"
   ]
  },
  {
   "cell_type": "code",
   "execution_count": 25,
   "id": "a5e242fd-86cf-470f-9f32-3ca9002b099f",
   "metadata": {
    "scrolled": true
   },
   "outputs": [
    {
     "data": {
      "text/plain": [
       "Milage    4.315561e+06\n",
       "Price     4.566667e+09\n",
       "Order     3.770000e+09\n",
       "dtype: float64"
      ]
     },
     "execution_count": 25,
     "metadata": {},
     "output_type": "execute_result"
    }
   ],
   "source": [
    "df_numbers.sum()"
   ]
  },
  {
   "cell_type": "code",
   "execution_count": 27,
   "id": "c189801e-1c4c-4382-b10e-b701ec575eec",
   "metadata": {},
   "outputs": [
    {
     "data": {
      "text/plain": [
       "4566667067.0"
      ]
     },
     "execution_count": 27,
     "metadata": {},
     "output_type": "execute_result"
    }
   ],
   "source": [
    "df['Price'].sum()"
   ]
  },
  {
   "cell_type": "code",
   "execution_count": 28,
   "id": "1ca143ca-0e06-4ddc-8f97-f9590e236ca0",
   "metadata": {
    "scrolled": true
   },
   "outputs": [
    {
     "data": {
      "text/html": [
       "<div>\n",
       "<style scoped>\n",
       "    .dataframe tbody tr th:only-of-type {\n",
       "        vertical-align: middle;\n",
       "    }\n",
       "\n",
       "    .dataframe tbody tr th {\n",
       "        vertical-align: top;\n",
       "    }\n",
       "\n",
       "    .dataframe thead th {\n",
       "        text-align: right;\n",
       "    }\n",
       "</style>\n",
       "<table border=\"1\" class=\"dataframe\">\n",
       "  <thead>\n",
       "    <tr style=\"text-align: right;\">\n",
       "      <th></th>\n",
       "      <th>Milage</th>\n",
       "      <th>Price</th>\n",
       "      <th>Order</th>\n",
       "    </tr>\n",
       "  </thead>\n",
       "  <tbody>\n",
       "    <tr>\n",
       "      <th>0.25</th>\n",
       "      <td>18425.00</td>\n",
       "      <td>19229962.75</td>\n",
       "      <td>17000000.0</td>\n",
       "    </tr>\n",
       "    <tr>\n",
       "      <th>0.75</th>\n",
       "      <td>26264.25</td>\n",
       "      <td>27186117.00</td>\n",
       "      <td>21000000.0</td>\n",
       "    </tr>\n",
       "  </tbody>\n",
       "</table>\n",
       "</div>"
      ],
      "text/plain": [
       "        Milage        Price       Order\n",
       "0.25  18425.00  19229962.75  17000000.0\n",
       "0.75  26264.25  27186117.00  21000000.0"
      ]
     },
     "execution_count": 28,
     "metadata": {},
     "output_type": "execute_result"
    }
   ],
   "source": [
    "df_numbers.quantile([0.25,0.75])"
   ]
  },
  {
   "cell_type": "code",
   "execution_count": 51,
   "id": "4e826eea-b344-41c7-b917-b8de6c79e6db",
   "metadata": {},
   "outputs": [],
   "source": [
    "def to_rail(series):\n",
    "    result = series *10\n",
    "    return int(result)\n",
    "    "
   ]
  },
  {
   "cell_type": "code",
   "execution_count": 52,
   "id": "900856ee-5849-440d-b598-e545c1828f6b",
   "metadata": {},
   "outputs": [
    {
     "ename": "ValueError",
     "evalue": "cannot convert float NaN to integer",
     "output_type": "error",
     "traceback": [
      "\u001b[1;31m---------------------------------------------------------------------------\u001b[0m",
      "\u001b[1;31mValueError\u001b[0m                                Traceback (most recent call last)",
      "Cell \u001b[1;32mIn[52], line 1\u001b[0m\n\u001b[1;32m----> 1\u001b[0m \u001b[43mdf\u001b[49m\u001b[43m[\u001b[49m\u001b[38;5;124;43m'\u001b[39;49m\u001b[38;5;124;43mPrice\u001b[39;49m\u001b[38;5;124;43m'\u001b[39;49m\u001b[43m]\u001b[49m\u001b[38;5;241;43m.\u001b[39;49m\u001b[43mapply\u001b[49m\u001b[43m(\u001b[49m\u001b[43mto_rail\u001b[49m\u001b[43m)\u001b[49m\n",
      "File \u001b[1;32m~\\AppData\\Local\\Programs\\Python\\Python312\\Lib\\site-packages\\pandas\\core\\series.py:4764\u001b[0m, in \u001b[0;36mSeries.apply\u001b[1;34m(self, func, convert_dtype, args, by_row, **kwargs)\u001b[0m\n\u001b[0;32m   4629\u001b[0m \u001b[38;5;28;01mdef\u001b[39;00m \u001b[38;5;21mapply\u001b[39m(\n\u001b[0;32m   4630\u001b[0m     \u001b[38;5;28mself\u001b[39m,\n\u001b[0;32m   4631\u001b[0m     func: AggFuncType,\n\u001b[1;32m   (...)\u001b[0m\n\u001b[0;32m   4636\u001b[0m     \u001b[38;5;241m*\u001b[39m\u001b[38;5;241m*\u001b[39mkwargs,\n\u001b[0;32m   4637\u001b[0m ) \u001b[38;5;241m-\u001b[39m\u001b[38;5;241m>\u001b[39m DataFrame \u001b[38;5;241m|\u001b[39m Series:\n\u001b[0;32m   4638\u001b[0m \u001b[38;5;250m    \u001b[39m\u001b[38;5;124;03m\"\"\"\u001b[39;00m\n\u001b[0;32m   4639\u001b[0m \u001b[38;5;124;03m    Invoke function on values of Series.\u001b[39;00m\n\u001b[0;32m   4640\u001b[0m \n\u001b[1;32m   (...)\u001b[0m\n\u001b[0;32m   4755\u001b[0m \u001b[38;5;124;03m    dtype: float64\u001b[39;00m\n\u001b[0;32m   4756\u001b[0m \u001b[38;5;124;03m    \"\"\"\u001b[39;00m\n\u001b[0;32m   4757\u001b[0m     \u001b[38;5;28;01mreturn\u001b[39;00m \u001b[43mSeriesApply\u001b[49m\u001b[43m(\u001b[49m\n\u001b[0;32m   4758\u001b[0m \u001b[43m        \u001b[49m\u001b[38;5;28;43mself\u001b[39;49m\u001b[43m,\u001b[49m\n\u001b[0;32m   4759\u001b[0m \u001b[43m        \u001b[49m\u001b[43mfunc\u001b[49m\u001b[43m,\u001b[49m\n\u001b[0;32m   4760\u001b[0m \u001b[43m        \u001b[49m\u001b[43mconvert_dtype\u001b[49m\u001b[38;5;241;43m=\u001b[39;49m\u001b[43mconvert_dtype\u001b[49m\u001b[43m,\u001b[49m\n\u001b[0;32m   4761\u001b[0m \u001b[43m        \u001b[49m\u001b[43mby_row\u001b[49m\u001b[38;5;241;43m=\u001b[39;49m\u001b[43mby_row\u001b[49m\u001b[43m,\u001b[49m\n\u001b[0;32m   4762\u001b[0m \u001b[43m        \u001b[49m\u001b[43margs\u001b[49m\u001b[38;5;241;43m=\u001b[39;49m\u001b[43margs\u001b[49m\u001b[43m,\u001b[49m\n\u001b[0;32m   4763\u001b[0m \u001b[43m        \u001b[49m\u001b[43mkwargs\u001b[49m\u001b[38;5;241;43m=\u001b[39;49m\u001b[43mkwargs\u001b[49m\u001b[43m,\u001b[49m\n\u001b[1;32m-> 4764\u001b[0m \u001b[43m    \u001b[49m\u001b[43m)\u001b[49m\u001b[38;5;241;43m.\u001b[39;49m\u001b[43mapply\u001b[49m\u001b[43m(\u001b[49m\u001b[43m)\u001b[49m\n",
      "File \u001b[1;32m~\\AppData\\Local\\Programs\\Python\\Python312\\Lib\\site-packages\\pandas\\core\\apply.py:1209\u001b[0m, in \u001b[0;36mSeriesApply.apply\u001b[1;34m(self)\u001b[0m\n\u001b[0;32m   1206\u001b[0m     \u001b[38;5;28;01mreturn\u001b[39;00m \u001b[38;5;28mself\u001b[39m\u001b[38;5;241m.\u001b[39mapply_compat()\n\u001b[0;32m   1208\u001b[0m \u001b[38;5;66;03m# self.func is Callable\u001b[39;00m\n\u001b[1;32m-> 1209\u001b[0m \u001b[38;5;28;01mreturn\u001b[39;00m \u001b[38;5;28;43mself\u001b[39;49m\u001b[38;5;241;43m.\u001b[39;49m\u001b[43mapply_standard\u001b[49m\u001b[43m(\u001b[49m\u001b[43m)\u001b[49m\n",
      "File \u001b[1;32m~\\AppData\\Local\\Programs\\Python\\Python312\\Lib\\site-packages\\pandas\\core\\apply.py:1289\u001b[0m, in \u001b[0;36mSeriesApply.apply_standard\u001b[1;34m(self)\u001b[0m\n\u001b[0;32m   1283\u001b[0m \u001b[38;5;66;03m# row-wise access\u001b[39;00m\n\u001b[0;32m   1284\u001b[0m \u001b[38;5;66;03m# apply doesn't have a `na_action` keyword and for backward compat reasons\u001b[39;00m\n\u001b[0;32m   1285\u001b[0m \u001b[38;5;66;03m# we need to give `na_action=\"ignore\"` for categorical data.\u001b[39;00m\n\u001b[0;32m   1286\u001b[0m \u001b[38;5;66;03m# TODO: remove the `na_action=\"ignore\"` when that default has been changed in\u001b[39;00m\n\u001b[0;32m   1287\u001b[0m \u001b[38;5;66;03m#  Categorical (GH51645).\u001b[39;00m\n\u001b[0;32m   1288\u001b[0m action \u001b[38;5;241m=\u001b[39m \u001b[38;5;124m\"\u001b[39m\u001b[38;5;124mignore\u001b[39m\u001b[38;5;124m\"\u001b[39m \u001b[38;5;28;01mif\u001b[39;00m \u001b[38;5;28misinstance\u001b[39m(obj\u001b[38;5;241m.\u001b[39mdtype, CategoricalDtype) \u001b[38;5;28;01melse\u001b[39;00m \u001b[38;5;28;01mNone\u001b[39;00m\n\u001b[1;32m-> 1289\u001b[0m mapped \u001b[38;5;241m=\u001b[39m \u001b[43mobj\u001b[49m\u001b[38;5;241;43m.\u001b[39;49m\u001b[43m_map_values\u001b[49m\u001b[43m(\u001b[49m\n\u001b[0;32m   1290\u001b[0m \u001b[43m    \u001b[49m\u001b[43mmapper\u001b[49m\u001b[38;5;241;43m=\u001b[39;49m\u001b[43mcurried\u001b[49m\u001b[43m,\u001b[49m\u001b[43m \u001b[49m\u001b[43mna_action\u001b[49m\u001b[38;5;241;43m=\u001b[39;49m\u001b[43maction\u001b[49m\u001b[43m,\u001b[49m\u001b[43m \u001b[49m\u001b[43mconvert\u001b[49m\u001b[38;5;241;43m=\u001b[39;49m\u001b[38;5;28;43mself\u001b[39;49m\u001b[38;5;241;43m.\u001b[39;49m\u001b[43mconvert_dtype\u001b[49m\n\u001b[0;32m   1291\u001b[0m \u001b[43m\u001b[49m\u001b[43m)\u001b[49m\n\u001b[0;32m   1293\u001b[0m \u001b[38;5;28;01mif\u001b[39;00m \u001b[38;5;28mlen\u001b[39m(mapped) \u001b[38;5;129;01mand\u001b[39;00m \u001b[38;5;28misinstance\u001b[39m(mapped[\u001b[38;5;241m0\u001b[39m], ABCSeries):\n\u001b[0;32m   1294\u001b[0m     \u001b[38;5;66;03m# GH#43986 Need to do list(mapped) in order to get treated as nested\u001b[39;00m\n\u001b[0;32m   1295\u001b[0m     \u001b[38;5;66;03m#  See also GH#25959 regarding EA support\u001b[39;00m\n\u001b[0;32m   1296\u001b[0m     \u001b[38;5;28;01mreturn\u001b[39;00m obj\u001b[38;5;241m.\u001b[39m_constructor_expanddim(\u001b[38;5;28mlist\u001b[39m(mapped), index\u001b[38;5;241m=\u001b[39mobj\u001b[38;5;241m.\u001b[39mindex)\n",
      "File \u001b[1;32m~\\AppData\\Local\\Programs\\Python\\Python312\\Lib\\site-packages\\pandas\\core\\base.py:921\u001b[0m, in \u001b[0;36mIndexOpsMixin._map_values\u001b[1;34m(self, mapper, na_action, convert)\u001b[0m\n\u001b[0;32m    918\u001b[0m \u001b[38;5;28;01mif\u001b[39;00m \u001b[38;5;28misinstance\u001b[39m(arr, ExtensionArray):\n\u001b[0;32m    919\u001b[0m     \u001b[38;5;28;01mreturn\u001b[39;00m arr\u001b[38;5;241m.\u001b[39mmap(mapper, na_action\u001b[38;5;241m=\u001b[39mna_action)\n\u001b[1;32m--> 921\u001b[0m \u001b[38;5;28;01mreturn\u001b[39;00m \u001b[43malgorithms\u001b[49m\u001b[38;5;241;43m.\u001b[39;49m\u001b[43mmap_array\u001b[49m\u001b[43m(\u001b[49m\u001b[43marr\u001b[49m\u001b[43m,\u001b[49m\u001b[43m \u001b[49m\u001b[43mmapper\u001b[49m\u001b[43m,\u001b[49m\u001b[43m \u001b[49m\u001b[43mna_action\u001b[49m\u001b[38;5;241;43m=\u001b[39;49m\u001b[43mna_action\u001b[49m\u001b[43m,\u001b[49m\u001b[43m \u001b[49m\u001b[43mconvert\u001b[49m\u001b[38;5;241;43m=\u001b[39;49m\u001b[43mconvert\u001b[49m\u001b[43m)\u001b[49m\n",
      "File \u001b[1;32m~\\AppData\\Local\\Programs\\Python\\Python312\\Lib\\site-packages\\pandas\\core\\algorithms.py:1814\u001b[0m, in \u001b[0;36mmap_array\u001b[1;34m(arr, mapper, na_action, convert)\u001b[0m\n\u001b[0;32m   1812\u001b[0m values \u001b[38;5;241m=\u001b[39m arr\u001b[38;5;241m.\u001b[39mastype(\u001b[38;5;28mobject\u001b[39m, copy\u001b[38;5;241m=\u001b[39m\u001b[38;5;28;01mFalse\u001b[39;00m)\n\u001b[0;32m   1813\u001b[0m \u001b[38;5;28;01mif\u001b[39;00m na_action \u001b[38;5;129;01mis\u001b[39;00m \u001b[38;5;28;01mNone\u001b[39;00m:\n\u001b[1;32m-> 1814\u001b[0m     \u001b[38;5;28;01mreturn\u001b[39;00m \u001b[43mlib\u001b[49m\u001b[38;5;241;43m.\u001b[39;49m\u001b[43mmap_infer\u001b[49m\u001b[43m(\u001b[49m\u001b[43mvalues\u001b[49m\u001b[43m,\u001b[49m\u001b[43m \u001b[49m\u001b[43mmapper\u001b[49m\u001b[43m,\u001b[49m\u001b[43m \u001b[49m\u001b[43mconvert\u001b[49m\u001b[38;5;241;43m=\u001b[39;49m\u001b[43mconvert\u001b[49m\u001b[43m)\u001b[49m\n\u001b[0;32m   1815\u001b[0m \u001b[38;5;28;01melse\u001b[39;00m:\n\u001b[0;32m   1816\u001b[0m     \u001b[38;5;28;01mreturn\u001b[39;00m lib\u001b[38;5;241m.\u001b[39mmap_infer_mask(\n\u001b[0;32m   1817\u001b[0m         values, mapper, mask\u001b[38;5;241m=\u001b[39misna(values)\u001b[38;5;241m.\u001b[39mview(np\u001b[38;5;241m.\u001b[39muint8), convert\u001b[38;5;241m=\u001b[39mconvert\n\u001b[0;32m   1818\u001b[0m     )\n",
      "File \u001b[1;32mlib.pyx:2926\u001b[0m, in \u001b[0;36mpandas._libs.lib.map_infer\u001b[1;34m()\u001b[0m\n",
      "Cell \u001b[1;32mIn[51], line 3\u001b[0m, in \u001b[0;36mto_rail\u001b[1;34m(series)\u001b[0m\n\u001b[0;32m      1\u001b[0m \u001b[38;5;28;01mdef\u001b[39;00m \u001b[38;5;21mto_rail\u001b[39m(series):\n\u001b[0;32m      2\u001b[0m     result \u001b[38;5;241m=\u001b[39m series \u001b[38;5;241m*\u001b[39m\u001b[38;5;241m10\u001b[39m\n\u001b[1;32m----> 3\u001b[0m     \u001b[38;5;28;01mreturn\u001b[39;00m \u001b[38;5;28;43mint\u001b[39;49m\u001b[43m(\u001b[49m\u001b[43mresult\u001b[49m\u001b[43m)\u001b[49m\n",
      "\u001b[1;31mValueError\u001b[0m: cannot convert float NaN to integer"
     ]
    }
   ],
   "source": [
    "df['Price'].apply(to_rail)"
   ]
  },
  {
   "cell_type": "code",
   "execution_count": null,
   "id": "3c619f1f-882f-4464-86f6-cee0378a0400",
   "metadata": {},
   "outputs": [],
   "source": []
  },
  {
   "cell_type": "code",
   "execution_count": null,
   "id": "24ae28ea-8dc4-4d29-bc8c-ff2322d54a7e",
   "metadata": {},
   "outputs": [],
   "source": []
  }
 ],
 "metadata": {
  "kernelspec": {
   "display_name": "Python 3 (ipykernel)",
   "language": "python",
   "name": "python3"
  },
  "language_info": {
   "codemirror_mode": {
    "name": "ipython",
    "version": 3
   },
   "file_extension": ".py",
   "mimetype": "text/x-python",
   "name": "python",
   "nbconvert_exporter": "python",
   "pygments_lexer": "ipython3",
   "version": "3.12.1"
  }
 },
 "nbformat": 4,
 "nbformat_minor": 5
}
