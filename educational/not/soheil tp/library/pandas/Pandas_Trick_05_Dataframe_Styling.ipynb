{
 "cells": [
  {
   "cell_type": "markdown",
   "metadata": {},
   "source": [
    "<div class=\"alert alert-block alert-success\">\n",
    "    <h1 align=\"center\">Pandas Trick 05</h1>\n",
    "    <h3 align=\"center\">Dataframe Styling</h3>\n",
    "    <h4 align=\"center\"><a href=\"http://www.iran-machinelearning.ir\">Soheil Tehranipour</a></h5>\n",
    "</div>"
   ]
  },
  {
   "cell_type": "markdown",
   "metadata": {
    "colab_type": "text",
    "id": "gWZyYmS_UE_L"
   },
   "source": [
    "### Importing the libraries"
   ]
  },
  {
   "cell_type": "code",
   "execution_count": 1,
   "metadata": {
    "colab": {},
    "colab_type": "code",
    "id": "MxkJoQBkUIHC"
   },
   "outputs": [],
   "source": [
    "import pandas as pd"
   ]
  },
  {
   "cell_type": "code",
   "execution_count": 2,
   "metadata": {
    "colab": {
     "base_uri": "https://localhost:8080/",
     "height": 34
    },
    "colab_type": "code",
    "id": "ZaTwK7ojXr2F",
    "outputId": "0b27a96d-d11a-43e8-ab4b-87c1f01896fe"
   },
   "outputs": [
    {
     "data": {
      "text/plain": [
       "'2.1.4'"
      ]
     },
     "execution_count": 2,
     "metadata": {},
     "output_type": "execute_result"
    }
   ],
   "source": [
    "pd.__version__"
   ]
  },
  {
   "cell_type": "markdown",
   "metadata": {
    "colab_type": "text",
    "id": "1E0Q3aoKUCRX"
   },
   "source": [
    "## Import Dataset & Make Dataframe"
   ]
  },
  {
   "cell_type": "code",
   "execution_count": 3,
   "metadata": {},
   "outputs": [
    {
     "data": {
      "text/html": [
       "<div>\n",
       "<style scoped>\n",
       "    .dataframe tbody tr th:only-of-type {\n",
       "        vertical-align: middle;\n",
       "    }\n",
       "\n",
       "    .dataframe tbody tr th {\n",
       "        vertical-align: top;\n",
       "    }\n",
       "\n",
       "    .dataframe thead th {\n",
       "        text-align: right;\n",
       "    }\n",
       "</style>\n",
       "<table border=\"1\" class=\"dataframe\">\n",
       "  <thead>\n",
       "    <tr style=\"text-align: right;\">\n",
       "      <th></th>\n",
       "      <th>Date</th>\n",
       "      <th>Close</th>\n",
       "      <th>Volume</th>\n",
       "      <th>Symbol</th>\n",
       "    </tr>\n",
       "  </thead>\n",
       "  <tbody>\n",
       "    <tr>\n",
       "      <th>0</th>\n",
       "      <td>2016-10-03</td>\n",
       "      <td>31.50</td>\n",
       "      <td>14070500</td>\n",
       "      <td>CSCO</td>\n",
       "    </tr>\n",
       "    <tr>\n",
       "      <th>1</th>\n",
       "      <td>2016-10-03</td>\n",
       "      <td>112.52</td>\n",
       "      <td>21701800</td>\n",
       "      <td>AAPL</td>\n",
       "    </tr>\n",
       "    <tr>\n",
       "      <th>2</th>\n",
       "      <td>2016-10-03</td>\n",
       "      <td>57.42</td>\n",
       "      <td>19189500</td>\n",
       "      <td>MSFT</td>\n",
       "    </tr>\n",
       "    <tr>\n",
       "      <th>3</th>\n",
       "      <td>2016-10-04</td>\n",
       "      <td>113.00</td>\n",
       "      <td>29736800</td>\n",
       "      <td>AAPL</td>\n",
       "    </tr>\n",
       "    <tr>\n",
       "      <th>4</th>\n",
       "      <td>2016-10-04</td>\n",
       "      <td>57.24</td>\n",
       "      <td>20085900</td>\n",
       "      <td>MSFT</td>\n",
       "    </tr>\n",
       "  </tbody>\n",
       "</table>\n",
       "</div>"
      ],
      "text/plain": [
       "         Date   Close    Volume Symbol\n",
       "0  2016-10-03   31.50  14070500   CSCO\n",
       "1  2016-10-03  112.52  21701800   AAPL\n",
       "2  2016-10-03   57.42  19189500   MSFT\n",
       "3  2016-10-04  113.00  29736800   AAPL\n",
       "4  2016-10-04   57.24  20085900   MSFT"
      ]
     },
     "execution_count": 3,
     "metadata": {},
     "output_type": "execute_result"
    }
   ],
   "source": [
    "df = pd.read_csv(r'F:\\jupyter\\educational-\\educational\\csv\\sheil tp\\stocks.csv')\n",
    "df.head()"
   ]
  },
  {
   "cell_type": "markdown",
   "metadata": {
    "colab_type": "text",
    "id": "1E0Q3aoKUCRX"
   },
   "source": [
    "## Dataframe Styling"
   ]
  },
  {
   "cell_type": "code",
   "execution_count": 4,
   "metadata": {},
   "outputs": [
    {
     "data": {
      "text/plain": [
       "Index(['Date', 'Close', 'Volume', 'Symbol'], dtype='object')"
      ]
     },
     "execution_count": 4,
     "metadata": {},
     "output_type": "execute_result"
    }
   ],
   "source": [
    "df.columns"
   ]
  },
  {
   "cell_type": "code",
   "execution_count": 5,
   "metadata": {},
   "outputs": [],
   "source": [
    "format_dict = {'Close':'${:.2f}', 'Volume':'{:,}'}"
   ]
  },
  {
   "cell_type": "code",
   "execution_count": 6,
   "metadata": {},
   "outputs": [
    {
     "data": {
      "text/html": [
       "<style type=\"text/css\">\n",
       "</style>\n",
       "<table id=\"T_11328\">\n",
       "  <thead>\n",
       "    <tr>\n",
       "      <th class=\"blank level0\" >&nbsp;</th>\n",
       "      <th id=\"T_11328_level0_col0\" class=\"col_heading level0 col0\" >Date</th>\n",
       "      <th id=\"T_11328_level0_col1\" class=\"col_heading level0 col1\" >Close</th>\n",
       "      <th id=\"T_11328_level0_col2\" class=\"col_heading level0 col2\" >Volume</th>\n",
       "      <th id=\"T_11328_level0_col3\" class=\"col_heading level0 col3\" >Symbol</th>\n",
       "    </tr>\n",
       "  </thead>\n",
       "  <tbody>\n",
       "    <tr>\n",
       "      <th id=\"T_11328_level0_row0\" class=\"row_heading level0 row0\" >0</th>\n",
       "      <td id=\"T_11328_row0_col0\" class=\"data row0 col0\" >2016-10-03</td>\n",
       "      <td id=\"T_11328_row0_col1\" class=\"data row0 col1\" >$31.50</td>\n",
       "      <td id=\"T_11328_row0_col2\" class=\"data row0 col2\" >14,070,500</td>\n",
       "      <td id=\"T_11328_row0_col3\" class=\"data row0 col3\" >CSCO</td>\n",
       "    </tr>\n",
       "    <tr>\n",
       "      <th id=\"T_11328_level0_row1\" class=\"row_heading level0 row1\" >1</th>\n",
       "      <td id=\"T_11328_row1_col0\" class=\"data row1 col0\" >2016-10-03</td>\n",
       "      <td id=\"T_11328_row1_col1\" class=\"data row1 col1\" >$112.52</td>\n",
       "      <td id=\"T_11328_row1_col2\" class=\"data row1 col2\" >21,701,800</td>\n",
       "      <td id=\"T_11328_row1_col3\" class=\"data row1 col3\" >AAPL</td>\n",
       "    </tr>\n",
       "    <tr>\n",
       "      <th id=\"T_11328_level0_row2\" class=\"row_heading level0 row2\" >2</th>\n",
       "      <td id=\"T_11328_row2_col0\" class=\"data row2 col0\" >2016-10-03</td>\n",
       "      <td id=\"T_11328_row2_col1\" class=\"data row2 col1\" >$57.42</td>\n",
       "      <td id=\"T_11328_row2_col2\" class=\"data row2 col2\" >19,189,500</td>\n",
       "      <td id=\"T_11328_row2_col3\" class=\"data row2 col3\" >MSFT</td>\n",
       "    </tr>\n",
       "    <tr>\n",
       "      <th id=\"T_11328_level0_row3\" class=\"row_heading level0 row3\" >3</th>\n",
       "      <td id=\"T_11328_row3_col0\" class=\"data row3 col0\" >2016-10-04</td>\n",
       "      <td id=\"T_11328_row3_col1\" class=\"data row3 col1\" >$113.00</td>\n",
       "      <td id=\"T_11328_row3_col2\" class=\"data row3 col2\" >29,736,800</td>\n",
       "      <td id=\"T_11328_row3_col3\" class=\"data row3 col3\" >AAPL</td>\n",
       "    </tr>\n",
       "    <tr>\n",
       "      <th id=\"T_11328_level0_row4\" class=\"row_heading level0 row4\" >4</th>\n",
       "      <td id=\"T_11328_row4_col0\" class=\"data row4 col0\" >2016-10-04</td>\n",
       "      <td id=\"T_11328_row4_col1\" class=\"data row4 col1\" >$57.24</td>\n",
       "      <td id=\"T_11328_row4_col2\" class=\"data row4 col2\" >20,085,900</td>\n",
       "      <td id=\"T_11328_row4_col3\" class=\"data row4 col3\" >MSFT</td>\n",
       "    </tr>\n",
       "    <tr>\n",
       "      <th id=\"T_11328_level0_row5\" class=\"row_heading level0 row5\" >5</th>\n",
       "      <td id=\"T_11328_row5_col0\" class=\"data row5 col0\" >2016-10-04</td>\n",
       "      <td id=\"T_11328_row5_col1\" class=\"data row5 col1\" >$31.35</td>\n",
       "      <td id=\"T_11328_row5_col2\" class=\"data row5 col2\" >18,460,400</td>\n",
       "      <td id=\"T_11328_row5_col3\" class=\"data row5 col3\" >CSCO</td>\n",
       "    </tr>\n",
       "    <tr>\n",
       "      <th id=\"T_11328_level0_row6\" class=\"row_heading level0 row6\" >6</th>\n",
       "      <td id=\"T_11328_row6_col0\" class=\"data row6 col0\" >2016-10-05</td>\n",
       "      <td id=\"T_11328_row6_col1\" class=\"data row6 col1\" >$57.64</td>\n",
       "      <td id=\"T_11328_row6_col2\" class=\"data row6 col2\" >16,726,400</td>\n",
       "      <td id=\"T_11328_row6_col3\" class=\"data row6 col3\" >MSFT</td>\n",
       "    </tr>\n",
       "    <tr>\n",
       "      <th id=\"T_11328_level0_row7\" class=\"row_heading level0 row7\" >7</th>\n",
       "      <td id=\"T_11328_row7_col0\" class=\"data row7 col0\" >2016-10-05</td>\n",
       "      <td id=\"T_11328_row7_col1\" class=\"data row7 col1\" >$31.59</td>\n",
       "      <td id=\"T_11328_row7_col2\" class=\"data row7 col2\" >11,808,600</td>\n",
       "      <td id=\"T_11328_row7_col3\" class=\"data row7 col3\" >CSCO</td>\n",
       "    </tr>\n",
       "    <tr>\n",
       "      <th id=\"T_11328_level0_row8\" class=\"row_heading level0 row8\" >8</th>\n",
       "      <td id=\"T_11328_row8_col0\" class=\"data row8 col0\" >2016-10-05</td>\n",
       "      <td id=\"T_11328_row8_col1\" class=\"data row8 col1\" >$113.05</td>\n",
       "      <td id=\"T_11328_row8_col2\" class=\"data row8 col2\" >21,453,100</td>\n",
       "      <td id=\"T_11328_row8_col3\" class=\"data row8 col3\" >AAPL</td>\n",
       "    </tr>\n",
       "  </tbody>\n",
       "</table>\n"
      ],
      "text/plain": [
       "<pandas.io.formats.style.Styler at 0x221c9b39b20>"
      ]
     },
     "execution_count": 6,
     "metadata": {},
     "output_type": "execute_result"
    }
   ],
   "source": [
    "df.style.format(format_dict)"
   ]
  },
  {
   "cell_type": "code",
   "execution_count": 23,
   "metadata": {},
   "outputs": [
    {
     "data": {
      "text/html": [
       "<style type=\"text/css\">\n",
       "#T_17d70_row5_col1 {\n",
       "  background-color: red;\n",
       "}\n",
       "#T_17d70_row8_col1 {\n",
       "  background-color: lightgreen;\n",
       "}\n",
       "</style>\n",
       "<table id=\"T_17d70\">\n",
       "  <thead>\n",
       "    <tr>\n",
       "      <th class=\"blank level0\" >&nbsp;</th>\n",
       "      <th id=\"T_17d70_level0_col0\" class=\"col_heading level0 col0\" >Date</th>\n",
       "      <th id=\"T_17d70_level0_col1\" class=\"col_heading level0 col1\" >Close</th>\n",
       "      <th id=\"T_17d70_level0_col2\" class=\"col_heading level0 col2\" >Volume</th>\n",
       "      <th id=\"T_17d70_level0_col3\" class=\"col_heading level0 col3\" >Symbol</th>\n",
       "    </tr>\n",
       "  </thead>\n",
       "  <tbody>\n",
       "    <tr>\n",
       "      <th id=\"T_17d70_level0_row0\" class=\"row_heading level0 row0\" >0</th>\n",
       "      <td id=\"T_17d70_row0_col0\" class=\"data row0 col0\" >2016-10-03</td>\n",
       "      <td id=\"T_17d70_row0_col1\" class=\"data row0 col1\" >$31.50</td>\n",
       "      <td id=\"T_17d70_row0_col2\" class=\"data row0 col2\" >14,070,500</td>\n",
       "      <td id=\"T_17d70_row0_col3\" class=\"data row0 col3\" >CSCO</td>\n",
       "    </tr>\n",
       "    <tr>\n",
       "      <th id=\"T_17d70_level0_row1\" class=\"row_heading level0 row1\" >1</th>\n",
       "      <td id=\"T_17d70_row1_col0\" class=\"data row1 col0\" >2016-10-03</td>\n",
       "      <td id=\"T_17d70_row1_col1\" class=\"data row1 col1\" >$112.52</td>\n",
       "      <td id=\"T_17d70_row1_col2\" class=\"data row1 col2\" >21,701,800</td>\n",
       "      <td id=\"T_17d70_row1_col3\" class=\"data row1 col3\" >AAPL</td>\n",
       "    </tr>\n",
       "    <tr>\n",
       "      <th id=\"T_17d70_level0_row2\" class=\"row_heading level0 row2\" >2</th>\n",
       "      <td id=\"T_17d70_row2_col0\" class=\"data row2 col0\" >2016-10-03</td>\n",
       "      <td id=\"T_17d70_row2_col1\" class=\"data row2 col1\" >$57.42</td>\n",
       "      <td id=\"T_17d70_row2_col2\" class=\"data row2 col2\" >19,189,500</td>\n",
       "      <td id=\"T_17d70_row2_col3\" class=\"data row2 col3\" >MSFT</td>\n",
       "    </tr>\n",
       "    <tr>\n",
       "      <th id=\"T_17d70_level0_row3\" class=\"row_heading level0 row3\" >3</th>\n",
       "      <td id=\"T_17d70_row3_col0\" class=\"data row3 col0\" >2016-10-04</td>\n",
       "      <td id=\"T_17d70_row3_col1\" class=\"data row3 col1\" >$113.00</td>\n",
       "      <td id=\"T_17d70_row3_col2\" class=\"data row3 col2\" >29,736,800</td>\n",
       "      <td id=\"T_17d70_row3_col3\" class=\"data row3 col3\" >AAPL</td>\n",
       "    </tr>\n",
       "    <tr>\n",
       "      <th id=\"T_17d70_level0_row4\" class=\"row_heading level0 row4\" >4</th>\n",
       "      <td id=\"T_17d70_row4_col0\" class=\"data row4 col0\" >2016-10-04</td>\n",
       "      <td id=\"T_17d70_row4_col1\" class=\"data row4 col1\" >$57.24</td>\n",
       "      <td id=\"T_17d70_row4_col2\" class=\"data row4 col2\" >20,085,900</td>\n",
       "      <td id=\"T_17d70_row4_col3\" class=\"data row4 col3\" >MSFT</td>\n",
       "    </tr>\n",
       "    <tr>\n",
       "      <th id=\"T_17d70_level0_row5\" class=\"row_heading level0 row5\" >5</th>\n",
       "      <td id=\"T_17d70_row5_col0\" class=\"data row5 col0\" >2016-10-04</td>\n",
       "      <td id=\"T_17d70_row5_col1\" class=\"data row5 col1\" >$31.35</td>\n",
       "      <td id=\"T_17d70_row5_col2\" class=\"data row5 col2\" >18,460,400</td>\n",
       "      <td id=\"T_17d70_row5_col3\" class=\"data row5 col3\" >CSCO</td>\n",
       "    </tr>\n",
       "    <tr>\n",
       "      <th id=\"T_17d70_level0_row6\" class=\"row_heading level0 row6\" >6</th>\n",
       "      <td id=\"T_17d70_row6_col0\" class=\"data row6 col0\" >2016-10-05</td>\n",
       "      <td id=\"T_17d70_row6_col1\" class=\"data row6 col1\" >$57.64</td>\n",
       "      <td id=\"T_17d70_row6_col2\" class=\"data row6 col2\" >16,726,400</td>\n",
       "      <td id=\"T_17d70_row6_col3\" class=\"data row6 col3\" >MSFT</td>\n",
       "    </tr>\n",
       "    <tr>\n",
       "      <th id=\"T_17d70_level0_row7\" class=\"row_heading level0 row7\" >7</th>\n",
       "      <td id=\"T_17d70_row7_col0\" class=\"data row7 col0\" >2016-10-05</td>\n",
       "      <td id=\"T_17d70_row7_col1\" class=\"data row7 col1\" >$31.59</td>\n",
       "      <td id=\"T_17d70_row7_col2\" class=\"data row7 col2\" >11,808,600</td>\n",
       "      <td id=\"T_17d70_row7_col3\" class=\"data row7 col3\" >CSCO</td>\n",
       "    </tr>\n",
       "    <tr>\n",
       "      <th id=\"T_17d70_level0_row8\" class=\"row_heading level0 row8\" >8</th>\n",
       "      <td id=\"T_17d70_row8_col0\" class=\"data row8 col0\" >2016-10-05</td>\n",
       "      <td id=\"T_17d70_row8_col1\" class=\"data row8 col1\" >$113.05</td>\n",
       "      <td id=\"T_17d70_row8_col2\" class=\"data row8 col2\" >21,453,100</td>\n",
       "      <td id=\"T_17d70_row8_col3\" class=\"data row8 col3\" >AAPL</td>\n",
       "    </tr>\n",
       "  </tbody>\n",
       "</table>\n"
      ],
      "text/plain": [
       "<pandas.io.formats.style.Styler at 0x221cb922960>"
      ]
     },
     "execution_count": 23,
     "metadata": {},
     "output_type": "execute_result"
    }
   ],
   "source": [
    "styled_df = (df.style.format(format_dict)\n",
    "            .highlight_min('Close', color='red')\n",
    "            .highlight_max('Close', color='lightgreen'))\n",
    "\n",
    "styled_df"
   ]
  },
  {
   "cell_type": "code",
   "execution_count": 20,
   "metadata": {},
   "outputs": [
    {
     "data": {
      "text/html": [
       "<style type=\"text/css\">\n",
       "#T_b1cb7_row0_col2 {\n",
       "  background-color: #deebf7;\n",
       "  color: #000000;\n",
       "}\n",
       "#T_b1cb7_row1_col2 {\n",
       "  background-color: #5aa2cf;\n",
       "  color: #f1f1f1;\n",
       "}\n",
       "#T_b1cb7_row2_col2 {\n",
       "  background-color: #8fc2de;\n",
       "  color: #000000;\n",
       "}\n",
       "#T_b1cb7_row3_col2 {\n",
       "  background-color: #08306b;\n",
       "  color: #f1f1f1;\n",
       "}\n",
       "#T_b1cb7_row4_col2 {\n",
       "  background-color: #7ab6d9;\n",
       "  color: #000000;\n",
       "}\n",
       "#T_b1cb7_row5_col2 {\n",
       "  background-color: #a0cbe2;\n",
       "  color: #000000;\n",
       "}\n",
       "#T_b1cb7_row6_col2 {\n",
       "  background-color: #bed8ec;\n",
       "  color: #000000;\n",
       "}\n",
       "#T_b1cb7_row7_col2 {\n",
       "  background-color: #f7fbff;\n",
       "  color: #000000;\n",
       "}\n",
       "#T_b1cb7_row8_col2 {\n",
       "  background-color: #5fa6d1;\n",
       "  color: #f1f1f1;\n",
       "}\n",
       "</style>\n",
       "<table id=\"T_b1cb7\">\n",
       "  <thead>\n",
       "    <tr>\n",
       "      <th class=\"blank level0\" >&nbsp;</th>\n",
       "      <th id=\"T_b1cb7_level0_col0\" class=\"col_heading level0 col0\" >Date</th>\n",
       "      <th id=\"T_b1cb7_level0_col1\" class=\"col_heading level0 col1\" >Close</th>\n",
       "      <th id=\"T_b1cb7_level0_col2\" class=\"col_heading level0 col2\" >Volume</th>\n",
       "      <th id=\"T_b1cb7_level0_col3\" class=\"col_heading level0 col3\" >Symbol</th>\n",
       "    </tr>\n",
       "  </thead>\n",
       "  <tbody>\n",
       "    <tr>\n",
       "      <th id=\"T_b1cb7_level0_row0\" class=\"row_heading level0 row0\" >0</th>\n",
       "      <td id=\"T_b1cb7_row0_col0\" class=\"data row0 col0\" >2016-10-03</td>\n",
       "      <td id=\"T_b1cb7_row0_col1\" class=\"data row0 col1\" >$31.50</td>\n",
       "      <td id=\"T_b1cb7_row0_col2\" class=\"data row0 col2\" >14,070,500</td>\n",
       "      <td id=\"T_b1cb7_row0_col3\" class=\"data row0 col3\" >CSCO</td>\n",
       "    </tr>\n",
       "    <tr>\n",
       "      <th id=\"T_b1cb7_level0_row1\" class=\"row_heading level0 row1\" >1</th>\n",
       "      <td id=\"T_b1cb7_row1_col0\" class=\"data row1 col0\" >2016-10-03</td>\n",
       "      <td id=\"T_b1cb7_row1_col1\" class=\"data row1 col1\" >$112.52</td>\n",
       "      <td id=\"T_b1cb7_row1_col2\" class=\"data row1 col2\" >21,701,800</td>\n",
       "      <td id=\"T_b1cb7_row1_col3\" class=\"data row1 col3\" >AAPL</td>\n",
       "    </tr>\n",
       "    <tr>\n",
       "      <th id=\"T_b1cb7_level0_row2\" class=\"row_heading level0 row2\" >2</th>\n",
       "      <td id=\"T_b1cb7_row2_col0\" class=\"data row2 col0\" >2016-10-03</td>\n",
       "      <td id=\"T_b1cb7_row2_col1\" class=\"data row2 col1\" >$57.42</td>\n",
       "      <td id=\"T_b1cb7_row2_col2\" class=\"data row2 col2\" >19,189,500</td>\n",
       "      <td id=\"T_b1cb7_row2_col3\" class=\"data row2 col3\" >MSFT</td>\n",
       "    </tr>\n",
       "    <tr>\n",
       "      <th id=\"T_b1cb7_level0_row3\" class=\"row_heading level0 row3\" >3</th>\n",
       "      <td id=\"T_b1cb7_row3_col0\" class=\"data row3 col0\" >2016-10-04</td>\n",
       "      <td id=\"T_b1cb7_row3_col1\" class=\"data row3 col1\" >$113.00</td>\n",
       "      <td id=\"T_b1cb7_row3_col2\" class=\"data row3 col2\" >29,736,800</td>\n",
       "      <td id=\"T_b1cb7_row3_col3\" class=\"data row3 col3\" >AAPL</td>\n",
       "    </tr>\n",
       "    <tr>\n",
       "      <th id=\"T_b1cb7_level0_row4\" class=\"row_heading level0 row4\" >4</th>\n",
       "      <td id=\"T_b1cb7_row4_col0\" class=\"data row4 col0\" >2016-10-04</td>\n",
       "      <td id=\"T_b1cb7_row4_col1\" class=\"data row4 col1\" >$57.24</td>\n",
       "      <td id=\"T_b1cb7_row4_col2\" class=\"data row4 col2\" >20,085,900</td>\n",
       "      <td id=\"T_b1cb7_row4_col3\" class=\"data row4 col3\" >MSFT</td>\n",
       "    </tr>\n",
       "    <tr>\n",
       "      <th id=\"T_b1cb7_level0_row5\" class=\"row_heading level0 row5\" >5</th>\n",
       "      <td id=\"T_b1cb7_row5_col0\" class=\"data row5 col0\" >2016-10-04</td>\n",
       "      <td id=\"T_b1cb7_row5_col1\" class=\"data row5 col1\" >$31.35</td>\n",
       "      <td id=\"T_b1cb7_row5_col2\" class=\"data row5 col2\" >18,460,400</td>\n",
       "      <td id=\"T_b1cb7_row5_col3\" class=\"data row5 col3\" >CSCO</td>\n",
       "    </tr>\n",
       "    <tr>\n",
       "      <th id=\"T_b1cb7_level0_row6\" class=\"row_heading level0 row6\" >6</th>\n",
       "      <td id=\"T_b1cb7_row6_col0\" class=\"data row6 col0\" >2016-10-05</td>\n",
       "      <td id=\"T_b1cb7_row6_col1\" class=\"data row6 col1\" >$57.64</td>\n",
       "      <td id=\"T_b1cb7_row6_col2\" class=\"data row6 col2\" >16,726,400</td>\n",
       "      <td id=\"T_b1cb7_row6_col3\" class=\"data row6 col3\" >MSFT</td>\n",
       "    </tr>\n",
       "    <tr>\n",
       "      <th id=\"T_b1cb7_level0_row7\" class=\"row_heading level0 row7\" >7</th>\n",
       "      <td id=\"T_b1cb7_row7_col0\" class=\"data row7 col0\" >2016-10-05</td>\n",
       "      <td id=\"T_b1cb7_row7_col1\" class=\"data row7 col1\" >$31.59</td>\n",
       "      <td id=\"T_b1cb7_row7_col2\" class=\"data row7 col2\" >11,808,600</td>\n",
       "      <td id=\"T_b1cb7_row7_col3\" class=\"data row7 col3\" >CSCO</td>\n",
       "    </tr>\n",
       "    <tr>\n",
       "      <th id=\"T_b1cb7_level0_row8\" class=\"row_heading level0 row8\" >8</th>\n",
       "      <td id=\"T_b1cb7_row8_col0\" class=\"data row8 col0\" >2016-10-05</td>\n",
       "      <td id=\"T_b1cb7_row8_col1\" class=\"data row8 col1\" >$113.05</td>\n",
       "      <td id=\"T_b1cb7_row8_col2\" class=\"data row8 col2\" >21,453,100</td>\n",
       "      <td id=\"T_b1cb7_row8_col3\" class=\"data row8 col3\" >AAPL</td>\n",
       "    </tr>\n",
       "  </tbody>\n",
       "</table>\n"
      ],
      "text/plain": [
       "<pandas.io.formats.style.Styler at 0x221cb920710>"
      ]
     },
     "execution_count": 21,
     "metadata": {},
     "output_type": "execute_result"
    }
   ],
   "source": [
    "df.style.format(format_dict).background_gradient(subset='Volume', cmap='Blues')\n"
   ]
  },
  {
   "cell_type": "code",
   "execution_count": 18,
   "metadata": {},
   "outputs": [
    {
     "data": {
      "text/html": [
       "<style type=\"text/css\">\n",
       "#T_c80fb_row0_col2 {\n",
       "  width: 10em;\n",
       "  background: linear-gradient(90deg, transparent 50.0%, lightblue 50.0%, lightblue 73.7%, transparent 73.7%);\n",
       "}\n",
       "#T_c80fb_row1_col2 {\n",
       "  width: 10em;\n",
       "  background: linear-gradient(90deg, transparent 50.0%, lightblue 50.0%, lightblue 86.5%, transparent 86.5%);\n",
       "}\n",
       "#T_c80fb_row2_col2 {\n",
       "  width: 10em;\n",
       "  background: linear-gradient(90deg, transparent 50.0%, lightblue 50.0%, lightblue 82.3%, transparent 82.3%);\n",
       "}\n",
       "#T_c80fb_row3_col2 {\n",
       "  width: 10em;\n",
       "  background: linear-gradient(90deg, transparent 50.0%, lightblue 50.0%, lightblue 100.0%, transparent 100.0%);\n",
       "}\n",
       "#T_c80fb_row4_col2 {\n",
       "  width: 10em;\n",
       "  background: linear-gradient(90deg, transparent 50.0%, lightblue 50.0%, lightblue 83.8%, transparent 83.8%);\n",
       "}\n",
       "#T_c80fb_row5_col2 {\n",
       "  width: 10em;\n",
       "  background: linear-gradient(90deg, transparent 50.0%, lightblue 50.0%, lightblue 81.0%, transparent 81.0%);\n",
       "}\n",
       "#T_c80fb_row6_col2 {\n",
       "  width: 10em;\n",
       "  background: linear-gradient(90deg, transparent 50.0%, lightblue 50.0%, lightblue 78.1%, transparent 78.1%);\n",
       "}\n",
       "#T_c80fb_row7_col2 {\n",
       "  width: 10em;\n",
       "  background: linear-gradient(90deg, transparent 50.0%, lightblue 50.0%, lightblue 69.9%, transparent 69.9%);\n",
       "}\n",
       "#T_c80fb_row8_col2 {\n",
       "  width: 10em;\n",
       "  background: linear-gradient(90deg, transparent 50.0%, lightblue 50.0%, lightblue 86.1%, transparent 86.1%);\n",
       "}\n",
       "</style>\n",
       "<table id=\"T_c80fb\">\n",
       "  <caption>Stock Prices from October 2016</caption>\n",
       "  <thead>\n",
       "    <tr>\n",
       "      <th class=\"blank level0\" >&nbsp;</th>\n",
       "      <th id=\"T_c80fb_level0_col0\" class=\"col_heading level0 col0\" >Date</th>\n",
       "      <th id=\"T_c80fb_level0_col1\" class=\"col_heading level0 col1\" >Close</th>\n",
       "      <th id=\"T_c80fb_level0_col2\" class=\"col_heading level0 col2\" >Volume</th>\n",
       "      <th id=\"T_c80fb_level0_col3\" class=\"col_heading level0 col3\" >Symbol</th>\n",
       "    </tr>\n",
       "  </thead>\n",
       "  <tbody>\n",
       "    <tr>\n",
       "      <th id=\"T_c80fb_level0_row0\" class=\"row_heading level0 row0\" >0</th>\n",
       "      <td id=\"T_c80fb_row0_col0\" class=\"data row0 col0\" >2016-10-03</td>\n",
       "      <td id=\"T_c80fb_row0_col1\" class=\"data row0 col1\" >$31.50</td>\n",
       "      <td id=\"T_c80fb_row0_col2\" class=\"data row0 col2\" >14,070,500</td>\n",
       "      <td id=\"T_c80fb_row0_col3\" class=\"data row0 col3\" >CSCO</td>\n",
       "    </tr>\n",
       "    <tr>\n",
       "      <th id=\"T_c80fb_level0_row1\" class=\"row_heading level0 row1\" >1</th>\n",
       "      <td id=\"T_c80fb_row1_col0\" class=\"data row1 col0\" >2016-10-03</td>\n",
       "      <td id=\"T_c80fb_row1_col1\" class=\"data row1 col1\" >$112.52</td>\n",
       "      <td id=\"T_c80fb_row1_col2\" class=\"data row1 col2\" >21,701,800</td>\n",
       "      <td id=\"T_c80fb_row1_col3\" class=\"data row1 col3\" >AAPL</td>\n",
       "    </tr>\n",
       "    <tr>\n",
       "      <th id=\"T_c80fb_level0_row2\" class=\"row_heading level0 row2\" >2</th>\n",
       "      <td id=\"T_c80fb_row2_col0\" class=\"data row2 col0\" >2016-10-03</td>\n",
       "      <td id=\"T_c80fb_row2_col1\" class=\"data row2 col1\" >$57.42</td>\n",
       "      <td id=\"T_c80fb_row2_col2\" class=\"data row2 col2\" >19,189,500</td>\n",
       "      <td id=\"T_c80fb_row2_col3\" class=\"data row2 col3\" >MSFT</td>\n",
       "    </tr>\n",
       "    <tr>\n",
       "      <th id=\"T_c80fb_level0_row3\" class=\"row_heading level0 row3\" >3</th>\n",
       "      <td id=\"T_c80fb_row3_col0\" class=\"data row3 col0\" >2016-10-04</td>\n",
       "      <td id=\"T_c80fb_row3_col1\" class=\"data row3 col1\" >$113.00</td>\n",
       "      <td id=\"T_c80fb_row3_col2\" class=\"data row3 col2\" >29,736,800</td>\n",
       "      <td id=\"T_c80fb_row3_col3\" class=\"data row3 col3\" >AAPL</td>\n",
       "    </tr>\n",
       "    <tr>\n",
       "      <th id=\"T_c80fb_level0_row4\" class=\"row_heading level0 row4\" >4</th>\n",
       "      <td id=\"T_c80fb_row4_col0\" class=\"data row4 col0\" >2016-10-04</td>\n",
       "      <td id=\"T_c80fb_row4_col1\" class=\"data row4 col1\" >$57.24</td>\n",
       "      <td id=\"T_c80fb_row4_col2\" class=\"data row4 col2\" >20,085,900</td>\n",
       "      <td id=\"T_c80fb_row4_col3\" class=\"data row4 col3\" >MSFT</td>\n",
       "    </tr>\n",
       "    <tr>\n",
       "      <th id=\"T_c80fb_level0_row5\" class=\"row_heading level0 row5\" >5</th>\n",
       "      <td id=\"T_c80fb_row5_col0\" class=\"data row5 col0\" >2016-10-04</td>\n",
       "      <td id=\"T_c80fb_row5_col1\" class=\"data row5 col1\" >$31.35</td>\n",
       "      <td id=\"T_c80fb_row5_col2\" class=\"data row5 col2\" >18,460,400</td>\n",
       "      <td id=\"T_c80fb_row5_col3\" class=\"data row5 col3\" >CSCO</td>\n",
       "    </tr>\n",
       "    <tr>\n",
       "      <th id=\"T_c80fb_level0_row6\" class=\"row_heading level0 row6\" >6</th>\n",
       "      <td id=\"T_c80fb_row6_col0\" class=\"data row6 col0\" >2016-10-05</td>\n",
       "      <td id=\"T_c80fb_row6_col1\" class=\"data row6 col1\" >$57.64</td>\n",
       "      <td id=\"T_c80fb_row6_col2\" class=\"data row6 col2\" >16,726,400</td>\n",
       "      <td id=\"T_c80fb_row6_col3\" class=\"data row6 col3\" >MSFT</td>\n",
       "    </tr>\n",
       "    <tr>\n",
       "      <th id=\"T_c80fb_level0_row7\" class=\"row_heading level0 row7\" >7</th>\n",
       "      <td id=\"T_c80fb_row7_col0\" class=\"data row7 col0\" >2016-10-05</td>\n",
       "      <td id=\"T_c80fb_row7_col1\" class=\"data row7 col1\" >$31.59</td>\n",
       "      <td id=\"T_c80fb_row7_col2\" class=\"data row7 col2\" >11,808,600</td>\n",
       "      <td id=\"T_c80fb_row7_col3\" class=\"data row7 col3\" >CSCO</td>\n",
       "    </tr>\n",
       "    <tr>\n",
       "      <th id=\"T_c80fb_level0_row8\" class=\"row_heading level0 row8\" >8</th>\n",
       "      <td id=\"T_c80fb_row8_col0\" class=\"data row8 col0\" >2016-10-05</td>\n",
       "      <td id=\"T_c80fb_row8_col1\" class=\"data row8 col1\" >$113.05</td>\n",
       "      <td id=\"T_c80fb_row8_col2\" class=\"data row8 col2\" >21,453,100</td>\n",
       "      <td id=\"T_c80fb_row8_col3\" class=\"data row8 col3\" >AAPL</td>\n",
       "    </tr>\n",
       "  </tbody>\n",
       "</table>\n"
      ],
      "text/plain": [
       "<pandas.io.formats.style.Styler at 0x221cba60680>"
      ]
     },
     "execution_count": 18,
     "metadata": {},
     "output_type": "execute_result"
    }
   ],
   "source": [
    "(df.style.format(format_dict)\n",
    ".bar('Volume', color='lightblue', align='zero')\n",
    ".set_caption('Stock Prices from October 2016')\n",
    ")"
   ]
  },
  {
   "cell_type": "markdown",
   "metadata": {},
   "source": [
    "<img src=\"https://webna.ir/wp-content/uploads/2018/08/%D9%85%DA%A9%D8%AA%D8%A8-%D8%AE%D9%88%D9%86%D9%87.png\" width=50% />"
   ]
  }
 ],
 "metadata": {
  "colab": {
   "collapsed_sections": [],
   "name": "artificial_neural_network.ipynb",
   "provenance": [],
   "toc_visible": true
  },
  "kernelspec": {
   "display_name": "Python 3",
   "language": "python",
   "name": "python3"
  },
  "language_info": {
   "codemirror_mode": {
    "name": "ipython",
    "version": 3
   },
   "file_extension": ".py",
   "mimetype": "text/x-python",
   "name": "python",
   "nbconvert_exporter": "python",
   "pygments_lexer": "ipython3",
   "version": "3.12.0"
  }
 },
 "nbformat": 4,
 "nbformat_minor": 1
}
